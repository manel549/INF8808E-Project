{
 "cells": [
  {
   "cell_type": "code",
   "execution_count": 4,
   "id": "259db8e6",
   "metadata": {},
   "outputs": [
    {
     "data": {
      "text/html": [
       "<div>\n",
       "<style scoped>\n",
       "    .dataframe tbody tr th:only-of-type {\n",
       "        vertical-align: middle;\n",
       "    }\n",
       "\n",
       "    .dataframe tbody tr th {\n",
       "        vertical-align: top;\n",
       "    }\n",
       "\n",
       "    .dataframe thead th {\n",
       "        text-align: right;\n",
       "    }\n",
       "</style>\n",
       "<table border=\"1\" class=\"dataframe\">\n",
       "  <thead>\n",
       "    <tr style=\"text-align: right;\">\n",
       "      <th></th>\n",
       "      <th>AN</th>\n",
       "      <th>NO_SEQ_COLL</th>\n",
       "      <th>MS_ACCDN</th>\n",
       "      <th>HR_ACCDN</th>\n",
       "      <th>JR_SEMN_ACCDN</th>\n",
       "      <th>GRAVITE</th>\n",
       "      <th>NB_VICTIMES_TOTAL</th>\n",
       "      <th>NB_VEH_IMPLIQUES_ACCDN</th>\n",
       "      <th>REG_ADM</th>\n",
       "      <th>VITESSE_AUTOR</th>\n",
       "      <th>...</th>\n",
       "      <th>CD_ASPCT_ROUTE</th>\n",
       "      <th>CD_LOCLN_ACCDN</th>\n",
       "      <th>CD_CONFG_ROUTE</th>\n",
       "      <th>CD_ZON_TRAVX_ROUTR</th>\n",
       "      <th>CD_COND_METEO</th>\n",
       "      <th>IND_AUTO_CAMION_LEGER</th>\n",
       "      <th>IND_VEH_LOURD</th>\n",
       "      <th>IND_MOTO_CYCLO</th>\n",
       "      <th>IND_VELO</th>\n",
       "      <th>IND_PIETON</th>\n",
       "    </tr>\n",
       "  </thead>\n",
       "  <tbody>\n",
       "    <tr>\n",
       "      <th>0</th>\n",
       "      <td>2018</td>\n",
       "      <td>2018 _ 1</td>\n",
       "      <td>1</td>\n",
       "      <td>08:00:00-11:59:00</td>\n",
       "      <td>SEM</td>\n",
       "      <td>Dommages matériels seulement</td>\n",
       "      <td>0</td>\n",
       "      <td>2.0</td>\n",
       "      <td>Capitale-Nationale (03)</td>\n",
       "      <td>NaN</td>\n",
       "      <td>...</td>\n",
       "      <td>Courbe</td>\n",
       "      <td>99.0</td>\n",
       "      <td>23.0</td>\n",
       "      <td>NaN</td>\n",
       "      <td>12.0</td>\n",
       "      <td>O</td>\n",
       "      <td>N</td>\n",
       "      <td>N</td>\n",
       "      <td>N</td>\n",
       "      <td>N</td>\n",
       "    </tr>\n",
       "    <tr>\n",
       "      <th>1</th>\n",
       "      <td>2018</td>\n",
       "      <td>2018 _ 2</td>\n",
       "      <td>1</td>\n",
       "      <td>12:00:00-15:59:00</td>\n",
       "      <td>SEM</td>\n",
       "      <td>Dommages matériels seulement</td>\n",
       "      <td>0</td>\n",
       "      <td>2.0</td>\n",
       "      <td>Montréal (06)</td>\n",
       "      <td>NaN</td>\n",
       "      <td>...</td>\n",
       "      <td>Droit</td>\n",
       "      <td>99.0</td>\n",
       "      <td>9.0</td>\n",
       "      <td>NaN</td>\n",
       "      <td>17.0</td>\n",
       "      <td>O</td>\n",
       "      <td>N</td>\n",
       "      <td>N</td>\n",
       "      <td>N</td>\n",
       "      <td>N</td>\n",
       "    </tr>\n",
       "    <tr>\n",
       "      <th>2</th>\n",
       "      <td>2018</td>\n",
       "      <td>2018 _ 3</td>\n",
       "      <td>1</td>\n",
       "      <td>12:00:00-15:59:00</td>\n",
       "      <td>SEM</td>\n",
       "      <td>Dommages matériels inférieurs au seuil de rapp...</td>\n",
       "      <td>0</td>\n",
       "      <td>2.0</td>\n",
       "      <td>Montréal (06)</td>\n",
       "      <td>50</td>\n",
       "      <td>...</td>\n",
       "      <td>Droit</td>\n",
       "      <td>99.0</td>\n",
       "      <td>1.0</td>\n",
       "      <td>NaN</td>\n",
       "      <td>17.0</td>\n",
       "      <td>N</td>\n",
       "      <td>O</td>\n",
       "      <td>N</td>\n",
       "      <td>N</td>\n",
       "      <td>N</td>\n",
       "    </tr>\n",
       "    <tr>\n",
       "      <th>3</th>\n",
       "      <td>2018</td>\n",
       "      <td>2018 _ 4</td>\n",
       "      <td>1</td>\n",
       "      <td>04:00:00-07:59:00</td>\n",
       "      <td>SEM</td>\n",
       "      <td>Dommages matériels inférieurs au seuil de rapp...</td>\n",
       "      <td>0</td>\n",
       "      <td>2.0</td>\n",
       "      <td>Montréal (06)</td>\n",
       "      <td>50</td>\n",
       "      <td>...</td>\n",
       "      <td>Droit</td>\n",
       "      <td>99.0</td>\n",
       "      <td>23.0</td>\n",
       "      <td>NaN</td>\n",
       "      <td>17.0</td>\n",
       "      <td>N</td>\n",
       "      <td>O</td>\n",
       "      <td>N</td>\n",
       "      <td>N</td>\n",
       "      <td>N</td>\n",
       "    </tr>\n",
       "    <tr>\n",
       "      <th>4</th>\n",
       "      <td>2018</td>\n",
       "      <td>2018 _ 5</td>\n",
       "      <td>1</td>\n",
       "      <td>12:00:00-15:59:00</td>\n",
       "      <td>SEM</td>\n",
       "      <td>Dommages matériels seulement</td>\n",
       "      <td>0</td>\n",
       "      <td>1.0</td>\n",
       "      <td>Chaudière-Appalaches (12)</td>\n",
       "      <td>50</td>\n",
       "      <td>...</td>\n",
       "      <td>Droit</td>\n",
       "      <td>99.0</td>\n",
       "      <td>23.0</td>\n",
       "      <td>NaN</td>\n",
       "      <td>11.0</td>\n",
       "      <td>N</td>\n",
       "      <td>O</td>\n",
       "      <td>N</td>\n",
       "      <td>N</td>\n",
       "      <td>N</td>\n",
       "    </tr>\n",
       "  </tbody>\n",
       "</table>\n",
       "<p>5 rows × 25 columns</p>\n",
       "</div>"
      ],
      "text/plain": [
       "     AN NO_SEQ_COLL  MS_ACCDN           HR_ACCDN JR_SEMN_ACCDN  \\\n",
       "0  2018    2018 _ 1         1  08:00:00-11:59:00           SEM   \n",
       "1  2018    2018 _ 2         1  12:00:00-15:59:00           SEM   \n",
       "2  2018    2018 _ 3         1  12:00:00-15:59:00           SEM   \n",
       "3  2018    2018 _ 4         1  04:00:00-07:59:00           SEM   \n",
       "4  2018    2018 _ 5         1  12:00:00-15:59:00           SEM   \n",
       "\n",
       "                                             GRAVITE  NB_VICTIMES_TOTAL  \\\n",
       "0                       Dommages matériels seulement                  0   \n",
       "1                       Dommages matériels seulement                  0   \n",
       "2  Dommages matériels inférieurs au seuil de rapp...                  0   \n",
       "3  Dommages matériels inférieurs au seuil de rapp...                  0   \n",
       "4                       Dommages matériels seulement                  0   \n",
       "\n",
       "   NB_VEH_IMPLIQUES_ACCDN                    REG_ADM VITESSE_AUTOR  ...  \\\n",
       "0                     2.0    Capitale-Nationale (03)           NaN  ...   \n",
       "1                     2.0              Montréal (06)           NaN  ...   \n",
       "2                     2.0              Montréal (06)            50  ...   \n",
       "3                     2.0              Montréal (06)            50  ...   \n",
       "4                     1.0  Chaudière-Appalaches (12)            50  ...   \n",
       "\n",
       "  CD_ASPCT_ROUTE  CD_LOCLN_ACCDN  CD_CONFG_ROUTE  CD_ZON_TRAVX_ROUTR  \\\n",
       "0         Courbe            99.0            23.0                 NaN   \n",
       "1          Droit            99.0             9.0                 NaN   \n",
       "2          Droit            99.0             1.0                 NaN   \n",
       "3          Droit            99.0            23.0                 NaN   \n",
       "4          Droit            99.0            23.0                 NaN   \n",
       "\n",
       "   CD_COND_METEO IND_AUTO_CAMION_LEGER  IND_VEH_LOURD  IND_MOTO_CYCLO  \\\n",
       "0           12.0                     O              N               N   \n",
       "1           17.0                     O              N               N   \n",
       "2           17.0                     N              O               N   \n",
       "3           17.0                     N              O               N   \n",
       "4           11.0                     N              O               N   \n",
       "\n",
       "  IND_VELO  IND_PIETON  \n",
       "0        N           N  \n",
       "1        N           N  \n",
       "2        N           N  \n",
       "3        N           N  \n",
       "4        N           N  \n",
       "\n",
       "[5 rows x 25 columns]"
      ]
     },
     "execution_count": 4,
     "metadata": {},
     "output_type": "execute_result"
    }
   ],
   "source": [
    "import pandas as pd\n",
    "import matplotlib.pyplot as plt\n",
    "import seaborn as sns\n",
    "\n",
    "# Chargement et nettoyage du jeu de données\n",
    "df = pd.read_csv(\"../data_fusionnee.csv\")\n",
    "df.columns = df.columns.str.strip().str.replace('\"', '').str.replace(r'\\t+', '', regex=True)\n",
    "\n",
    "df.head()"
   ]
  },
  {
   "cell_type": "code",
   "execution_count": 18,
   "id": "c2b76694",
   "metadata": {},
   "outputs": [
    {
     "data": {
      "application/vnd.plotly.v1+json": {
       "config": {
        "plotlyServerURL": "https://plot.ly"
       },
       "data": [
        {
         "name": "Day",
         "type": "bar",
         "visible": true,
         "x": [
          "Light Vehicles",
          "Heavy Vehicles",
          "Motorcycles",
          "Pedestrians",
          "Bicycles"
         ],
         "y": [
          389539,
          64978,
          11826,
          8722,
          7180
         ]
        },
        {
         "name": "Night",
         "type": "bar",
         "visible": false,
         "x": [
          "Light Vehicles",
          "Heavy Vehicles",
          "Motorcycles",
          "Pedestrians",
          "Bicycles"
         ],
         "y": [
          142322,
          18564,
          2857,
          2441,
          1564
         ]
        }
       ],
       "layout": {
        "template": {
         "data": {
          "bar": [
           {
            "error_x": {
             "color": "#2a3f5f"
            },
            "error_y": {
             "color": "#2a3f5f"
            },
            "marker": {
             "line": {
              "color": "#E5ECF6",
              "width": 0.5
             },
             "pattern": {
              "fillmode": "overlay",
              "size": 10,
              "solidity": 0.2
             }
            },
            "type": "bar"
           }
          ],
          "barpolar": [
           {
            "marker": {
             "line": {
              "color": "#E5ECF6",
              "width": 0.5
             },
             "pattern": {
              "fillmode": "overlay",
              "size": 10,
              "solidity": 0.2
             }
            },
            "type": "barpolar"
           }
          ],
          "carpet": [
           {
            "aaxis": {
             "endlinecolor": "#2a3f5f",
             "gridcolor": "white",
             "linecolor": "white",
             "minorgridcolor": "white",
             "startlinecolor": "#2a3f5f"
            },
            "baxis": {
             "endlinecolor": "#2a3f5f",
             "gridcolor": "white",
             "linecolor": "white",
             "minorgridcolor": "white",
             "startlinecolor": "#2a3f5f"
            },
            "type": "carpet"
           }
          ],
          "choropleth": [
           {
            "colorbar": {
             "outlinewidth": 0,
             "ticks": ""
            },
            "type": "choropleth"
           }
          ],
          "contour": [
           {
            "colorbar": {
             "outlinewidth": 0,
             "ticks": ""
            },
            "colorscale": [
             [
              0,
              "#0d0887"
             ],
             [
              0.1111111111111111,
              "#46039f"
             ],
             [
              0.2222222222222222,
              "#7201a8"
             ],
             [
              0.3333333333333333,
              "#9c179e"
             ],
             [
              0.4444444444444444,
              "#bd3786"
             ],
             [
              0.5555555555555556,
              "#d8576b"
             ],
             [
              0.6666666666666666,
              "#ed7953"
             ],
             [
              0.7777777777777778,
              "#fb9f3a"
             ],
             [
              0.8888888888888888,
              "#fdca26"
             ],
             [
              1,
              "#f0f921"
             ]
            ],
            "type": "contour"
           }
          ],
          "contourcarpet": [
           {
            "colorbar": {
             "outlinewidth": 0,
             "ticks": ""
            },
            "type": "contourcarpet"
           }
          ],
          "heatmap": [
           {
            "colorbar": {
             "outlinewidth": 0,
             "ticks": ""
            },
            "colorscale": [
             [
              0,
              "#0d0887"
             ],
             [
              0.1111111111111111,
              "#46039f"
             ],
             [
              0.2222222222222222,
              "#7201a8"
             ],
             [
              0.3333333333333333,
              "#9c179e"
             ],
             [
              0.4444444444444444,
              "#bd3786"
             ],
             [
              0.5555555555555556,
              "#d8576b"
             ],
             [
              0.6666666666666666,
              "#ed7953"
             ],
             [
              0.7777777777777778,
              "#fb9f3a"
             ],
             [
              0.8888888888888888,
              "#fdca26"
             ],
             [
              1,
              "#f0f921"
             ]
            ],
            "type": "heatmap"
           }
          ],
          "heatmapgl": [
           {
            "colorbar": {
             "outlinewidth": 0,
             "ticks": ""
            },
            "colorscale": [
             [
              0,
              "#0d0887"
             ],
             [
              0.1111111111111111,
              "#46039f"
             ],
             [
              0.2222222222222222,
              "#7201a8"
             ],
             [
              0.3333333333333333,
              "#9c179e"
             ],
             [
              0.4444444444444444,
              "#bd3786"
             ],
             [
              0.5555555555555556,
              "#d8576b"
             ],
             [
              0.6666666666666666,
              "#ed7953"
             ],
             [
              0.7777777777777778,
              "#fb9f3a"
             ],
             [
              0.8888888888888888,
              "#fdca26"
             ],
             [
              1,
              "#f0f921"
             ]
            ],
            "type": "heatmapgl"
           }
          ],
          "histogram": [
           {
            "marker": {
             "pattern": {
              "fillmode": "overlay",
              "size": 10,
              "solidity": 0.2
             }
            },
            "type": "histogram"
           }
          ],
          "histogram2d": [
           {
            "colorbar": {
             "outlinewidth": 0,
             "ticks": ""
            },
            "colorscale": [
             [
              0,
              "#0d0887"
             ],
             [
              0.1111111111111111,
              "#46039f"
             ],
             [
              0.2222222222222222,
              "#7201a8"
             ],
             [
              0.3333333333333333,
              "#9c179e"
             ],
             [
              0.4444444444444444,
              "#bd3786"
             ],
             [
              0.5555555555555556,
              "#d8576b"
             ],
             [
              0.6666666666666666,
              "#ed7953"
             ],
             [
              0.7777777777777778,
              "#fb9f3a"
             ],
             [
              0.8888888888888888,
              "#fdca26"
             ],
             [
              1,
              "#f0f921"
             ]
            ],
            "type": "histogram2d"
           }
          ],
          "histogram2dcontour": [
           {
            "colorbar": {
             "outlinewidth": 0,
             "ticks": ""
            },
            "colorscale": [
             [
              0,
              "#0d0887"
             ],
             [
              0.1111111111111111,
              "#46039f"
             ],
             [
              0.2222222222222222,
              "#7201a8"
             ],
             [
              0.3333333333333333,
              "#9c179e"
             ],
             [
              0.4444444444444444,
              "#bd3786"
             ],
             [
              0.5555555555555556,
              "#d8576b"
             ],
             [
              0.6666666666666666,
              "#ed7953"
             ],
             [
              0.7777777777777778,
              "#fb9f3a"
             ],
             [
              0.8888888888888888,
              "#fdca26"
             ],
             [
              1,
              "#f0f921"
             ]
            ],
            "type": "histogram2dcontour"
           }
          ],
          "mesh3d": [
           {
            "colorbar": {
             "outlinewidth": 0,
             "ticks": ""
            },
            "type": "mesh3d"
           }
          ],
          "parcoords": [
           {
            "line": {
             "colorbar": {
              "outlinewidth": 0,
              "ticks": ""
             }
            },
            "type": "parcoords"
           }
          ],
          "pie": [
           {
            "automargin": true,
            "type": "pie"
           }
          ],
          "scatter": [
           {
            "fillpattern": {
             "fillmode": "overlay",
             "size": 10,
             "solidity": 0.2
            },
            "type": "scatter"
           }
          ],
          "scatter3d": [
           {
            "line": {
             "colorbar": {
              "outlinewidth": 0,
              "ticks": ""
             }
            },
            "marker": {
             "colorbar": {
              "outlinewidth": 0,
              "ticks": ""
             }
            },
            "type": "scatter3d"
           }
          ],
          "scattercarpet": [
           {
            "marker": {
             "colorbar": {
              "outlinewidth": 0,
              "ticks": ""
             }
            },
            "type": "scattercarpet"
           }
          ],
          "scattergeo": [
           {
            "marker": {
             "colorbar": {
              "outlinewidth": 0,
              "ticks": ""
             }
            },
            "type": "scattergeo"
           }
          ],
          "scattergl": [
           {
            "marker": {
             "colorbar": {
              "outlinewidth": 0,
              "ticks": ""
             }
            },
            "type": "scattergl"
           }
          ],
          "scattermapbox": [
           {
            "marker": {
             "colorbar": {
              "outlinewidth": 0,
              "ticks": ""
             }
            },
            "type": "scattermapbox"
           }
          ],
          "scatterpolar": [
           {
            "marker": {
             "colorbar": {
              "outlinewidth": 0,
              "ticks": ""
             }
            },
            "type": "scatterpolar"
           }
          ],
          "scatterpolargl": [
           {
            "marker": {
             "colorbar": {
              "outlinewidth": 0,
              "ticks": ""
             }
            },
            "type": "scatterpolargl"
           }
          ],
          "scatterternary": [
           {
            "marker": {
             "colorbar": {
              "outlinewidth": 0,
              "ticks": ""
             }
            },
            "type": "scatterternary"
           }
          ],
          "surface": [
           {
            "colorbar": {
             "outlinewidth": 0,
             "ticks": ""
            },
            "colorscale": [
             [
              0,
              "#0d0887"
             ],
             [
              0.1111111111111111,
              "#46039f"
             ],
             [
              0.2222222222222222,
              "#7201a8"
             ],
             [
              0.3333333333333333,
              "#9c179e"
             ],
             [
              0.4444444444444444,
              "#bd3786"
             ],
             [
              0.5555555555555556,
              "#d8576b"
             ],
             [
              0.6666666666666666,
              "#ed7953"
             ],
             [
              0.7777777777777778,
              "#fb9f3a"
             ],
             [
              0.8888888888888888,
              "#fdca26"
             ],
             [
              1,
              "#f0f921"
             ]
            ],
            "type": "surface"
           }
          ],
          "table": [
           {
            "cells": {
             "fill": {
              "color": "#EBF0F8"
             },
             "line": {
              "color": "white"
             }
            },
            "header": {
             "fill": {
              "color": "#C8D4E3"
             },
             "line": {
              "color": "white"
             }
            },
            "type": "table"
           }
          ]
         },
         "layout": {
          "annotationdefaults": {
           "arrowcolor": "#2a3f5f",
           "arrowhead": 0,
           "arrowwidth": 1
          },
          "autotypenumbers": "strict",
          "coloraxis": {
           "colorbar": {
            "outlinewidth": 0,
            "ticks": ""
           }
          },
          "colorscale": {
           "diverging": [
            [
             0,
             "#8e0152"
            ],
            [
             0.1,
             "#c51b7d"
            ],
            [
             0.2,
             "#de77ae"
            ],
            [
             0.3,
             "#f1b6da"
            ],
            [
             0.4,
             "#fde0ef"
            ],
            [
             0.5,
             "#f7f7f7"
            ],
            [
             0.6,
             "#e6f5d0"
            ],
            [
             0.7,
             "#b8e186"
            ],
            [
             0.8,
             "#7fbc41"
            ],
            [
             0.9,
             "#4d9221"
            ],
            [
             1,
             "#276419"
            ]
           ],
           "sequential": [
            [
             0,
             "#0d0887"
            ],
            [
             0.1111111111111111,
             "#46039f"
            ],
            [
             0.2222222222222222,
             "#7201a8"
            ],
            [
             0.3333333333333333,
             "#9c179e"
            ],
            [
             0.4444444444444444,
             "#bd3786"
            ],
            [
             0.5555555555555556,
             "#d8576b"
            ],
            [
             0.6666666666666666,
             "#ed7953"
            ],
            [
             0.7777777777777778,
             "#fb9f3a"
            ],
            [
             0.8888888888888888,
             "#fdca26"
            ],
            [
             1,
             "#f0f921"
            ]
           ],
           "sequentialminus": [
            [
             0,
             "#0d0887"
            ],
            [
             0.1111111111111111,
             "#46039f"
            ],
            [
             0.2222222222222222,
             "#7201a8"
            ],
            [
             0.3333333333333333,
             "#9c179e"
            ],
            [
             0.4444444444444444,
             "#bd3786"
            ],
            [
             0.5555555555555556,
             "#d8576b"
            ],
            [
             0.6666666666666666,
             "#ed7953"
            ],
            [
             0.7777777777777778,
             "#fb9f3a"
            ],
            [
             0.8888888888888888,
             "#fdca26"
            ],
            [
             1,
             "#f0f921"
            ]
           ]
          },
          "colorway": [
           "#636efa",
           "#EF553B",
           "#00cc96",
           "#ab63fa",
           "#FFA15A",
           "#19d3f3",
           "#FF6692",
           "#B6E880",
           "#FF97FF",
           "#FECB52"
          ],
          "font": {
           "color": "#2a3f5f"
          },
          "geo": {
           "bgcolor": "white",
           "lakecolor": "white",
           "landcolor": "#E5ECF6",
           "showlakes": true,
           "showland": true,
           "subunitcolor": "white"
          },
          "hoverlabel": {
           "align": "left"
          },
          "hovermode": "closest",
          "mapbox": {
           "style": "light"
          },
          "paper_bgcolor": "white",
          "plot_bgcolor": "#E5ECF6",
          "polar": {
           "angularaxis": {
            "gridcolor": "white",
            "linecolor": "white",
            "ticks": ""
           },
           "bgcolor": "#E5ECF6",
           "radialaxis": {
            "gridcolor": "white",
            "linecolor": "white",
            "ticks": ""
           }
          },
          "scene": {
           "xaxis": {
            "backgroundcolor": "#E5ECF6",
            "gridcolor": "white",
            "gridwidth": 2,
            "linecolor": "white",
            "showbackground": true,
            "ticks": "",
            "zerolinecolor": "white"
           },
           "yaxis": {
            "backgroundcolor": "#E5ECF6",
            "gridcolor": "white",
            "gridwidth": 2,
            "linecolor": "white",
            "showbackground": true,
            "ticks": "",
            "zerolinecolor": "white"
           },
           "zaxis": {
            "backgroundcolor": "#E5ECF6",
            "gridcolor": "white",
            "gridwidth": 2,
            "linecolor": "white",
            "showbackground": true,
            "ticks": "",
            "zerolinecolor": "white"
           }
          },
          "shapedefaults": {
           "line": {
            "color": "#2a3f5f"
           }
          },
          "ternary": {
           "aaxis": {
            "gridcolor": "white",
            "linecolor": "white",
            "ticks": ""
           },
           "baxis": {
            "gridcolor": "white",
            "linecolor": "white",
            "ticks": ""
           },
           "bgcolor": "#E5ECF6",
           "caxis": {
            "gridcolor": "white",
            "linecolor": "white",
            "ticks": ""
           }
          },
          "title": {
           "x": 0.05
          },
          "xaxis": {
           "automargin": true,
           "gridcolor": "white",
           "linecolor": "white",
           "ticks": "",
           "title": {
            "standoff": 15
           },
           "zerolinecolor": "white",
           "zerolinewidth": 2
          },
          "yaxis": {
           "automargin": true,
           "gridcolor": "white",
           "linecolor": "white",
           "ticks": "",
           "title": {
            "standoff": 15
           },
           "zerolinecolor": "white",
           "zerolinewidth": 2
          }
         }
        },
        "title": {
         "text": "Number of Accidents by User Type (Day vs Night)"
        },
        "updatemenus": [
         {
          "buttons": [
           {
            "args": [
             {
              "visible": [
               true,
               false
              ]
             },
             {
              "title": "Number of Accidents by User Type - Day"
             }
            ],
            "label": "Day",
            "method": "update"
           },
           {
            "args": [
             {
              "visible": [
               false,
               true
              ]
             },
             {
              "title": "Number of Accidents by User Type - Night"
             }
            ],
            "label": "Night",
            "method": "update"
           }
          ],
          "direction": "right",
          "showactive": true,
          "type": "buttons",
          "x": 0.57,
          "y": 1.15
         }
        ],
        "xaxis": {
         "title": {
          "text": "User Type"
         }
        },
        "yaxis": {
         "title": {
          "text": "Number of Accidents"
         }
        }
       }
      }
     },
     "metadata": {},
     "output_type": "display_data"
    }
   ],
   "source": [
    "import pandas as pd\n",
    "import plotly.graph_objects as go\n",
    "\n",
    "# Mapping des noms de colonnes en anglais\n",
    "usager_cols = {\n",
    "    'IND_AUTO_CAMION_LEGER': 'Light Vehicles',\n",
    "    'IND_VEH_LOURD': 'Heavy Vehicles',\n",
    "    'IND_MOTO_CYCLO': 'Motorcycles',\n",
    "    'IND_VELO': 'Bicycles',\n",
    "    'IND_PIETON': 'Pedestrians'\n",
    "}\n",
    "\n",
    "# Chargement et nettoyage\n",
    "df[list(usager_cols.keys())] = df[list(usager_cols.keys())].replace({'O': 1, 'N': 0})\n",
    "\n",
    "# Définir Day/Night selon HR_ACCDN\n",
    "def classify_period(hr):\n",
    "    if pd.isna(hr):\n",
    "        return 'Unknown'\n",
    "    if hr in ['08:00:00-11:59:00', '12:00:00-15:59:00', '16:00:00-19:59:00']:\n",
    "        return 'Day'\n",
    "    elif hr in ['00:00:00-03:59:00', '04:00:00-07:59:00', '20:00:00-23:59:00']:\n",
    "        return 'Night'\n",
    "    else:\n",
    "        return 'Unknown'\n",
    "\n",
    "df['DAY_NIGHT'] = df['HR_ACCDN'].apply(classify_period)\n",
    "\n",
    "# Agrégation pour chaque période\n",
    "data_by_period = {}\n",
    "for period in ['Day', 'Night']:\n",
    "    subset = df[df['DAY_NIGHT'] == period]\n",
    "    counts = subset[list(usager_cols.keys())].sum()\n",
    "    counts.index = [usager_cols[col] for col in counts.index]\n",
    "    data_by_period[period] = counts.sort_values(ascending=False)\n",
    "\n",
    "# Création de la figure interactive\n",
    "fig = go.Figure()\n",
    "\n",
    "# Ajout des barres pour Day\n",
    "fig.add_trace(go.Bar(\n",
    "    x=data_by_period['Day'].index,\n",
    "    y=data_by_period['Day'].values,\n",
    "    name='Day',\n",
    "    visible=True\n",
    "))\n",
    "\n",
    "# Ajout des barres pour Night (masquées par défaut)\n",
    "fig.add_trace(go.Bar(\n",
    "    x=data_by_period['Night'].index,\n",
    "    y=data_by_period['Night'].values,\n",
    "    name='Night',\n",
    "    visible=False\n",
    "))\n",
    "\n",
    "# Boutons pour interactivité\n",
    "fig.update_layout(\n",
    "    title=\"Number of Accidents by User Type (Day vs Night)\",\n",
    "    xaxis_title=\"User Type\",\n",
    "    yaxis_title=\"Number of Accidents\",\n",
    "    updatemenus=[\n",
    "        dict(\n",
    "            type=\"buttons\",\n",
    "            direction=\"right\",\n",
    "            buttons=list([\n",
    "                dict(label=\"Day\",\n",
    "                     method=\"update\",\n",
    "                     args=[{\"visible\": [True, False]},\n",
    "                           {\"title\": \"Number of Accidents by User Type - Day\"}]),\n",
    "                dict(label=\"Night\",\n",
    "                     method=\"update\",\n",
    "                     args=[{\"visible\": [False, True]},\n",
    "                           {\"title\": \"Number of Accidents by User Type - Night\"}])\n",
    "            ]),\n",
    "            showactive=True,\n",
    "            x=0.57,\n",
    "            y=1.15\n",
    "        )\n",
    "    ]\n",
    ")\n",
    "\n",
    "fig.show()\n"
   ]
  },
  {
   "cell_type": "markdown",
   "id": "7f0d7349",
   "metadata": {},
   "source": [
    "2. Nombre d’accidents graves impliquant chaque type d’usager"
   ]
  },
  {
   "cell_type": "code",
   "execution_count": 6,
   "id": "df8eba84",
   "metadata": {},
   "outputs": [
    {
     "data": {
      "image/png": "[encoded data removed]",
      "text/plain": [
       "<Figure size 1000x600 with 1 Axes>"
      ]
     },
     "metadata": {},
     "output_type": "display_data"
    }
   ],
   "source": [
    "# Filtrage : accidents graves uniquement\n",
    "df_grave = df[df['GRAVITE'] == 'Mortel ou grave']\n",
    "\n",
    "# Comptage des usagers impliqués dans les accidents graves\n",
    "grave_counts = df_grave[usager_cols].sum().sort_values(ascending=False)\n",
    "\n",
    "# Graphique\n",
    "plt.figure(figsize=(10, 6))\n",
    "sns.barplot(x=grave_counts.index, y=grave_counts.values)\n",
    "plt.title(\"Accidents graves impliquant chaque type d'usager\")\n",
    "plt.ylabel(\"Nombre d'accidents graves\")\n",
    "plt.xlabel(\"Type d'usager\")\n",
    "plt.tight_layout()\n",
    "plt.savefig(\"usagers_graves.png\")  # Enregistrement\n",
    "plt.show()\n"
   ]
  },
  {
   "cell_type": "markdown",
   "id": "e2574aec",
   "metadata": {},
   "source": [
    "3. Quand surviennent les accidents graves (mois, jour, heure) ?"
   ]
  },
  {
   "cell_type": "code",
   "execution_count": 7,
   "id": "69142de2",
   "metadata": {},
   "outputs": [
    {
     "data": {
      "image/png": "[encoded data removed]",
      "text/plain": [
       "<Figure size 1000x600 with 1 Axes>"
      ]
     },
     "metadata": {},
     "output_type": "display_data"
    }
   ],
   "source": [
    "# Répartition des accidents graves par mois\n",
    "plt.figure(figsize=(10, 6))\n",
    "sns.countplot(data=df[df['GRAVITE'] == 'Mortel ou grave'], x='MS_ACCDN', order=sorted(df['MS_ACCDN'].dropna().unique()))\n",
    "plt.title(\"Accidents graves par mois\")\n",
    "plt.xlabel(\"Mois\")\n",
    "plt.ylabel(\"Nombre d'accidents graves\")\n",
    "plt.tight_layout()\n",
    "plt.savefig(\"accidents_graves_par_mois.png\")\n",
    "plt.show()\n"
   ]
  },
  {
   "cell_type": "markdown",
   "id": "75a70c3e",
   "metadata": {},
   "source": [
    " Par jour de la semaine"
   ]
  },
  {
   "cell_type": "code",
   "execution_count": 8,
   "id": "c85433ec",
   "metadata": {},
   "outputs": [
    {
     "data": {
      "image/png": "[encoded data removed]",
      "text/plain": [
       "<Figure size 1000x600 with 1 Axes>"
      ]
     },
     "metadata": {},
     "output_type": "display_data"
    }
   ],
   "source": [
    "# Ordre des jours (à ajuster si les données sont en abrégé : LUN, MAR, etc.)\n",
    "jour_order = ['LUN', 'MAR', 'MER', 'JEU', 'VEN', 'SAM', 'DIM']\n",
    "plt.figure(figsize=(10, 6))\n",
    "sns.countplot(data=df[df['GRAVITE'] == 'Mortel ou grave'], x='JR_SEMN_ACCDN', order=jour_order)\n",
    "plt.title(\"Accidents graves par jour de la semaine\")\n",
    "plt.xlabel(\"Jour\")\n",
    "plt.ylabel(\"Nombre d'accidents graves\")\n",
    "plt.tight_layout()\n",
    "plt.savefig(\"accidents_graves_par_jour.png\")\n",
    "plt.show()\n"
   ]
  },
  {
   "cell_type": "code",
   "execution_count": 9,
   "id": "af1987b3",
   "metadata": {},
   "outputs": [
    {
     "data": {
      "image/png": "[encoded data removed]",
      "text/plain": [
       "<Figure size 1200x600 with 1 Axes>"
      ]
     },
     "metadata": {},
     "output_type": "display_data"
    }
   ],
   "source": [
    "# Répartition des accidents graves par tranche horaire\n",
    "heure_order = [\n",
    "    '00:00:00-03:59:00',\n",
    "    '04:00:00-07:59:00',\n",
    "    '08:00:00-11:59:00',\n",
    "    '12:00:00-15:59:00',\n",
    "    '16:00:00-19:59:00',\n",
    "    '20:00:00-23:59:00'\n",
    "]\n",
    "\n",
    "plt.figure(figsize=(12, 6))\n",
    "sns.countplot(data=df[df['GRAVITE'] == 'Mortel ou grave'], x='HR_ACCDN', order=heure_order)\n",
    "plt.title(\"Accidents graves par tranche horaire\")\n",
    "plt.xlabel(\"Heure de la journée\")\n",
    "plt.ylabel(\"Nombre d'accidents graves\")\n",
    "plt.tight_layout()\n",
    "plt.savefig(\"accidents_graves_par_heure.png\")\n",
    "plt.show()\n"
   ]
  },
  {
   "cell_type": "markdown",
   "id": "6713ba53",
   "metadata": {},
   "source": [
    "4. Où ont lieu les accidents graves au Québec ? (REG_ADM)"
   ]
  },
  {
   "cell_type": "code",
   "execution_count": 10,
   "id": "54919812",
   "metadata": {},
   "outputs": [
    {
     "data": {
      "image/png": "[encoded data removed]",
      "text/plain": [
       "<Figure size 1200x800 with 1 Axes>"
      ]
     },
     "metadata": {},
     "output_type": "display_data"
    }
   ],
   "source": [
    "# Suppression des valeurs manquantes de région\n",
    "df_reg = df[df['GRAVITE'] == 'Mortel ou grave'].dropna(subset=['REG_ADM'])\n",
    "\n",
    "# Répartition par région\n",
    "plt.figure(figsize=(12, 8))\n",
    "region_order = df_reg['REG_ADM'].value_counts().index\n",
    "sns.countplot(data=df_reg, y='REG_ADM', order=region_order)\n",
    "plt.title(\"Nombre d'accidents graves par région administrative\")\n",
    "plt.xlabel(\"Nombre d'accidents graves\")\n",
    "plt.ylabel(\"Région administrative\")\n",
    "plt.tight_layout()\n",
    "plt.savefig(\"accidents_graves_par_region.png\")\n",
    "plt.show()\n"
   ]
  },
  {
   "cell_type": "markdown",
   "id": "303233e9",
   "metadata": {},
   "source": [
    " 5- Évolution temporelle des accidents graves (AN)"
   ]
  },
  {
   "cell_type": "code",
   "execution_count": 11,
   "id": "9bc7631c",
   "metadata": {},
   "outputs": [
    {
     "data": {
      "image/png": "[encoded data removed]",
      "text/plain": [
       "<Figure size 1000x600 with 1 Axes>"
      ]
     },
     "metadata": {},
     "output_type": "display_data"
    }
   ],
   "source": [
    "# Répartition par année\n",
    "plt.figure(figsize=(10, 6))\n",
    "sns.countplot(data=df[df['GRAVITE'] == 'Mortel ou grave'], x='AN', order=sorted(df['AN'].dropna().unique()))\n",
    "plt.title(\"Évolution annuelle des accidents graves au Québec\")\n",
    "plt.xlabel(\"Année\")\n",
    "plt.ylabel(\"Nombre d'accidents graves\")\n",
    "plt.tight_layout()\n",
    "plt.savefig(\"evolution_accidents_graves_par_annee.png\")\n",
    "plt.show()\n"
   ]
  },
  {
   "cell_type": "markdown",
   "id": "5be582ef",
   "metadata": {},
   "source": [
    "6. Distribution des accidents (toutes gravités) par heure de la journée"
   ]
  },
  {
   "cell_type": "code",
   "execution_count": 12,
   "id": "d403f512",
   "metadata": {},
   "outputs": [
    {
     "data": {
      "image/png": "[encoded data removed]",
      "text/plain": [
       "<Figure size 1000x600 with 1 Axes>"
      ]
     },
     "metadata": {},
     "output_type": "display_data"
    }
   ],
   "source": [
    "# Distribution des accidents toutes gravités confondues par tranche horaire\n",
    "heure_order = [\n",
    "    '00:00:00-03:59:00',\n",
    "    '04:00:00-07:59:00',\n",
    "    '08:00:00-11:59:00',\n",
    "    '12:00:00-15:59:00',\n",
    "    '16:00:00-19:59:00',\n",
    "    '20:00:00-23:59:00'\n",
    "]\n",
    "\n",
    "plt.figure(figsize=(10, 6))\n",
    "sns.countplot(data=df.dropna(subset=['HR_ACCDN']), x='HR_ACCDN', order=heure_order)\n",
    "plt.title(\"Distribution des accidents par tranche horaire (toutes gravités)\")\n",
    "plt.xlabel(\"Tranche horaire\")\n",
    "plt.ylabel(\"Nombre d'accidents\")\n",
    "plt.tight_layout()\n",
    "plt.savefig(\"distribution_accidents_par_heure.png\")\n",
    "plt.show()\n"
   ]
  },
  {
   "cell_type": "markdown",
   "id": "9570262c",
   "metadata": {},
   "source": [
    "7. Saisonnalité de la gravité des accidents (par mois et par niveau de gravité)"
   ]
  },
  {
   "cell_type": "code",
   "execution_count": 13,
   "id": "96ac7aa7",
   "metadata": {},
   "outputs": [
    {
     "data": {
      "image/png": "[encoded data removed]",
      "text/plain": [
       "<Figure size 1200x600 with 1 Axes>"
      ]
     },
     "metadata": {},
     "output_type": "display_data"
    }
   ],
   "source": [
    "# Suppression des lignes avec mois ou gravité manquante\n",
    "df_season = df.dropna(subset=['MS_ACCDN', 'GRAVITE'])\n",
    "\n",
    "plt.figure(figsize=(12, 6))\n",
    "sns.countplot(data=df_season, x='MS_ACCDN', hue='GRAVITE', order=sorted(df_season['MS_ACCDN'].unique()))\n",
    "plt.title(\"Saisonnalité de la gravité des accidents (par mois)\")\n",
    "plt.xlabel(\"Mois\")\n",
    "plt.ylabel(\"Nombre d'accidents\")\n",
    "plt.legend(title=\"Gravité\")\n",
    "plt.tight_layout()\n",
    "plt.savefig(\"saisonnalite_gravite_par_mois.png\")\n",
    "plt.show()\n"
   ]
  },
  {
   "cell_type": "markdown",
   "id": "ed6b5ab6",
   "metadata": {},
   "source": [
    "1. Heatmap combinée Région × Mois pour les accidents graves"
   ]
  },
  {
   "cell_type": "code",
   "execution_count": 26,
   "id": "734658ca",
   "metadata": {},
   "outputs": [
    {
     "data": {
      "application/vnd.plotly.v1+json": {
       "config": {
        "plotlyServerURL": "https://plot.ly"
       },
       "data": [
        {
         "colorbar": {
          "title": {
           "text": "Accidents"
          }
         },
         "colorscale": [
          [
           0,
           "rgb(255,245,240)"
          ],
          [
           0.125,
           "rgb(254,224,210)"
          ],
          [
           0.25,
           "rgb(252,187,161)"
          ],
          [
           0.375,
           "rgb(252,146,114)"
          ],
          [
           0.5,
           "rgb(251,106,74)"
          ],
          [
           0.625,
           "rgb(239,59,44)"
          ],
          [
           0.75,
           "rgb(203,24,29)"
          ],
          [
           0.875,
           "rgb(165,15,21)"
          ],
          [
           1,
           "rgb(103,0,13)"
          ]
         ],
         "hoverinfo": "text",
         "text": [
          [
           "12 severe accidents in Abitibi-Témiscamingue during Jan",
           "14 severe accidents in Abitibi-Témiscamingue during Feb",
           "9 severe accidents in Abitibi-Témiscamingue during Mar",
           "16 severe accidents in Abitibi-Témiscamingue during Apr",
           "17 severe accidents in Abitibi-Témiscamingue during May",
           "24 severe accidents in Abitibi-Témiscamingue during Jun",
           "28 severe accidents in Abitibi-Témiscamingue during Jul",
           "20 severe accidents in Abitibi-Témiscamingue during Aug",
           "20 severe accidents in Abitibi-Témiscamingue during Sep",
           "17 severe accidents in Abitibi-Témiscamingue during Oct",
           "18 severe accidents in Abitibi-Témiscamingue during Nov",
           "20 severe accidents in Abitibi-Témiscamingue during Dec"
          ],
          [
           "19 severe accidents in Bas-Saint-Laurent during Jan",
           "12 severe accidents in Bas-Saint-Laurent during Feb",
           "11 severe accidents in Bas-Saint-Laurent during Mar",
           "9 severe accidents in Bas-Saint-Laurent during Apr",
           "27 severe accidents in Bas-Saint-Laurent during May",
           "35 severe accidents in Bas-Saint-Laurent during Jun",
           "45 severe accidents in Bas-Saint-Laurent during Jul",
           "40 severe accidents in Bas-Saint-Laurent during Aug",
           "34 severe accidents in Bas-Saint-Laurent during Sep",
           "26 severe accidents in Bas-Saint-Laurent during Oct",
           "14 severe accidents in Bas-Saint-Laurent during Nov",
           "14 severe accidents in Bas-Saint-Laurent during Dec"
          ],
          [
           "33 severe accidents in Capitale-Nationale during Jan",
           "21 severe accidents in Capitale-Nationale during Feb",
           "21 severe accidents in Capitale-Nationale during Mar",
           "32 severe accidents in Capitale-Nationale during Apr",
           "34 severe accidents in Capitale-Nationale during May",
           "59 severe accidents in Capitale-Nationale during Jun",
           "80 severe accidents in Capitale-Nationale during Jul",
           "76 severe accidents in Capitale-Nationale during Aug",
           "68 severe accidents in Capitale-Nationale during Sep",
           "49 severe accidents in Capitale-Nationale during Oct",
           "51 severe accidents in Capitale-Nationale during Nov",
           "22 severe accidents in Capitale-Nationale during Dec"
          ],
          [
           "19 severe accidents in Centre-du-Québec during Jan",
           "11 severe accidents in Centre-du-Québec during Feb",
           "21 severe accidents in Centre-du-Québec during Mar",
           "19 severe accidents in Centre-du-Québec during Apr",
           "28 severe accidents in Centre-du-Québec during May",
           "33 severe accidents in Centre-du-Québec during Jun",
           "33 severe accidents in Centre-du-Québec during Jul",
           "42 severe accidents in Centre-du-Québec during Aug",
           "31 severe accidents in Centre-du-Québec during Sep",
           "31 severe accidents in Centre-du-Québec during Oct",
           "34 severe accidents in Centre-du-Québec during Nov",
           "19 severe accidents in Centre-du-Québec during Dec"
          ],
          [
           "27 severe accidents in Chaudière-Appalaches during Jan",
           "30 severe accidents in Chaudière-Appalaches during Feb",
           "17 severe accidents in Chaudière-Appalaches during Mar",
           "18 severe accidents in Chaudière-Appalaches during Apr",
           "37 severe accidents in Chaudière-Appalaches during May",
           "51 severe accidents in Chaudière-Appalaches during Jun",
           "55 severe accidents in Chaudière-Appalaches during Jul",
           "60 severe accidents in Chaudière-Appalaches during Aug",
           "40 severe accidents in Chaudière-Appalaches during Sep",
           "46 severe accidents in Chaudière-Appalaches during Oct",
           "38 severe accidents in Chaudière-Appalaches during Nov",
           "45 severe accidents in Chaudière-Appalaches during Dec"
          ],
          [
           "10 severe accidents in Côte-Nord during Jan",
           "7 severe accidents in Côte-Nord during Feb",
           "6 severe accidents in Côte-Nord during Mar",
           "4 severe accidents in Côte-Nord during Apr",
           "13 severe accidents in Côte-Nord during May",
           "23 severe accidents in Côte-Nord during Jun",
           "19 severe accidents in Côte-Nord during Jul",
           "19 severe accidents in Côte-Nord during Aug",
           "9 severe accidents in Côte-Nord during Sep",
           "10 severe accidents in Côte-Nord during Oct",
           "5 severe accidents in Côte-Nord during Nov",
           "5 severe accidents in Côte-Nord during Dec"
          ],
          [
           "31 severe accidents in Estrie during Jan",
           "19 severe accidents in Estrie during Feb",
           "29 severe accidents in Estrie during Mar",
           "23 severe accidents in Estrie during Apr",
           "33 severe accidents in Estrie during May",
           "50 severe accidents in Estrie during Jun",
           "52 severe accidents in Estrie during Jul",
           "58 severe accidents in Estrie during Aug",
           "50 severe accidents in Estrie during Sep",
           "50 severe accidents in Estrie during Oct",
           "47 severe accidents in Estrie during Nov",
           "32 severe accidents in Estrie during Dec"
          ],
          [
           "12 severe accidents in Gaspésie/-Îles-de-la-Madeleine during Jan",
           "6 severe accidents in Gaspésie/-Îles-de-la-Madeleine during Feb",
           "5 severe accidents in Gaspésie/-Îles-de-la-Madeleine during Mar",
           "6 severe accidents in Gaspésie/-Îles-de-la-Madeleine during Apr",
           "7 severe accidents in Gaspésie/-Îles-de-la-Madeleine during May",
           "17 severe accidents in Gaspésie/-Îles-de-la-Madeleine during Jun",
           "27 severe accidents in Gaspésie/-Îles-de-la-Madeleine during Jul",
           "23 severe accidents in Gaspésie/-Îles-de-la-Madeleine during Aug",
           "12 severe accidents in Gaspésie/-Îles-de-la-Madeleine during Sep",
           "17 severe accidents in Gaspésie/-Îles-de-la-Madeleine during Oct",
           "13 severe accidents in Gaspésie/-Îles-de-la-Madeleine during Nov",
           "14 severe accidents in Gaspésie/-Îles-de-la-Madeleine during Dec"
          ],
          [
           "30 severe accidents in Lanaudière during Jan",
           "26 severe accidents in Lanaudière during Feb",
           "23 severe accidents in Lanaudière during Mar",
           "25 severe accidents in Lanaudière during Apr",
           "39 severe accidents in Lanaudière during May",
           "60 severe accidents in Lanaudière during Jun",
           "60 severe accidents in Lanaudière during Jul",
           "49 severe accidents in Lanaudière during Aug",
           "59 severe accidents in Lanaudière during Sep",
           "37 severe accidents in Lanaudière during Oct",
           "37 severe accidents in Lanaudière during Nov",
           "28 severe accidents in Lanaudière during Dec"
          ],
          [
           "32 severe accidents in Laurentides during Jan",
           "30 severe accidents in Laurentides during Feb",
           "26 severe accidents in Laurentides during Mar",
           "41 severe accidents in Laurentides during Apr",
           "62 severe accidents in Laurentides during May",
           "62 severe accidents in Laurentides during Jun",
           "88 severe accidents in Laurentides during Jul",
           "83 severe accidents in Laurentides during Aug",
           "66 severe accidents in Laurentides during Sep",
           "60 severe accidents in Laurentides during Oct",
           "47 severe accidents in Laurentides during Nov",
           "31 severe accidents in Laurentides during Dec"
          ],
          [
           "6 severe accidents in Laval during Jan",
           "12 severe accidents in Laval during Feb",
           "14 severe accidents in Laval during Mar",
           "10 severe accidents in Laval during Apr",
           "21 severe accidents in Laval during May",
           "22 severe accidents in Laval during Jun",
           "18 severe accidents in Laval during Jul",
           "24 severe accidents in Laval during Aug",
           "32 severe accidents in Laval during Sep",
           "30 severe accidents in Laval during Oct",
           "20 severe accidents in Laval during Nov",
           "22 severe accidents in Laval during Dec"
          ],
          [
           "14 severe accidents in Mauricie during Jan",
           "12 severe accidents in Mauricie during Feb",
           "9 severe accidents in Mauricie during Mar",
           "16 severe accidents in Mauricie during Apr",
           "27 severe accidents in Mauricie during May",
           "39 severe accidents in Mauricie during Jun",
           "45 severe accidents in Mauricie during Jul",
           "48 severe accidents in Mauricie during Aug",
           "48 severe accidents in Mauricie during Sep",
           "25 severe accidents in Mauricie during Oct",
           "31 severe accidents in Mauricie during Nov",
           "15 severe accidents in Mauricie during Dec"
          ],
          [
           "50 severe accidents in Montréal during Jan",
           "51 severe accidents in Montréal during Feb",
           "55 severe accidents in Montréal during Mar",
           "43 severe accidents in Montréal during Apr",
           "87 severe accidents in Montréal during May",
           "102 severe accidents in Montréal during Jun",
           "109 severe accidents in Montréal during Jul",
           "96 severe accidents in Montréal during Aug",
           "101 severe accidents in Montréal during Sep",
           "86 severe accidents in Montréal during Oct",
           "92 severe accidents in Montréal during Nov",
           "57 severe accidents in Montréal during Dec"
          ],
          [
           "47 severe accidents in Montérégie during Jan",
           "61 severe accidents in Montérégie during Feb",
           "47 severe accidents in Montérégie during Mar",
           "64 severe accidents in Montérégie during Apr",
           "99 severe accidents in Montérégie during May",
           "108 severe accidents in Montérégie during Jun",
           "144 severe accidents in Montérégie during Jul",
           "117 severe accidents in Montérégie during Aug",
           "127 severe accidents in Montérégie during Sep",
           "110 severe accidents in Montérégie during Oct",
           "79 severe accidents in Montérégie during Nov",
           "88 severe accidents in Montérégie during Dec"
          ],
          [
           "2 severe accidents in Nord-du-Québec during Jan",
           "9 severe accidents in Nord-du-Québec during Feb",
           "5 severe accidents in Nord-du-Québec during Mar",
           "8 severe accidents in Nord-du-Québec during Apr",
           "7 severe accidents in Nord-du-Québec during May",
           "8 severe accidents in Nord-du-Québec during Jun",
           "17 severe accidents in Nord-du-Québec during Jul",
           "8 severe accidents in Nord-du-Québec during Aug",
           "2 severe accidents in Nord-du-Québec during Sep",
           "8 severe accidents in Nord-du-Québec during Oct",
           "3 severe accidents in Nord-du-Québec during Nov",
           "2 severe accidents in Nord-du-Québec during Dec"
          ],
          [
           "17 severe accidents in Outaouais during Jan",
           "25 severe accidents in Outaouais during Feb",
           "16 severe accidents in Outaouais during Mar",
           "13 severe accidents in Outaouais during Apr",
           "28 severe accidents in Outaouais during May",
           "35 severe accidents in Outaouais during Jun",
           "40 severe accidents in Outaouais during Jul",
           "34 severe accidents in Outaouais during Aug",
           "35 severe accidents in Outaouais during Sep",
           "30 severe accidents in Outaouais during Oct",
           "23 severe accidents in Outaouais during Nov",
           "22 severe accidents in Outaouais during Dec"
          ],
          [
           "14 severe accidents in Saguenay/-Lac-Saint-Jean during Jan",
           "24 severe accidents in Saguenay/-Lac-Saint-Jean during Feb",
           "16 severe accidents in Saguenay/-Lac-Saint-Jean during Mar",
           "15 severe accidents in Saguenay/-Lac-Saint-Jean during Apr",
           "25 severe accidents in Saguenay/-Lac-Saint-Jean during May",
           "36 severe accidents in Saguenay/-Lac-Saint-Jean during Jun",
           "34 severe accidents in Saguenay/-Lac-Saint-Jean during Jul",
           "42 severe accidents in Saguenay/-Lac-Saint-Jean during Aug",
           "23 severe accidents in Saguenay/-Lac-Saint-Jean during Sep",
           "28 severe accidents in Saguenay/-Lac-Saint-Jean during Oct",
           "24 severe accidents in Saguenay/-Lac-Saint-Jean during Nov",
           "22 severe accidents in Saguenay/-Lac-Saint-Jean during Dec"
          ]
         ],
         "type": "heatmap",
         "x": [
          "Jan",
          "Feb",
          "Mar",
          "Apr",
          "May",
          "Jun",
          "Jul",
          "Aug",
          "Sep",
          "Oct",
          "Nov",
          "Dec"
         ],
         "y": [
          "Abitibi-Témiscamingue",
          "Bas-Saint-Laurent",
          "Capitale-Nationale",
          "Centre-du-Québec",
          "Chaudière-Appalaches",
          "Côte-Nord",
          "Estrie",
          "Gaspésie/-Îles-de-la-Madeleine",
          "Lanaudière",
          "Laurentides",
          "Laval",
          "Mauricie",
          "Montréal",
          "Montérégie",
          "Nord-du-Québec",
          "Outaouais",
          "Saguenay/-Lac-Saint-Jean"
         ],
         "z": [
          [
           12,
           14,
           9,
           16,
           17,
           24,
           28,
           20,
           20,
           17,
           18,
           20
          ],
          [
           19,
           12,
           11,
           9,
           27,
           35,
           45,
           40,
           34,
           26,
           14,
           14
          ],
          [
           33,
           21,
           21,
           32,
           34,
           59,
           80,
           76,
           68,
           49,
           51,
           22
          ],
          [
           19,
           11,
           21,
           19,
           28,
           33,
           33,
           42,
           31,
           31,
           34,
           19
          ],
          [
           27,
           30,
           17,
           18,
           37,
           51,
           55,
           60,
           40,
           46,
           38,
           45
          ],
          [
           10,
           7,
           6,
           4,
           13,
           23,
           19,
           19,
           9,
           10,
           5,
           5
          ],
          [
           31,
           19,
           29,
           23,
           33,
           50,
           52,
           58,
           50,
           50,
           47,
           32
          ],
          [
           12,
           6,
           5,
           6,
           7,
           17,
           27,
           23,
           12,
           17,
           13,
           14
          ],
          [
           30,
           26,
           23,
           25,
           39,
           60,
           60,
           49,
           59,
           37,
           37,
           28
          ],
          [
           32,
           30,
           26,
           41,
           62,
           62,
           88,
           83,
           66,
           60,
           47,
           31
          ],
          [
           6,
           12,
           14,
           10,
           21,
           22,
           18,
           24,
           32,
           30,
           20,
           22
          ],
          [
           14,
           12,
           9,
           16,
           27,
           39,
           45,
           48,
           48,
           25,
           31,
           15
          ],
          [
           50,
           51,
           55,
           43,
           87,
           102,
           109,
           96,
           101,
           86,
           92,
           57
          ],
          [
           47,
           61,
           47,
           64,
           99,
           108,
           144,
           117,
           127,
           110,
           79,
           88
          ],
          [
           2,
           9,
           5,
           8,
           7,
           8,
           17,
           8,
           2,
           8,
           3,
           2
          ],
          [
           17,
           25,
           16,
           13,
           28,
           35,
           40,
           34,
           35,
           30,
           23,
           22
          ],
          [
           14,
           24,
           16,
           15,
           25,
           36,
           34,
           42,
           23,
           28,
           24,
           22
          ]
         ]
        }
       ],
       "layout": {
        "height": 800,
        "template": {
         "data": {
          "bar": [
           {
            "error_x": {
             "color": "#2a3f5f"
            },
            "error_y": {
             "color": "#2a3f5f"
            },
            "marker": {
             "line": {
              "color": "#E5ECF6",
              "width": 0.5
             },
             "pattern": {
              "fillmode": "overlay",
              "size": 10,
              "solidity": 0.2
             }
            },
            "type": "bar"
           }
          ],
          "barpolar": [
           {
            "marker": {
             "line": {
              "color": "#E5ECF6",
              "width": 0.5
             },
             "pattern": {
              "fillmode": "overlay",
              "size": 10,
              "solidity": 0.2
             }
            },
            "type": "barpolar"
           }
          ],
          "carpet": [
           {
            "aaxis": {
             "endlinecolor": "#2a3f5f",
             "gridcolor": "white",
             "linecolor": "white",
             "minorgridcolor": "white",
             "startlinecolor": "#2a3f5f"
            },
            "baxis": {
             "endlinecolor": "#2a3f5f",
             "gridcolor": "white",
             "linecolor": "white",
             "minorgridcolor": "white",
             "startlinecolor": "#2a3f5f"
            },
            "type": "carpet"
           }
          ],
          "choropleth": [
           {
            "colorbar": {
             "outlinewidth": 0,
             "ticks": ""
            },
            "type": "choropleth"
           }
          ],
          "contour": [
           {
            "colorbar": {
             "outlinewidth": 0,
             "ticks": ""
            },
            "colorscale": [
             [
              0,
              "#0d0887"
             ],
             [
              0.1111111111111111,
              "#46039f"
             ],
             [
              0.2222222222222222,
              "#7201a8"
             ],
             [
              0.3333333333333333,
              "#9c179e"
             ],
             [
              0.4444444444444444,
              "#bd3786"
             ],
             [
              0.5555555555555556,
              "#d8576b"
             ],
             [
              0.6666666666666666,
              "#ed7953"
             ],
             [
              0.7777777777777778,
              "#fb9f3a"
             ],
             [
              0.8888888888888888,
              "#fdca26"
             ],
             [
              1,
              "#f0f921"
             ]
            ],
            "type": "contour"
           }
          ],
          "contourcarpet": [
           {
            "colorbar": {
             "outlinewidth": 0,
             "ticks": ""
            },
            "type": "contourcarpet"
           }
          ],
          "heatmap": [
           {
            "colorbar": {
             "outlinewidth": 0,
             "ticks": ""
            },
            "colorscale": [
             [
              0,
              "#0d0887"
             ],
             [
              0.1111111111111111,
              "#46039f"
             ],
             [
              0.2222222222222222,
              "#7201a8"
             ],
             [
              0.3333333333333333,
              "#9c179e"
             ],
             [
              0.4444444444444444,
              "#bd3786"
             ],
             [
              0.5555555555555556,
              "#d8576b"
             ],
             [
              0.6666666666666666,
              "#ed7953"
             ],
             [
              0.7777777777777778,
              "#fb9f3a"
             ],
             [
              0.8888888888888888,
              "#fdca26"
             ],
             [
              1,
              "#f0f921"
             ]
            ],
            "type": "heatmap"
           }
          ],
          "heatmapgl": [
           {
            "colorbar": {
             "outlinewidth": 0,
             "ticks": ""
            },
            "colorscale": [
             [
              0,
              "#0d0887"
             ],
             [
              0.1111111111111111,
              "#46039f"
             ],
             [
              0.2222222222222222,
              "#7201a8"
             ],
             [
              0.3333333333333333,
              "#9c179e"
             ],
             [
              0.4444444444444444,
              "#bd3786"
             ],
             [
              0.5555555555555556,
              "#d8576b"
             ],
             [
              0.6666666666666666,
              "#ed7953"
             ],
             [
              0.7777777777777778,
              "#fb9f3a"
             ],
             [
              0.8888888888888888,
              "#fdca26"
             ],
             [
              1,
              "#f0f921"
             ]
            ],
            "type": "heatmapgl"
           }
          ],
          "histogram": [
           {
            "marker": {
             "pattern": {
              "fillmode": "overlay",
              "size": 10,
              "solidity": 0.2
             }
            },
            "type": "histogram"
           }
          ],
          "histogram2d": [
           {
            "colorbar": {
             "outlinewidth": 0,
             "ticks": ""
            },
            "colorscale": [
             [
              0,
              "#0d0887"
             ],
             [
              0.1111111111111111,
              "#46039f"
             ],
             [
              0.2222222222222222,
              "#7201a8"
             ],
             [
              0.3333333333333333,
              "#9c179e"
             ],
             [
              0.4444444444444444,
              "#bd3786"
             ],
             [
              0.5555555555555556,
              "#d8576b"
             ],
             [
              0.6666666666666666,
              "#ed7953"
             ],
             [
              0.7777777777777778,
              "#fb9f3a"
             ],
             [
              0.8888888888888888,
              "#fdca26"
             ],
             [
              1,
              "#f0f921"
             ]
            ],
            "type": "histogram2d"
           }
          ],
          "histogram2dcontour": [
           {
            "colorbar": {
             "outlinewidth": 0,
             "ticks": ""
            },
            "colorscale": [
             [
              0,
              "#0d0887"
             ],
             [
              0.1111111111111111,
              "#46039f"
             ],
             [
              0.2222222222222222,
              "#7201a8"
             ],
             [
              0.3333333333333333,
              "#9c179e"
             ],
             [
              0.4444444444444444,
              "#bd3786"
             ],
             [
              0.5555555555555556,
              "#d8576b"
             ],
             [
              0.6666666666666666,
              "#ed7953"
             ],
             [
              0.7777777777777778,
              "#fb9f3a"
             ],
             [
              0.8888888888888888,
              "#fdca26"
             ],
             [
              1,
              "#f0f921"
             ]
            ],
            "type": "histogram2dcontour"
           }
          ],
          "mesh3d": [
           {
            "colorbar": {
             "outlinewidth": 0,
             "ticks": ""
            },
            "type": "mesh3d"
           }
          ],
          "parcoords": [
           {
            "line": {
             "colorbar": {
              "outlinewidth": 0,
              "ticks": ""
             }
            },
            "type": "parcoords"
           }
          ],
          "pie": [
           {
            "automargin": true,
            "type": "pie"
           }
          ],
          "scatter": [
           {
            "fillpattern": {
             "fillmode": "overlay",
             "size": 10,
             "solidity": 0.2
            },
            "type": "scatter"
           }
          ],
          "scatter3d": [
           {
            "line": {
             "colorbar": {
              "outlinewidth": 0,
              "ticks": ""
             }
            },
            "marker": {
             "colorbar": {
              "outlinewidth": 0,
              "ticks": ""
             }
            },
            "type": "scatter3d"
           }
          ],
          "scattercarpet": [
           {
            "marker": {
             "colorbar": {
              "outlinewidth": 0,
              "ticks": ""
             }
            },
            "type": "scattercarpet"
           }
          ],
          "scattergeo": [
           {
            "marker": {
             "colorbar": {
              "outlinewidth": 0,
              "ticks": ""
             }
            },
            "type": "scattergeo"
           }
          ],
          "scattergl": [
           {
            "marker": {
             "colorbar": {
              "outlinewidth": 0,
              "ticks": ""
             }
            },
            "type": "scattergl"
           }
          ],
          "scattermapbox": [
           {
            "marker": {
             "colorbar": {
              "outlinewidth": 0,
              "ticks": ""
             }
            },
            "type": "scattermapbox"
           }
          ],
          "scatterpolar": [
           {
            "marker": {
             "colorbar": {
              "outlinewidth": 0,
              "ticks": ""
             }
            },
            "type": "scatterpolar"
           }
          ],
          "scatterpolargl": [
           {
            "marker": {
             "colorbar": {
              "outlinewidth": 0,
              "ticks": ""
             }
            },
            "type": "scatterpolargl"
           }
          ],
          "scatterternary": [
           {
            "marker": {
             "colorbar": {
              "outlinewidth": 0,
              "ticks": ""
             }
            },
            "type": "scatterternary"
           }
          ],
          "surface": [
           {
            "colorbar": {
             "outlinewidth": 0,
             "ticks": ""
            },
            "colorscale": [
             [
              0,
              "#0d0887"
             ],
             [
              0.1111111111111111,
              "#46039f"
             ],
             [
              0.2222222222222222,
              "#7201a8"
             ],
             [
              0.3333333333333333,
              "#9c179e"
             ],
             [
              0.4444444444444444,
              "#bd3786"
             ],
             [
              0.5555555555555556,
              "#d8576b"
             ],
             [
              0.6666666666666666,
              "#ed7953"
             ],
             [
              0.7777777777777778,
              "#fb9f3a"
             ],
             [
              0.8888888888888888,
              "#fdca26"
             ],
             [
              1,
              "#f0f921"
             ]
            ],
            "type": "surface"
           }
          ],
          "table": [
           {
            "cells": {
             "fill": {
              "color": "#EBF0F8"
             },
             "line": {
              "color": "white"
             }
            },
            "header": {
             "fill": {
              "color": "#C8D4E3"
             },
             "line": {
              "color": "white"
             }
            },
            "type": "table"
           }
          ]
         },
         "layout": {
          "annotationdefaults": {
           "arrowcolor": "#2a3f5f",
           "arrowhead": 0,
           "arrowwidth": 1
          },
          "autotypenumbers": "strict",
          "coloraxis": {
           "colorbar": {
            "outlinewidth": 0,
            "ticks": ""
           }
          },
          "colorscale": {
           "diverging": [
            [
             0,
             "#8e0152"
            ],
            [
             0.1,
             "#c51b7d"
            ],
            [
             0.2,
             "#de77ae"
            ],
            [
             0.3,
             "#f1b6da"
            ],
            [
             0.4,
             "#fde0ef"
            ],
            [
             0.5,
             "#f7f7f7"
            ],
            [
             0.6,
             "#e6f5d0"
            ],
            [
             0.7,
             "#b8e186"
            ],
            [
             0.8,
             "#7fbc41"
            ],
            [
             0.9,
             "#4d9221"
            ],
            [
             1,
             "#276419"
            ]
           ],
           "sequential": [
            [
             0,
             "#0d0887"
            ],
            [
             0.1111111111111111,
             "#46039f"
            ],
            [
             0.2222222222222222,
             "#7201a8"
            ],
            [
             0.3333333333333333,
             "#9c179e"
            ],
            [
             0.4444444444444444,
             "#bd3786"
            ],
            [
             0.5555555555555556,
             "#d8576b"
            ],
            [
             0.6666666666666666,
             "#ed7953"
            ],
            [
             0.7777777777777778,
             "#fb9f3a"
            ],
            [
             0.8888888888888888,
             "#fdca26"
            ],
            [
             1,
             "#f0f921"
            ]
           ],
           "sequentialminus": [
            [
             0,
             "#0d0887"
            ],
            [
             0.1111111111111111,
             "#46039f"
            ],
            [
             0.2222222222222222,
             "#7201a8"
            ],
            [
             0.3333333333333333,
             "#9c179e"
            ],
            [
             0.4444444444444444,
             "#bd3786"
            ],
            [
             0.5555555555555556,
             "#d8576b"
            ],
            [
             0.6666666666666666,
             "#ed7953"
            ],
            [
             0.7777777777777778,
             "#fb9f3a"
            ],
            [
             0.8888888888888888,
             "#fdca26"
            ],
            [
             1,
             "#f0f921"
            ]
           ]
          },
          "colorway": [
           "#636efa",
           "#EF553B",
           "#00cc96",
           "#ab63fa",
           "#FFA15A",
           "#19d3f3",
           "#FF6692",
           "#B6E880",
           "#FF97FF",
           "#FECB52"
          ],
          "font": {
           "color": "#2a3f5f"
          },
          "geo": {
           "bgcolor": "white",
           "lakecolor": "white",
           "landcolor": "#E5ECF6",
           "showlakes": true,
           "showland": true,
           "subunitcolor": "white"
          },
          "hoverlabel": {
           "align": "left"
          },
          "hovermode": "closest",
          "mapbox": {
           "style": "light"
          },
          "paper_bgcolor": "white",
          "plot_bgcolor": "#E5ECF6",
          "polar": {
           "angularaxis": {
            "gridcolor": "white",
            "linecolor": "white",
            "ticks": ""
           },
           "bgcolor": "#E5ECF6",
           "radialaxis": {
            "gridcolor": "white",
            "linecolor": "white",
            "ticks": ""
           }
          },
          "scene": {
           "xaxis": {
            "backgroundcolor": "#E5ECF6",
            "gridcolor": "white",
            "gridwidth": 2,
            "linecolor": "white",
            "showbackground": true,
            "ticks": "",
            "zerolinecolor": "white"
           },
           "yaxis": {
            "backgroundcolor": "#E5ECF6",
            "gridcolor": "white",
            "gridwidth": 2,
            "linecolor": "white",
            "showbackground": true,
            "ticks": "",
            "zerolinecolor": "white"
           },
           "zaxis": {
            "backgroundcolor": "#E5ECF6",
            "gridcolor": "white",
            "gridwidth": 2,
            "linecolor": "white",
            "showbackground": true,
            "ticks": "",
            "zerolinecolor": "white"
           }
          },
          "shapedefaults": {
           "line": {
            "color": "#2a3f5f"
           }
          },
          "ternary": {
           "aaxis": {
            "gridcolor": "white",
            "linecolor": "white",
            "ticks": ""
           },
           "baxis": {
            "gridcolor": "white",
            "linecolor": "white",
            "ticks": ""
           },
           "bgcolor": "#E5ECF6",
           "caxis": {
            "gridcolor": "white",
            "linecolor": "white",
            "ticks": ""
           }
          },
          "title": {
           "x": 0.05
          },
          "xaxis": {
           "automargin": true,
           "gridcolor": "white",
           "linecolor": "white",
           "ticks": "",
           "title": {
            "standoff": 15
           },
           "zerolinecolor": "white",
           "zerolinewidth": 2
          },
          "yaxis": {
           "automargin": true,
           "gridcolor": "white",
           "linecolor": "white",
           "ticks": "",
           "title": {
            "standoff": 15
           },
           "zerolinecolor": "white",
           "zerolinewidth": 2
          }
         }
        },
        "title": {
         "text": "Severe Accidents by Region and Month (Hover for Details)"
        },
        "width": 1200,
        "xaxis": {
         "title": {
          "text": "Month"
         }
        },
        "yaxis": {
         "title": {
          "text": "Administrative Region"
         }
        }
       }
      }
     },
     "metadata": {},
     "output_type": "display_data"
    }
   ],
   "source": [
    "import pandas as pd\n",
    "import plotly.graph_objects as go\n",
    "\n",
    "# Mapping mois → abréviations\n",
    "month_map = {\n",
    "    1: 'Jan', 2: 'Feb', 3: 'Mar', 4: 'Apr',\n",
    "    5: 'May', 6: 'Jun', 7: 'Jul', 8: 'Aug',\n",
    "    9: 'Sep', 10: 'Oct', 11: 'Nov', 12: 'Dec'\n",
    "}\n",
    "\n",
    "# Préparation des données\n",
    "df_grave = df[df['GRAVITE'] == 'Mortel ou grave'].dropna(subset=['REG_ADM', 'MS_ACCDN'])\n",
    "\n",
    "# Convertir et filtrer les mois\n",
    "df_grave['MS_ACCDN'] = pd.to_numeric(df_grave['MS_ACCDN'], errors='coerce').astype('Int64')\n",
    "df_grave = df_grave[df_grave['MS_ACCDN'].between(1, 12)]\n",
    "\n",
    "# Nettoyage des noms de régions\n",
    "df_grave['REG_ADM'] = df_grave['REG_ADM'].str.replace(r\"\\s*\\(\\d+\\)\", \"\", regex=True)\n",
    "\n",
    "# Pivot table\n",
    "pivot = df_grave.pivot_table(index='REG_ADM', columns='MS_ACCDN', aggfunc='size', fill_value=0)\n",
    "\n",
    "# Forcer tous les mois\n",
    "for m in range(1, 13):\n",
    "    if m not in pivot.columns:\n",
    "        pivot[m] = 0\n",
    "\n",
    "# Réordonner\n",
    "pivot = pivot[sorted(pivot.columns)]\n",
    "\n",
    "# Noms formatés pour x et y\n",
    "x_labels = [month_map[m] for m in pivot.columns]\n",
    "y_labels = pivot.index.tolist()\n",
    "z_values = pivot.values\n",
    "\n",
    "# Construction du texte de hover\n",
    "hover_text = [[f\"{val} severe accidents in {y_labels[i]} during {x_labels[j]}\"\n",
    "               for j, val in enumerate(row)] for i, row in enumerate(z_values)]\n",
    "\n",
    "# Création de la figure interactive\n",
    "fig = go.Figure(data=go.Heatmap(\n",
    "    z=z_values,\n",
    "    x=x_labels,\n",
    "    y=y_labels,\n",
    "    text=hover_text,\n",
    "    hoverinfo=\"text\",\n",
    "    colorscale='Reds',\n",
    "    colorbar=dict(title=\"Accidents\")\n",
    "))\n",
    "\n",
    "fig.update_layout(\n",
    "    title=\"Severe Accidents by Region and Month (Hover for Details)\",\n",
    "    xaxis_title=\"Month\",\n",
    "    yaxis_title=\"Administrative Region\",\n",
    "    width=1200,   \n",
    "    height=800   \n",
    ")\n",
    "\n",
    "fig.show()\n"
   ]
  },
  {
   "cell_type": "markdown",
   "id": "d0c13d21",
   "metadata": {},
   "source": [
    "2. Graphique multi-facette par moment de la journée et jour de la semaine"
   ]
  },
  {
   "cell_type": "code",
   "execution_count": 15,
   "id": "8cf35e3f",
   "metadata": {},
   "outputs": [
    {
     "data": {
      "image/png": "[encoded data removed]",
      "text/plain": [
       "<Figure size 1200x800 with 1 Axes>"
      ]
     },
     "metadata": {},
     "output_type": "display_data"
    }
   ],
   "source": [
    "# Préparation\n",
    "df_grave_time = df[df['GRAVITE'] == 'Mortel ou grave'].dropna(subset=['HR_ACCDN', 'JR_SEMN_ACCDN'])\n",
    "\n",
    "plt.figure(figsize=(12, 8))\n",
    "sns.countplot(data=df_grave_time, x='HR_ACCDN', hue='JR_SEMN_ACCDN',\n",
    "              order=[\n",
    "                  '00:00:00-03:59:00', '04:00:00-07:59:00',\n",
    "                  '08:00:00-11:59:00', '12:00:00-15:59:00',\n",
    "                  '16:00:00-19:59:00', '20:00:00-23:59:00'\n",
    "              ])\n",
    "plt.title(\"Répartition des accidents graves par heure et jour de la semaine\")\n",
    "plt.xlabel(\"Tranche horaire\")\n",
    "plt.ylabel(\"Nombre d'accidents graves\")\n",
    "plt.legend(title=\"Jour de la semaine\", bbox_to_anchor=(1.05, 1), loc='upper left')\n",
    "plt.tight_layout()\n",
    "plt.savefig(\"accidents_graves_heure_jour.png\")\n",
    "plt.show()\n"
   ]
  },
  {
   "cell_type": "markdown",
   "id": "6f0b8c14",
   "metadata": {},
   "source": [
    "3. Ligne temporelle des accidents graves par année (facultatif mais synthétique)"
   ]
  },
  {
   "cell_type": "code",
   "execution_count": 16,
   "id": "65be19f2",
   "metadata": {},
   "outputs": [
    {
     "name": "stderr",
     "output_type": "stream",
     "text": [
      "c:\\Users\\HP\\anaconda3\\Lib\\site-packages\\seaborn\\_oldcore.py:1119: FutureWarning: use_inf_as_na option is deprecated and will be removed in a future version. Convert inf values to NaN before operating instead.\n",
      "  with pd.option_context('mode.use_inf_as_na', True):\n",
      "c:\\Users\\HP\\anaconda3\\Lib\\site-packages\\seaborn\\_oldcore.py:1119: FutureWarning: use_inf_as_na option is deprecated and will be removed in a future version. Convert inf values to NaN before operating instead.\n",
      "  with pd.option_context('mode.use_inf_as_na', True):\n"
     ]
    },
    {
     "data": {
      "image/png": "[encoded data removed]",
      "text/plain": [
       "<Figure size 1000x600 with 1 Axes>"
      ]
     },
     "metadata": {},
     "output_type": "display_data"
    }
   ],
   "source": [
    "# Évolution annuelle des accidents graves\n",
    "df_annual = df[df['GRAVITE'] == 'Mortel ou grave'].dropna(subset=['AN'])\n",
    "yearly_counts = df_annual.groupby('AN').size()\n",
    "\n",
    "plt.figure(figsize=(10, 6))\n",
    "sns.lineplot(x=yearly_counts.index, y=yearly_counts.values, marker='o')\n",
    "plt.title(\"Évolution des accidents graves au Québec (par année)\")\n",
    "plt.xlabel(\"Année\")\n",
    "plt.ylabel(\"Nombre d'accidents graves\")\n",
    "plt.tight_layout()\n",
    "plt.savefig(\"evolution_graves_par_annee.png\")\n",
    "plt.show()\n"
   ]
  }
 ],
 "metadata": {
  "kernelspec": {
   "display_name": "base",
   "language": "python",
   "name": "python3"
  },
  "language_info": {
   "codemirror_mode": {
    "name": "ipython",
    "version": 3
   },
   "file_extension": ".py",
   "mimetype": "text/x-python",
   "name": "python",
   "nbconvert_exporter": "python",
   "pygments_lexer": "ipython3",
   "version": "3.11.7"
  }
 },
 "nbformat": 4,
 "nbformat_minor": 5
}
