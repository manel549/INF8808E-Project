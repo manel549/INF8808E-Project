{
 "cells": [
  {
   "cell_type": "code",
   "execution_count": 2,
   "metadata": {},
   "outputs": [],
   "source": [
    "import pandas as pd\n",
    "import plotly.express as px\n",
    "import plotly.io as pio\n",
    "pio.renderers.default = 'notebook'\n"
   ]
  },
  {
   "cell_type": "code",
   "execution_count": 5,
   "metadata": {},
   "outputs": [
    {
     "name": "stdout",
     "output_type": "stream",
     "text": [
      "Index(['AN', 'NO_SEQ_COLL', 'MS_ACCDN', 'HR_ACCDN', 'JR_SEMN_ACCDN', 'GRAVITE',\n",
      "       'NB_VICTIMES_TOTAL', 'NB_VEH_IMPLIQUES_ACCDN', '\\t\\t\\t\"REG_ADM\"',\n",
      "       'VITESSE_AUTOR', 'CD_GENRE_ACCDN', 'CD_ETAT_SURFC', 'CD_ECLRM',\n",
      "       'CD_ENVRN_ACCDN', 'CD_CATEG_ROUTE', 'CD_ASPCT_ROUTE',\n",
      "       '\\t\\t\\t\"CD_LOCLN_ACCDN\"', 'CD_CONFG_ROUTE', 'CD_ZON_TRAVX_ROUTR',\n",
      "       'CD_COND_METEO', 'IND_AUTO_CAMION_LEGER', 'IND_VEH_LOURD',\n",
      "       'IND_MOTO_CYCLO', '\\t\\t\\t\"IND_VELO\"', 'IND_PIETON'],\n",
      "      dtype='object')\n"
     ]
    }
   ],
   "source": [
    "# Charger le dataset\n",
    "df = pd.read_csv(r'C:\\Users\\RBerbere\\Downloads\\code (1) - Copie\\code\\src\\assets\\data\\data_fusionnee (1).csv')\n",
    "print(df.columns)"
   ]
  },
  {
   "cell_type": "code",
   "execution_count": 6,
   "metadata": {},
   "outputs": [
    {
     "name": "stdout",
     "output_type": "stream",
     "text": [
      "Index(['AN', 'NO_SEQ_COLL', 'MS_ACCDN', 'HR_ACCDN', 'JR_SEMN_ACCDN', 'GRAVITE',\n",
      "       'NB_VICTIMES_TOTAL', 'NB_VEH_IMPLIQUES_ACCDN', 'REG_ADM',\n",
      "       'VITESSE_AUTOR', 'CD_GENRE_ACCDN', 'CD_ETAT_SURFC', 'CD_ECLRM',\n",
      "       'CD_ENVRN_ACCDN', 'CD_CATEG_ROUTE', 'CD_ASPCT_ROUTE', 'CD_LOCLN_ACCDN',\n",
      "       'CD_CONFG_ROUTE', 'CD_ZON_TRAVX_ROUTR', 'CD_COND_METEO',\n",
      "       'IND_AUTO_CAMION_LEGER', 'IND_VEH_LOURD', 'IND_MOTO_CYCLO', 'IND_VELO',\n",
      "       'IND_PIETON'],\n",
      "      dtype='object')\n"
     ]
    }
   ],
   "source": [
    "# Nettoyer les noms de colonnes\n",
    "df.columns = df.columns.str.strip().str.replace('\"', '')\n",
    "print(df.columns)"
   ]
  },
  {
   "cell_type": "code",
   "execution_count": 7,
   "metadata": {},
   "outputs": [],
   "source": [
    "# Définir l'ordre des catégories de gravité\n",
    "severity_order = ['Property damage only', 'Minor injury', 'Fatal or serious injury']\n",
    "df['GRAVITE'] = pd.Categorical(df['GRAVITE'], categories=severity_order, ordered=True)"
   ]
  },
  {
   "cell_type": "code",
   "execution_count": 8,
   "metadata": {},
   "outputs": [],
   "source": [
    "# Groupby avec observed=True pour éviter warning\n",
    "df_route_severity = df.groupby(['CD_CATEG_ROUTE', 'GRAVITE'], observed=True).size().reset_index(name='count')\n",
    "df_config_severity = df.groupby(['CD_CONFG_ROUTE', 'GRAVITE'], observed=True).size().reset_index(name='count')"
   ]
  },
  {
   "cell_type": "code",
   "execution_count": 9,
   "metadata": {},
   "outputs": [
    {
     "ename": "ValueError",
     "evalue": "Mime type rendering requires nbformat>=4.2.0 but it is not installed",
     "output_type": "error",
     "traceback": [
      "\u001b[31m---------------------------------------------------------------------------\u001b[39m",
      "\u001b[31mValueError\u001b[39m                                Traceback (most recent call last)",
      "\u001b[36mCell\u001b[39m\u001b[36m \u001b[39m\u001b[32mIn[9]\u001b[39m\u001b[32m, line 11\u001b[39m\n\u001b[32m      1\u001b[39m \u001b[38;5;66;03m# Graphique par type de route\u001b[39;00m\n\u001b[32m      2\u001b[39m fig1 = px.bar(\n\u001b[32m      3\u001b[39m     df_route_severity,\n\u001b[32m      4\u001b[39m     x=\u001b[33m'\u001b[39m\u001b[33mCD_CATEG_ROUTE\u001b[39m\u001b[33m'\u001b[39m,\n\u001b[32m   (...)\u001b[39m\u001b[32m      9\u001b[39m     category_orders={\u001b[33m'\u001b[39m\u001b[33mGRAVITE\u001b[39m\u001b[33m'\u001b[39m: severity_order}\n\u001b[32m     10\u001b[39m )\n\u001b[32m---> \u001b[39m\u001b[32m11\u001b[39m \u001b[43mfig1\u001b[49m\u001b[43m.\u001b[49m\u001b[43mshow\u001b[49m\u001b[43m(\u001b[49m\u001b[43m)\u001b[49m\n",
      "\u001b[36mFile \u001b[39m\u001b[32mc:\\Users\\RBerbere\\Downloads\\code (1) - Copie\\venv\\Lib\\site-packages\\plotly\\basedatatypes.py:3436\u001b[39m, in \u001b[36mBaseFigure.show\u001b[39m\u001b[34m(self, *args, **kwargs)\u001b[39m\n\u001b[32m   3403\u001b[39m \u001b[38;5;250m\u001b[39m\u001b[33;03m\"\"\"\u001b[39;00m\n\u001b[32m   3404\u001b[39m \u001b[33;03mShow a figure using either the default renderer(s) or the renderer(s)\u001b[39;00m\n\u001b[32m   3405\u001b[39m \u001b[33;03mspecified by the renderer argument\u001b[39;00m\n\u001b[32m   (...)\u001b[39m\u001b[32m   3432\u001b[39m \u001b[33;03mNone\u001b[39;00m\n\u001b[32m   3433\u001b[39m \u001b[33;03m\"\"\"\u001b[39;00m\n\u001b[32m   3434\u001b[39m \u001b[38;5;28;01mimport\u001b[39;00m\u001b[38;5;250m \u001b[39m\u001b[34;01mplotly\u001b[39;00m\u001b[34;01m.\u001b[39;00m\u001b[34;01mio\u001b[39;00m\u001b[38;5;250m \u001b[39m\u001b[38;5;28;01mas\u001b[39;00m\u001b[38;5;250m \u001b[39m\u001b[34;01mpio\u001b[39;00m\n\u001b[32m-> \u001b[39m\u001b[32m3436\u001b[39m \u001b[38;5;28;01mreturn\u001b[39;00m \u001b[43mpio\u001b[49m\u001b[43m.\u001b[49m\u001b[43mshow\u001b[49m\u001b[43m(\u001b[49m\u001b[38;5;28;43mself\u001b[39;49m\u001b[43m,\u001b[49m\u001b[43m \u001b[49m\u001b[43m*\u001b[49m\u001b[43margs\u001b[49m\u001b[43m,\u001b[49m\u001b[43m \u001b[49m\u001b[43m*\u001b[49m\u001b[43m*\u001b[49m\u001b[43mkwargs\u001b[49m\u001b[43m)\u001b[49m\n",
      "\u001b[36mFile \u001b[39m\u001b[32mc:\\Users\\RBerbere\\Downloads\\code (1) - Copie\\venv\\Lib\\site-packages\\plotly\\io\\_renderers.py:425\u001b[39m, in \u001b[36mshow\u001b[39m\u001b[34m(fig, renderer, validate, **kwargs)\u001b[39m\n\u001b[32m    420\u001b[39m     \u001b[38;5;28;01mraise\u001b[39;00m \u001b[38;5;167;01mValueError\u001b[39;00m(\n\u001b[32m    421\u001b[39m         \u001b[33m\"\u001b[39m\u001b[33mMime type rendering requires ipython but it is not installed\u001b[39m\u001b[33m\"\u001b[39m\n\u001b[32m    422\u001b[39m     )\n\u001b[32m    424\u001b[39m \u001b[38;5;28;01mif\u001b[39;00m \u001b[38;5;129;01mnot\u001b[39;00m nbformat \u001b[38;5;129;01mor\u001b[39;00m Version(nbformat.__version__) < Version(\u001b[33m\"\u001b[39m\u001b[33m4.2.0\u001b[39m\u001b[33m\"\u001b[39m):\n\u001b[32m--> \u001b[39m\u001b[32m425\u001b[39m     \u001b[38;5;28;01mraise\u001b[39;00m \u001b[38;5;167;01mValueError\u001b[39;00m(\n\u001b[32m    426\u001b[39m         \u001b[33m\"\u001b[39m\u001b[33mMime type rendering requires nbformat>=4.2.0 but it is not installed\u001b[39m\u001b[33m\"\u001b[39m\n\u001b[32m    427\u001b[39m     )\n\u001b[32m    429\u001b[39m display_jupyter_version_warnings()\n\u001b[32m    431\u001b[39m ipython_display.display(bundle, raw=\u001b[38;5;28;01mTrue\u001b[39;00m)\n",
      "\u001b[31mValueError\u001b[39m: Mime type rendering requires nbformat>=4.2.0 but it is not installed"
     ]
    }
   ],
   "source": [
    "# Graphique par type de route\n",
    "fig1 = px.bar(\n",
    "    df_route_severity,\n",
    "    x='CD_CATEG_ROUTE',\n",
    "    y='count',\n",
    "    color='GRAVITE',\n",
    "    title='Gravité des accidents par type de route',\n",
    "    labels={'CD_CATEG_ROUTE': 'Type de route', 'count': 'Nombre d\\'accidents', 'GRAVITE': 'Gravité'},\n",
    "    category_orders={'GRAVITE': severity_order}\n",
    ")\n",
    "fig1.show()"
   ]
  },
  {
   "cell_type": "code",
   "execution_count": null,
   "metadata": {},
   "outputs": [],
   "source": [
    "\n",
    "# Graphique par configuration de la route\n",
    "fig2 = px.bar(\n",
    "    df_config_severity,\n",
    "    x='CD_CONFG_ROUTE',\n",
    "    y='count',\n",
    "    color='GRAVITE',\n",
    "    title='Gravité des accidents par configuration de la route',\n",
    "    labels={'CD_CONFG_ROUTE': 'Configuration de la route', 'count': 'Nombre d\\'accidents', 'GRAVITE': 'Gravité'},\n",
    "    category_orders={'GRAVITE': severity_order}\n",
    ")\n",
    "fig2.show()"
   ]
  }
 ],
 "metadata": {
  "kernelspec": {
   "display_name": "venv",
   "language": "python",
   "name": "python3"
  },
  "language_info": {
   "codemirror_mode": {
    "name": "ipython",
    "version": 3
   },
   "file_extension": ".py",
   "mimetype": "text/x-python",
   "name": "python",
   "nbconvert_exporter": "python",
   "pygments_lexer": "ipython3",
   "version": "3.13.3"
  }
 },
 "nbformat": 4,
 "nbformat_minor": 2
}
