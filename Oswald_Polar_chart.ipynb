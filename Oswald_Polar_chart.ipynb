{
 "cells": [
  {
   "cell_type": "code",
   "execution_count": 2,
   "id": "09811169-4634-4f59-bb68-ba954f94c745",
   "metadata": {},
   "outputs": [
    {
     "data": {
      "application/vnd.plotly.v1+json": {
       "config": {
        "plotlyServerURL": "https://plot.ly"
       },
       "data": [
        {
         "hoverinfo": "text",
         "hovertext": [
          "Saison : Hiver<br>Surface : Sec<br>Éclairement : Jour et clarté<br>Accidents graves : 222",
          "Saison : Hiver<br>Surface : Mouillé<br>Éclairement : Jour et clarté<br>Accidents graves : 104",
          "Saison : Hiver<br>Surface : Aquaplanage<br>Éclairement : Jour et clarté<br>Accidents graves : 3",
          "Saison : Hiver<br>Surface : Sable/Gravier<br>Éclairement : Jour et clarté<br>Accidents graves : 3",
          "Saison : Hiver<br>Surface : Neige fondante<br>Éclairement : Jour et clarté<br>Accidents graves : 37",
          "Saison : Hiver<br>Surface : Neige<br>Éclairement : Jour et clarté<br>Accidents graves : 147",
          "Saison : Hiver<br>Surface : Neige durcie<br>Éclairement : Jour et clarté<br>Accidents graves : 49",
          "Saison : Hiver<br>Surface : Glacé<br>Éclairement : Jour et clarté<br>Accidents graves : 95",
          "Saison : Hiver<br>Surface : Boueux<br>Éclairement : Jour et clarté<br>Accidents graves : 3",
          "Saison : Hiver<br>Surface : Autre<br>Éclairement : Jour et clarté<br>Accidents graves : 0"
         ],
         "marker": {
          "color": "#FFD700"
         },
         "name": "Hiver – Jour et clarté",
         "opacity": 0.85,
         "r": [
          222,
          104,
          3,
          3,
          37,
          147,
          49,
          95,
          3,
          0
         ],
         "theta": [
          0,
          36,
          72,
          108,
          144,
          180,
          216,
          252,
          288,
          324
         ],
         "type": "barpolar",
         "visible": true
        },
        {
         "hoverinfo": "text",
         "hovertext": [
          "Saison : Hiver<br>Surface : Sec<br>Éclairement : Jour et demi-obscurité<br>Accidents graves : 20",
          "Saison : Hiver<br>Surface : Mouillé<br>Éclairement : Jour et demi-obscurité<br>Accidents graves : 8",
          "Saison : Hiver<br>Surface : Aquaplanage<br>Éclairement : Jour et demi-obscurité<br>Accidents graves : 0",
          "Saison : Hiver<br>Surface : Sable/Gravier<br>Éclairement : Jour et demi-obscurité<br>Accidents graves : 0",
          "Saison : Hiver<br>Surface : Neige fondante<br>Éclairement : Jour et demi-obscurité<br>Accidents graves : 5",
          "Saison : Hiver<br>Surface : Neige<br>Éclairement : Jour et demi-obscurité<br>Accidents graves : 9",
          "Saison : Hiver<br>Surface : Neige durcie<br>Éclairement : Jour et demi-obscurité<br>Accidents graves : 3",
          "Saison : Hiver<br>Surface : Glacé<br>Éclairement : Jour et demi-obscurité<br>Accidents graves : 13",
          "Saison : Hiver<br>Surface : Boueux<br>Éclairement : Jour et demi-obscurité<br>Accidents graves : 0",
          "Saison : Hiver<br>Surface : Autre<br>Éclairement : Jour et demi-obscurité<br>Accidents graves : 0"
         ],
         "marker": {
          "color": "#FFA500"
         },
         "name": "Hiver – Jour et demi-obscurité",
         "opacity": 0.85,
         "r": [
          20,
          8,
          0,
          0,
          5,
          9,
          3,
          13,
          0,
          0
         ],
         "theta": [
          0,
          36,
          72,
          108,
          144,
          180,
          216,
          252,
          288,
          324
         ],
         "type": "barpolar",
         "visible": true
        },
        {
         "hoverinfo": "text",
         "hovertext": [
          "Saison : Hiver<br>Surface : Sec<br>Éclairement : Nuit et chemin éclairé<br>Accidents graves : 66",
          "Saison : Hiver<br>Surface : Mouillé<br>Éclairement : Nuit et chemin éclairé<br>Accidents graves : 68",
          "Saison : Hiver<br>Surface : Aquaplanage<br>Éclairement : Nuit et chemin éclairé<br>Accidents graves : 0",
          "Saison : Hiver<br>Surface : Sable/Gravier<br>Éclairement : Nuit et chemin éclairé<br>Accidents graves : 0",
          "Saison : Hiver<br>Surface : Neige fondante<br>Éclairement : Nuit et chemin éclairé<br>Accidents graves : 15",
          "Saison : Hiver<br>Surface : Neige<br>Éclairement : Nuit et chemin éclairé<br>Accidents graves : 36",
          "Saison : Hiver<br>Surface : Neige durcie<br>Éclairement : Nuit et chemin éclairé<br>Accidents graves : 10",
          "Saison : Hiver<br>Surface : Glacé<br>Éclairement : Nuit et chemin éclairé<br>Accidents graves : 20",
          "Saison : Hiver<br>Surface : Boueux<br>Éclairement : Nuit et chemin éclairé<br>Accidents graves : 0",
          "Saison : Hiver<br>Surface : Autre<br>Éclairement : Nuit et chemin éclairé<br>Accidents graves : 1"
         ],
         "marker": {
          "color": "#1E90FF"
         },
         "name": "Hiver – Nuit et chemin éclairé",
         "opacity": 0.85,
         "r": [
          66,
          68,
          0,
          0,
          15,
          36,
          10,
          20,
          0,
          1
         ],
         "theta": [
          0,
          36,
          72,
          108,
          144,
          180,
          216,
          252,
          288,
          324
         ],
         "type": "barpolar",
         "visible": true
        },
        {
         "hoverinfo": "text",
         "hovertext": [
          "Saison : Hiver<br>Surface : Sec<br>Éclairement : Nuit et chemin non éclairé<br>Accidents graves : 33",
          "Saison : Hiver<br>Surface : Mouillé<br>Éclairement : Nuit et chemin non éclairé<br>Accidents graves : 21",
          "Saison : Hiver<br>Surface : Aquaplanage<br>Éclairement : Nuit et chemin non éclairé<br>Accidents graves : 0",
          "Saison : Hiver<br>Surface : Sable/Gravier<br>Éclairement : Nuit et chemin non éclairé<br>Accidents graves : 2",
          "Saison : Hiver<br>Surface : Neige fondante<br>Éclairement : Nuit et chemin non éclairé<br>Accidents graves : 11",
          "Saison : Hiver<br>Surface : Neige<br>Éclairement : Nuit et chemin non éclairé<br>Accidents graves : 26",
          "Saison : Hiver<br>Surface : Neige durcie<br>Éclairement : Nuit et chemin non éclairé<br>Accidents graves : 9",
          "Saison : Hiver<br>Surface : Glacé<br>Éclairement : Nuit et chemin non éclairé<br>Accidents graves : 27",
          "Saison : Hiver<br>Surface : Boueux<br>Éclairement : Nuit et chemin non éclairé<br>Accidents graves : 0",
          "Saison : Hiver<br>Surface : Autre<br>Éclairement : Nuit et chemin non éclairé<br>Accidents graves : 0"
         ],
         "marker": {
          "color": "#2F4F4F"
         },
         "name": "Hiver – Nuit et chemin non éclairé",
         "opacity": 0.85,
         "r": [
          33,
          21,
          0,
          2,
          11,
          26,
          9,
          27,
          0,
          0
         ],
         "theta": [
          0,
          36,
          72,
          108,
          144,
          180,
          216,
          252,
          288,
          324
         ],
         "type": "barpolar",
         "visible": true
        },
        {
         "hoverinfo": "text",
         "hovertext": [
          "Saison : Printemps<br>Surface : Sec<br>Éclairement : Jour et clarté<br>Accidents graves : 1091",
          "Saison : Printemps<br>Surface : Mouillé<br>Éclairement : Jour et clarté<br>Accidents graves : 88",
          "Saison : Printemps<br>Surface : Aquaplanage<br>Éclairement : Jour et clarté<br>Accidents graves : 3",
          "Saison : Printemps<br>Surface : Sable/Gravier<br>Éclairement : Jour et clarté<br>Accidents graves : 30",
          "Saison : Printemps<br>Surface : Neige fondante<br>Éclairement : Jour et clarté<br>Accidents graves : 10",
          "Saison : Printemps<br>Surface : Neige<br>Éclairement : Jour et clarté<br>Accidents graves : 11",
          "Saison : Printemps<br>Surface : Neige durcie<br>Éclairement : Jour et clarté<br>Accidents graves : 0",
          "Saison : Printemps<br>Surface : Glacé<br>Éclairement : Jour et clarté<br>Accidents graves : 13",
          "Saison : Printemps<br>Surface : Boueux<br>Éclairement : Jour et clarté<br>Accidents graves : 5",
          "Saison : Printemps<br>Surface : Autre<br>Éclairement : Jour et clarté<br>Accidents graves : 6"
         ],
         "marker": {
          "color": "#FFD700"
         },
         "name": "Printemps – Jour et clarté",
         "opacity": 0.85,
         "r": [
          1091,
          88,
          3,
          30,
          10,
          11,
          0,
          13,
          5,
          6
         ],
         "theta": [
          0,
          36,
          72,
          108,
          144,
          180,
          216,
          252,
          288,
          324
         ],
         "type": "barpolar",
         "visible": false
        },
        {
         "hoverinfo": "text",
         "hovertext": [
          "Saison : Printemps<br>Surface : Sec<br>Éclairement : Jour et demi-obscurité<br>Accidents graves : 56",
          "Saison : Printemps<br>Surface : Mouillé<br>Éclairement : Jour et demi-obscurité<br>Accidents graves : 13",
          "Saison : Printemps<br>Surface : Aquaplanage<br>Éclairement : Jour et demi-obscurité<br>Accidents graves : 0",
          "Saison : Printemps<br>Surface : Sable/Gravier<br>Éclairement : Jour et demi-obscurité<br>Accidents graves : 2",
          "Saison : Printemps<br>Surface : Neige fondante<br>Éclairement : Jour et demi-obscurité<br>Accidents graves : 0",
          "Saison : Printemps<br>Surface : Neige<br>Éclairement : Jour et demi-obscurité<br>Accidents graves : 1",
          "Saison : Printemps<br>Surface : Neige durcie<br>Éclairement : Jour et demi-obscurité<br>Accidents graves : 0",
          "Saison : Printemps<br>Surface : Glacé<br>Éclairement : Jour et demi-obscurité<br>Accidents graves : 0",
          "Saison : Printemps<br>Surface : Boueux<br>Éclairement : Jour et demi-obscurité<br>Accidents graves : 1",
          "Saison : Printemps<br>Surface : Autre<br>Éclairement : Jour et demi-obscurité<br>Accidents graves : 0"
         ],
         "marker": {
          "color": "#FFA500"
         },
         "name": "Printemps – Jour et demi-obscurité",
         "opacity": 0.85,
         "r": [
          56,
          13,
          0,
          2,
          0,
          1,
          0,
          0,
          1,
          0
         ],
         "theta": [
          0,
          36,
          72,
          108,
          144,
          180,
          216,
          252,
          288,
          324
         ],
         "type": "barpolar",
         "visible": false
        },
        {
         "hoverinfo": "text",
         "hovertext": [
          "Saison : Printemps<br>Surface : Sec<br>Éclairement : Nuit et chemin éclairé<br>Accidents graves : 173",
          "Saison : Printemps<br>Surface : Mouillé<br>Éclairement : Nuit et chemin éclairé<br>Accidents graves : 38",
          "Saison : Printemps<br>Surface : Aquaplanage<br>Éclairement : Nuit et chemin éclairé<br>Accidents graves : 2",
          "Saison : Printemps<br>Surface : Sable/Gravier<br>Éclairement : Nuit et chemin éclairé<br>Accidents graves : 1",
          "Saison : Printemps<br>Surface : Neige fondante<br>Éclairement : Nuit et chemin éclairé<br>Accidents graves : 1",
          "Saison : Printemps<br>Surface : Neige<br>Éclairement : Nuit et chemin éclairé<br>Accidents graves : 1",
          "Saison : Printemps<br>Surface : Neige durcie<br>Éclairement : Nuit et chemin éclairé<br>Accidents graves : 0",
          "Saison : Printemps<br>Surface : Glacé<br>Éclairement : Nuit et chemin éclairé<br>Accidents graves : 0",
          "Saison : Printemps<br>Surface : Boueux<br>Éclairement : Nuit et chemin éclairé<br>Accidents graves : 0",
          "Saison : Printemps<br>Surface : Autre<br>Éclairement : Nuit et chemin éclairé<br>Accidents graves : 0"
         ],
         "marker": {
          "color": "#1E90FF"
         },
         "name": "Printemps – Nuit et chemin éclairé",
         "opacity": 0.85,
         "r": [
          173,
          38,
          2,
          1,
          1,
          1,
          0,
          0,
          0,
          0
         ],
         "theta": [
          0,
          36,
          72,
          108,
          144,
          180,
          216,
          252,
          288,
          324
         ],
         "type": "barpolar",
         "visible": false
        },
        {
         "hoverinfo": "text",
         "hovertext": [
          "Saison : Printemps<br>Surface : Sec<br>Éclairement : Nuit et chemin non éclairé<br>Accidents graves : 116",
          "Saison : Printemps<br>Surface : Mouillé<br>Éclairement : Nuit et chemin non éclairé<br>Accidents graves : 27",
          "Saison : Printemps<br>Surface : Aquaplanage<br>Éclairement : Nuit et chemin non éclairé<br>Accidents graves : 1",
          "Saison : Printemps<br>Surface : Sable/Gravier<br>Éclairement : Nuit et chemin non éclairé<br>Accidents graves : 3",
          "Saison : Printemps<br>Surface : Neige fondante<br>Éclairement : Nuit et chemin non éclairé<br>Accidents graves : 2",
          "Saison : Printemps<br>Surface : Neige<br>Éclairement : Nuit et chemin non éclairé<br>Accidents graves : 0",
          "Saison : Printemps<br>Surface : Neige durcie<br>Éclairement : Nuit et chemin non éclairé<br>Accidents graves : 1",
          "Saison : Printemps<br>Surface : Glacé<br>Éclairement : Nuit et chemin non éclairé<br>Accidents graves : 1",
          "Saison : Printemps<br>Surface : Boueux<br>Éclairement : Nuit et chemin non éclairé<br>Accidents graves : 0",
          "Saison : Printemps<br>Surface : Autre<br>Éclairement : Nuit et chemin non éclairé<br>Accidents graves : 0"
         ],
         "marker": {
          "color": "#2F4F4F"
         },
         "name": "Printemps – Nuit et chemin non éclairé",
         "opacity": 0.85,
         "r": [
          116,
          27,
          1,
          3,
          2,
          0,
          1,
          1,
          0,
          0
         ],
         "theta": [
          0,
          36,
          72,
          108,
          144,
          180,
          216,
          252,
          288,
          324
         ],
         "type": "barpolar",
         "visible": false
        },
        {
         "hoverinfo": "text",
         "hovertext": [
          "Saison : Été<br>Surface : Sec<br>Éclairement : Jour et clarté<br>Accidents graves : 1578",
          "Saison : Été<br>Surface : Mouillé<br>Éclairement : Jour et clarté<br>Accidents graves : 92",
          "Saison : Été<br>Surface : Aquaplanage<br>Éclairement : Jour et clarté<br>Accidents graves : 4",
          "Saison : Été<br>Surface : Sable/Gravier<br>Éclairement : Jour et clarté<br>Accidents graves : 44",
          "Saison : Été<br>Surface : Neige fondante<br>Éclairement : Jour et clarté<br>Accidents graves : 0",
          "Saison : Été<br>Surface : Neige<br>Éclairement : Jour et clarté<br>Accidents graves : 0",
          "Saison : Été<br>Surface : Neige durcie<br>Éclairement : Jour et clarté<br>Accidents graves : 0",
          "Saison : Été<br>Surface : Glacé<br>Éclairement : Jour et clarté<br>Accidents graves : 0",
          "Saison : Été<br>Surface : Boueux<br>Éclairement : Jour et clarté<br>Accidents graves : 1",
          "Saison : Été<br>Surface : Autre<br>Éclairement : Jour et clarté<br>Accidents graves : 10"
         ],
         "marker": {
          "color": "#FFD700"
         },
         "name": "Été – Jour et clarté",
         "opacity": 0.85,
         "r": [
          1578,
          92,
          4,
          44,
          0,
          0,
          0,
          0,
          1,
          10
         ],
         "theta": [
          0,
          36,
          72,
          108,
          144,
          180,
          216,
          252,
          288,
          324
         ],
         "type": "barpolar",
         "visible": false
        },
        {
         "hoverinfo": "text",
         "hovertext": [
          "Saison : Été<br>Surface : Sec<br>Éclairement : Jour et demi-obscurité<br>Accidents graves : 77",
          "Saison : Été<br>Surface : Mouillé<br>Éclairement : Jour et demi-obscurité<br>Accidents graves : 10",
          "Saison : Été<br>Surface : Aquaplanage<br>Éclairement : Jour et demi-obscurité<br>Accidents graves : 1",
          "Saison : Été<br>Surface : Sable/Gravier<br>Éclairement : Jour et demi-obscurité<br>Accidents graves : 3",
          "Saison : Été<br>Surface : Neige fondante<br>Éclairement : Jour et demi-obscurité<br>Accidents graves : 0",
          "Saison : Été<br>Surface : Neige<br>Éclairement : Jour et demi-obscurité<br>Accidents graves : 0",
          "Saison : Été<br>Surface : Neige durcie<br>Éclairement : Jour et demi-obscurité<br>Accidents graves : 0",
          "Saison : Été<br>Surface : Glacé<br>Éclairement : Jour et demi-obscurité<br>Accidents graves : 0",
          "Saison : Été<br>Surface : Boueux<br>Éclairement : Jour et demi-obscurité<br>Accidents graves : 0",
          "Saison : Été<br>Surface : Autre<br>Éclairement : Jour et demi-obscurité<br>Accidents graves : 0"
         ],
         "marker": {
          "color": "#FFA500"
         },
         "name": "Été – Jour et demi-obscurité",
         "opacity": 0.85,
         "r": [
          77,
          10,
          1,
          3,
          0,
          0,
          0,
          0,
          0,
          0
         ],
         "theta": [
          0,
          36,
          72,
          108,
          144,
          180,
          216,
          252,
          288,
          324
         ],
         "type": "barpolar",
         "visible": false
        },
        {
         "hoverinfo": "text",
         "hovertext": [
          "Saison : Été<br>Surface : Sec<br>Éclairement : Nuit et chemin éclairé<br>Accidents graves : 318",
          "Saison : Été<br>Surface : Mouillé<br>Éclairement : Nuit et chemin éclairé<br>Accidents graves : 40",
          "Saison : Été<br>Surface : Aquaplanage<br>Éclairement : Nuit et chemin éclairé<br>Accidents graves : 2",
          "Saison : Été<br>Surface : Sable/Gravier<br>Éclairement : Nuit et chemin éclairé<br>Accidents graves : 3",
          "Saison : Été<br>Surface : Neige fondante<br>Éclairement : Nuit et chemin éclairé<br>Accidents graves : 0",
          "Saison : Été<br>Surface : Neige<br>Éclairement : Nuit et chemin éclairé<br>Accidents graves : 0",
          "Saison : Été<br>Surface : Neige durcie<br>Éclairement : Nuit et chemin éclairé<br>Accidents graves : 0",
          "Saison : Été<br>Surface : Glacé<br>Éclairement : Nuit et chemin éclairé<br>Accidents graves : 0",
          "Saison : Été<br>Surface : Boueux<br>Éclairement : Nuit et chemin éclairé<br>Accidents graves : 0",
          "Saison : Été<br>Surface : Autre<br>Éclairement : Nuit et chemin éclairé<br>Accidents graves : 0"
         ],
         "marker": {
          "color": "#1E90FF"
         },
         "name": "Été – Nuit et chemin éclairé",
         "opacity": 0.85,
         "r": [
          318,
          40,
          2,
          3,
          0,
          0,
          0,
          0,
          0,
          0
         ],
         "theta": [
          0,
          36,
          72,
          108,
          144,
          180,
          216,
          252,
          288,
          324
         ],
         "type": "barpolar",
         "visible": false
        },
        {
         "hoverinfo": "text",
         "hovertext": [
          "Saison : Été<br>Surface : Sec<br>Éclairement : Nuit et chemin non éclairé<br>Accidents graves : 252",
          "Saison : Été<br>Surface : Mouillé<br>Éclairement : Nuit et chemin non éclairé<br>Accidents graves : 26",
          "Saison : Été<br>Surface : Aquaplanage<br>Éclairement : Nuit et chemin non éclairé<br>Accidents graves : 2",
          "Saison : Été<br>Surface : Sable/Gravier<br>Éclairement : Nuit et chemin non éclairé<br>Accidents graves : 2",
          "Saison : Été<br>Surface : Neige fondante<br>Éclairement : Nuit et chemin non éclairé<br>Accidents graves : 0",
          "Saison : Été<br>Surface : Neige<br>Éclairement : Nuit et chemin non éclairé<br>Accidents graves : 0",
          "Saison : Été<br>Surface : Neige durcie<br>Éclairement : Nuit et chemin non éclairé<br>Accidents graves : 0",
          "Saison : Été<br>Surface : Glacé<br>Éclairement : Nuit et chemin non éclairé<br>Accidents graves : 0",
          "Saison : Été<br>Surface : Boueux<br>Éclairement : Nuit et chemin non éclairé<br>Accidents graves : 0",
          "Saison : Été<br>Surface : Autre<br>Éclairement : Nuit et chemin non éclairé<br>Accidents graves : 0"
         ],
         "marker": {
          "color": "#2F4F4F"
         },
         "name": "Été – Nuit et chemin non éclairé",
         "opacity": 0.85,
         "r": [
          252,
          26,
          2,
          2,
          0,
          0,
          0,
          0,
          0,
          0
         ],
         "theta": [
          0,
          36,
          72,
          108,
          144,
          180,
          216,
          252,
          288,
          324
         ],
         "type": "barpolar",
         "visible": false
        },
        {
         "hoverinfo": "text",
         "hovertext": [
          "Saison : Automne<br>Surface : Sec<br>Éclairement : Jour et clarté<br>Accidents graves : 551",
          "Saison : Automne<br>Surface : Mouillé<br>Éclairement : Jour et clarté<br>Accidents graves : 133",
          "Saison : Automne<br>Surface : Aquaplanage<br>Éclairement : Jour et clarté<br>Accidents graves : 3",
          "Saison : Automne<br>Surface : Sable/Gravier<br>Éclairement : Jour et clarté<br>Accidents graves : 6",
          "Saison : Automne<br>Surface : Neige fondante<br>Éclairement : Jour et clarté<br>Accidents graves : 29",
          "Saison : Automne<br>Surface : Neige<br>Éclairement : Jour et clarté<br>Accidents graves : 39",
          "Saison : Automne<br>Surface : Neige durcie<br>Éclairement : Jour et clarté<br>Accidents graves : 10",
          "Saison : Automne<br>Surface : Glacé<br>Éclairement : Jour et clarté<br>Accidents graves : 48",
          "Saison : Automne<br>Surface : Boueux<br>Éclairement : Jour et clarté<br>Accidents graves : 4",
          "Saison : Automne<br>Surface : Autre<br>Éclairement : Jour et clarté<br>Accidents graves : 3"
         ],
         "marker": {
          "color": "#FFD700"
         },
         "name": "Automne – Jour et clarté",
         "opacity": 0.85,
         "r": [
          551,
          133,
          3,
          6,
          29,
          39,
          10,
          48,
          4,
          3
         ],
         "theta": [
          0,
          36,
          72,
          108,
          144,
          180,
          216,
          252,
          288,
          324
         ],
         "type": "barpolar",
         "visible": false
        },
        {
         "hoverinfo": "text",
         "hovertext": [
          "Saison : Automne<br>Surface : Sec<br>Éclairement : Jour et demi-obscurité<br>Accidents graves : 34",
          "Saison : Automne<br>Surface : Mouillé<br>Éclairement : Jour et demi-obscurité<br>Accidents graves : 31",
          "Saison : Automne<br>Surface : Aquaplanage<br>Éclairement : Jour et demi-obscurité<br>Accidents graves : 0",
          "Saison : Automne<br>Surface : Sable/Gravier<br>Éclairement : Jour et demi-obscurité<br>Accidents graves : 1",
          "Saison : Automne<br>Surface : Neige fondante<br>Éclairement : Jour et demi-obscurité<br>Accidents graves : 6",
          "Saison : Automne<br>Surface : Neige<br>Éclairement : Jour et demi-obscurité<br>Accidents graves : 8",
          "Saison : Automne<br>Surface : Neige durcie<br>Éclairement : Jour et demi-obscurité<br>Accidents graves : 1",
          "Saison : Automne<br>Surface : Glacé<br>Éclairement : Jour et demi-obscurité<br>Accidents graves : 5",
          "Saison : Automne<br>Surface : Boueux<br>Éclairement : Jour et demi-obscurité<br>Accidents graves : 0",
          "Saison : Automne<br>Surface : Autre<br>Éclairement : Jour et demi-obscurité<br>Accidents graves : 0"
         ],
         "marker": {
          "color": "#FFA500"
         },
         "name": "Automne – Jour et demi-obscurité",
         "opacity": 0.85,
         "r": [
          34,
          31,
          0,
          1,
          6,
          8,
          1,
          5,
          0,
          0
         ],
         "theta": [
          0,
          36,
          72,
          108,
          144,
          180,
          216,
          252,
          288,
          324
         ],
         "type": "barpolar",
         "visible": false
        },
        {
         "hoverinfo": "text",
         "hovertext": [
          "Saison : Automne<br>Surface : Sec<br>Éclairement : Nuit et chemin éclairé<br>Accidents graves : 230",
          "Saison : Automne<br>Surface : Mouillé<br>Éclairement : Nuit et chemin éclairé<br>Accidents graves : 132",
          "Saison : Automne<br>Surface : Aquaplanage<br>Éclairement : Nuit et chemin éclairé<br>Accidents graves : 2",
          "Saison : Automne<br>Surface : Sable/Gravier<br>Éclairement : Nuit et chemin éclairé<br>Accidents graves : 3",
          "Saison : Automne<br>Surface : Neige fondante<br>Éclairement : Nuit et chemin éclairé<br>Accidents graves : 9",
          "Saison : Automne<br>Surface : Neige<br>Éclairement : Nuit et chemin éclairé<br>Accidents graves : 13",
          "Saison : Automne<br>Surface : Neige durcie<br>Éclairement : Nuit et chemin éclairé<br>Accidents graves : 2",
          "Saison : Automne<br>Surface : Glacé<br>Éclairement : Nuit et chemin éclairé<br>Accidents graves : 23",
          "Saison : Automne<br>Surface : Boueux<br>Éclairement : Nuit et chemin éclairé<br>Accidents graves : 0",
          "Saison : Automne<br>Surface : Autre<br>Éclairement : Nuit et chemin éclairé<br>Accidents graves : 0"
         ],
         "marker": {
          "color": "#1E90FF"
         },
         "name": "Automne – Nuit et chemin éclairé",
         "opacity": 0.85,
         "r": [
          230,
          132,
          2,
          3,
          9,
          13,
          2,
          23,
          0,
          0
         ],
         "theta": [
          0,
          36,
          72,
          108,
          144,
          180,
          216,
          252,
          288,
          324
         ],
         "type": "barpolar",
         "visible": false
        },
        {
         "hoverinfo": "text",
         "hovertext": [
          "Saison : Automne<br>Surface : Sec<br>Éclairement : Nuit et chemin non éclairé<br>Accidents graves : 182",
          "Saison : Automne<br>Surface : Mouillé<br>Éclairement : Nuit et chemin non éclairé<br>Accidents graves : 60",
          "Saison : Automne<br>Surface : Aquaplanage<br>Éclairement : Nuit et chemin non éclairé<br>Accidents graves : 2",
          "Saison : Automne<br>Surface : Sable/Gravier<br>Éclairement : Nuit et chemin non éclairé<br>Accidents graves : 6",
          "Saison : Automne<br>Surface : Neige fondante<br>Éclairement : Nuit et chemin non éclairé<br>Accidents graves : 15",
          "Saison : Automne<br>Surface : Neige<br>Éclairement : Nuit et chemin non éclairé<br>Accidents graves : 30",
          "Saison : Automne<br>Surface : Neige durcie<br>Éclairement : Nuit et chemin non éclairé<br>Accidents graves : 8",
          "Saison : Automne<br>Surface : Glacé<br>Éclairement : Nuit et chemin non éclairé<br>Accidents graves : 39",
          "Saison : Automne<br>Surface : Boueux<br>Éclairement : Nuit et chemin non éclairé<br>Accidents graves : 3",
          "Saison : Automne<br>Surface : Autre<br>Éclairement : Nuit et chemin non éclairé<br>Accidents graves : 1"
         ],
         "marker": {
          "color": "#2F4F4F"
         },
         "name": "Automne – Nuit et chemin non éclairé",
         "opacity": 0.85,
         "r": [
          182,
          60,
          2,
          6,
          15,
          30,
          8,
          39,
          3,
          1
         ],
         "theta": [
          0,
          36,
          72,
          108,
          144,
          180,
          216,
          252,
          288,
          324
         ],
         "type": "barpolar",
         "visible": false
        }
       ],
       "layout": {
        "height": 800,
        "legend": {
         "title": {
          "text": "Éclairement"
         }
        },
        "margin": {
         "b": 150,
         "l": 100,
         "r": 100,
         "t": 100
        },
        "polar": {
         "angularaxis": {
          "direction": "clockwise",
          "rotation": 90,
          "tickmode": "array",
          "ticktext": [
           "Sec",
           "Mouillé",
           "Aquaplanage",
           "Sable/Gravier",
           "Neige fondante",
           "Neige",
           "Neige durcie",
           "Glacé",
           "Boueux",
           "Autre"
          ],
          "tickvals": [
           0,
           36,
           72,
           108,
           144,
           180,
           216,
           252,
           288,
           324
          ],
          "type": "linear"
         },
         "radialaxis": {
          "autorange": false,
          "range": [
           0,
           359
          ],
          "type": "linear",
          "visible": true
         }
        },
        "template": {
         "data": {
          "bar": [
           {
            "error_x": {
             "color": "#2a3f5f"
            },
            "error_y": {
             "color": "#2a3f5f"
            },
            "marker": {
             "line": {
              "color": "white",
              "width": 0.5
             },
             "pattern": {
              "fillmode": "overlay",
              "size": 10,
              "solidity": 0.2
             }
            },
            "type": "bar"
           }
          ],
          "barpolar": [
           {
            "marker": {
             "line": {
              "color": "white",
              "width": 0.5
             },
             "pattern": {
              "fillmode": "overlay",
              "size": 10,
              "solidity": 0.2
             }
            },
            "type": "barpolar"
           }
          ],
          "carpet": [
           {
            "aaxis": {
             "endlinecolor": "#2a3f5f",
             "gridcolor": "#C8D4E3",
             "linecolor": "#C8D4E3",
             "minorgridcolor": "#C8D4E3",
             "startlinecolor": "#2a3f5f"
            },
            "baxis": {
             "endlinecolor": "#2a3f5f",
             "gridcolor": "#C8D4E3",
             "linecolor": "#C8D4E3",
             "minorgridcolor": "#C8D4E3",
             "startlinecolor": "#2a3f5f"
            },
            "type": "carpet"
           }
          ],
          "choropleth": [
           {
            "colorbar": {
             "outlinewidth": 0,
             "ticks": ""
            },
            "type": "choropleth"
           }
          ],
          "contour": [
           {
            "colorbar": {
             "outlinewidth": 0,
             "ticks": ""
            },
            "colorscale": [
             [
              0,
              "#0d0887"
             ],
             [
              0.1111111111111111,
              "#46039f"
             ],
             [
              0.2222222222222222,
              "#7201a8"
             ],
             [
              0.3333333333333333,
              "#9c179e"
             ],
             [
              0.4444444444444444,
              "#bd3786"
             ],
             [
              0.5555555555555556,
              "#d8576b"
             ],
             [
              0.6666666666666666,
              "#ed7953"
             ],
             [
              0.7777777777777778,
              "#fb9f3a"
             ],
             [
              0.8888888888888888,
              "#fdca26"
             ],
             [
              1,
              "#f0f921"
             ]
            ],
            "type": "contour"
           }
          ],
          "contourcarpet": [
           {
            "colorbar": {
             "outlinewidth": 0,
             "ticks": ""
            },
            "type": "contourcarpet"
           }
          ],
          "heatmap": [
           {
            "colorbar": {
             "outlinewidth": 0,
             "ticks": ""
            },
            "colorscale": [
             [
              0,
              "#0d0887"
             ],
             [
              0.1111111111111111,
              "#46039f"
             ],
             [
              0.2222222222222222,
              "#7201a8"
             ],
             [
              0.3333333333333333,
              "#9c179e"
             ],
             [
              0.4444444444444444,
              "#bd3786"
             ],
             [
              0.5555555555555556,
              "#d8576b"
             ],
             [
              0.6666666666666666,
              "#ed7953"
             ],
             [
              0.7777777777777778,
              "#fb9f3a"
             ],
             [
              0.8888888888888888,
              "#fdca26"
             ],
             [
              1,
              "#f0f921"
             ]
            ],
            "type": "heatmap"
           }
          ],
          "heatmapgl": [
           {
            "colorbar": {
             "outlinewidth": 0,
             "ticks": ""
            },
            "colorscale": [
             [
              0,
              "#0d0887"
             ],
             [
              0.1111111111111111,
              "#46039f"
             ],
             [
              0.2222222222222222,
              "#7201a8"
             ],
             [
              0.3333333333333333,
              "#9c179e"
             ],
             [
              0.4444444444444444,
              "#bd3786"
             ],
             [
              0.5555555555555556,
              "#d8576b"
             ],
             [
              0.6666666666666666,
              "#ed7953"
             ],
             [
              0.7777777777777778,
              "#fb9f3a"
             ],
             [
              0.8888888888888888,
              "#fdca26"
             ],
             [
              1,
              "#f0f921"
             ]
            ],
            "type": "heatmapgl"
           }
          ],
          "histogram": [
           {
            "marker": {
             "pattern": {
              "fillmode": "overlay",
              "size": 10,
              "solidity": 0.2
             }
            },
            "type": "histogram"
           }
          ],
          "histogram2d": [
           {
            "colorbar": {
             "outlinewidth": 0,
             "ticks": ""
            },
            "colorscale": [
             [
              0,
              "#0d0887"
             ],
             [
              0.1111111111111111,
              "#46039f"
             ],
             [
              0.2222222222222222,
              "#7201a8"
             ],
             [
              0.3333333333333333,
              "#9c179e"
             ],
             [
              0.4444444444444444,
              "#bd3786"
             ],
             [
              0.5555555555555556,
              "#d8576b"
             ],
             [
              0.6666666666666666,
              "#ed7953"
             ],
             [
              0.7777777777777778,
              "#fb9f3a"
             ],
             [
              0.8888888888888888,
              "#fdca26"
             ],
             [
              1,
              "#f0f921"
             ]
            ],
            "type": "histogram2d"
           }
          ],
          "histogram2dcontour": [
           {
            "colorbar": {
             "outlinewidth": 0,
             "ticks": ""
            },
            "colorscale": [
             [
              0,
              "#0d0887"
             ],
             [
              0.1111111111111111,
              "#46039f"
             ],
             [
              0.2222222222222222,
              "#7201a8"
             ],
             [
              0.3333333333333333,
              "#9c179e"
             ],
             [
              0.4444444444444444,
              "#bd3786"
             ],
             [
              0.5555555555555556,
              "#d8576b"
             ],
             [
              0.6666666666666666,
              "#ed7953"
             ],
             [
              0.7777777777777778,
              "#fb9f3a"
             ],
             [
              0.8888888888888888,
              "#fdca26"
             ],
             [
              1,
              "#f0f921"
             ]
            ],
            "type": "histogram2dcontour"
           }
          ],
          "mesh3d": [
           {
            "colorbar": {
             "outlinewidth": 0,
             "ticks": ""
            },
            "type": "mesh3d"
           }
          ],
          "parcoords": [
           {
            "line": {
             "colorbar": {
              "outlinewidth": 0,
              "ticks": ""
             }
            },
            "type": "parcoords"
           }
          ],
          "pie": [
           {
            "automargin": true,
            "type": "pie"
           }
          ],
          "scatter": [
           {
            "fillpattern": {
             "fillmode": "overlay",
             "size": 10,
             "solidity": 0.2
            },
            "type": "scatter"
           }
          ],
          "scatter3d": [
           {
            "line": {
             "colorbar": {
              "outlinewidth": 0,
              "ticks": ""
             }
            },
            "marker": {
             "colorbar": {
              "outlinewidth": 0,
              "ticks": ""
             }
            },
            "type": "scatter3d"
           }
          ],
          "scattercarpet": [
           {
            "marker": {
             "colorbar": {
              "outlinewidth": 0,
              "ticks": ""
             }
            },
            "type": "scattercarpet"
           }
          ],
          "scattergeo": [
           {
            "marker": {
             "colorbar": {
              "outlinewidth": 0,
              "ticks": ""
             }
            },
            "type": "scattergeo"
           }
          ],
          "scattergl": [
           {
            "marker": {
             "colorbar": {
              "outlinewidth": 0,
              "ticks": ""
             }
            },
            "type": "scattergl"
           }
          ],
          "scattermapbox": [
           {
            "marker": {
             "colorbar": {
              "outlinewidth": 0,
              "ticks": ""
             }
            },
            "type": "scattermapbox"
           }
          ],
          "scatterpolar": [
           {
            "marker": {
             "colorbar": {
              "outlinewidth": 0,
              "ticks": ""
             }
            },
            "type": "scatterpolar"
           }
          ],
          "scatterpolargl": [
           {
            "marker": {
             "colorbar": {
              "outlinewidth": 0,
              "ticks": ""
             }
            },
            "type": "scatterpolargl"
           }
          ],
          "scatterternary": [
           {
            "marker": {
             "colorbar": {
              "outlinewidth": 0,
              "ticks": ""
             }
            },
            "type": "scatterternary"
           }
          ],
          "surface": [
           {
            "colorbar": {
             "outlinewidth": 0,
             "ticks": ""
            },
            "colorscale": [
             [
              0,
              "#0d0887"
             ],
             [
              0.1111111111111111,
              "#46039f"
             ],
             [
              0.2222222222222222,
              "#7201a8"
             ],
             [
              0.3333333333333333,
              "#9c179e"
             ],
             [
              0.4444444444444444,
              "#bd3786"
             ],
             [
              0.5555555555555556,
              "#d8576b"
             ],
             [
              0.6666666666666666,
              "#ed7953"
             ],
             [
              0.7777777777777778,
              "#fb9f3a"
             ],
             [
              0.8888888888888888,
              "#fdca26"
             ],
             [
              1,
              "#f0f921"
             ]
            ],
            "type": "surface"
           }
          ],
          "table": [
           {
            "cells": {
             "fill": {
              "color": "#EBF0F8"
             },
             "line": {
              "color": "white"
             }
            },
            "header": {
             "fill": {
              "color": "#C8D4E3"
             },
             "line": {
              "color": "white"
             }
            },
            "type": "table"
           }
          ]
         },
         "layout": {
          "annotationdefaults": {
           "arrowcolor": "#2a3f5f",
           "arrowhead": 0,
           "arrowwidth": 1
          },
          "autotypenumbers": "strict",
          "coloraxis": {
           "colorbar": {
            "outlinewidth": 0,
            "ticks": ""
           }
          },
          "colorscale": {
           "diverging": [
            [
             0,
             "#8e0152"
            ],
            [
             0.1,
             "#c51b7d"
            ],
            [
             0.2,
             "#de77ae"
            ],
            [
             0.3,
             "#f1b6da"
            ],
            [
             0.4,
             "#fde0ef"
            ],
            [
             0.5,
             "#f7f7f7"
            ],
            [
             0.6,
             "#e6f5d0"
            ],
            [
             0.7,
             "#b8e186"
            ],
            [
             0.8,
             "#7fbc41"
            ],
            [
             0.9,
             "#4d9221"
            ],
            [
             1,
             "#276419"
            ]
           ],
           "sequential": [
            [
             0,
             "#0d0887"
            ],
            [
             0.1111111111111111,
             "#46039f"
            ],
            [
             0.2222222222222222,
             "#7201a8"
            ],
            [
             0.3333333333333333,
             "#9c179e"
            ],
            [
             0.4444444444444444,
             "#bd3786"
            ],
            [
             0.5555555555555556,
             "#d8576b"
            ],
            [
             0.6666666666666666,
             "#ed7953"
            ],
            [
             0.7777777777777778,
             "#fb9f3a"
            ],
            [
             0.8888888888888888,
             "#fdca26"
            ],
            [
             1,
             "#f0f921"
            ]
           ],
           "sequentialminus": [
            [
             0,
             "#0d0887"
            ],
            [
             0.1111111111111111,
             "#46039f"
            ],
            [
             0.2222222222222222,
             "#7201a8"
            ],
            [
             0.3333333333333333,
             "#9c179e"
            ],
            [
             0.4444444444444444,
             "#bd3786"
            ],
            [
             0.5555555555555556,
             "#d8576b"
            ],
            [
             0.6666666666666666,
             "#ed7953"
            ],
            [
             0.7777777777777778,
             "#fb9f3a"
            ],
            [
             0.8888888888888888,
             "#fdca26"
            ],
            [
             1,
             "#f0f921"
            ]
           ]
          },
          "colorway": [
           "#636efa",
           "#EF553B",
           "#00cc96",
           "#ab63fa",
           "#FFA15A",
           "#19d3f3",
           "#FF6692",
           "#B6E880",
           "#FF97FF",
           "#FECB52"
          ],
          "font": {
           "color": "#2a3f5f"
          },
          "geo": {
           "bgcolor": "white",
           "lakecolor": "white",
           "landcolor": "white",
           "showlakes": true,
           "showland": true,
           "subunitcolor": "#C8D4E3"
          },
          "hoverlabel": {
           "align": "left"
          },
          "hovermode": "closest",
          "mapbox": {
           "style": "light"
          },
          "paper_bgcolor": "white",
          "plot_bgcolor": "white",
          "polar": {
           "angularaxis": {
            "gridcolor": "#EBF0F8",
            "linecolor": "#EBF0F8",
            "ticks": ""
           },
           "bgcolor": "white",
           "radialaxis": {
            "gridcolor": "#EBF0F8",
            "linecolor": "#EBF0F8",
            "ticks": ""
           }
          },
          "scene": {
           "xaxis": {
            "backgroundcolor": "white",
            "gridcolor": "#DFE8F3",
            "gridwidth": 2,
            "linecolor": "#EBF0F8",
            "showbackground": true,
            "ticks": "",
            "zerolinecolor": "#EBF0F8"
           },
           "yaxis": {
            "backgroundcolor": "white",
            "gridcolor": "#DFE8F3",
            "gridwidth": 2,
            "linecolor": "#EBF0F8",
            "showbackground": true,
            "ticks": "",
            "zerolinecolor": "#EBF0F8"
           },
           "zaxis": {
            "backgroundcolor": "white",
            "gridcolor": "#DFE8F3",
            "gridwidth": 2,
            "linecolor": "#EBF0F8",
            "showbackground": true,
            "ticks": "",
            "zerolinecolor": "#EBF0F8"
           }
          },
          "shapedefaults": {
           "line": {
            "color": "#2a3f5f"
           }
          },
          "ternary": {
           "aaxis": {
            "gridcolor": "#DFE8F3",
            "linecolor": "#A2B1C6",
            "ticks": ""
           },
           "baxis": {
            "gridcolor": "#DFE8F3",
            "linecolor": "#A2B1C6",
            "ticks": ""
           },
           "bgcolor": "white",
           "caxis": {
            "gridcolor": "#DFE8F3",
            "linecolor": "#A2B1C6",
            "ticks": ""
           }
          },
          "title": {
           "x": 0.05
          },
          "xaxis": {
           "automargin": true,
           "gridcolor": "#EBF0F8",
           "linecolor": "#EBF0F8",
           "ticks": "",
           "title": {
            "standoff": 15
           },
           "zerolinecolor": "#EBF0F8",
           "zerolinewidth": 2
          },
          "yaxis": {
           "automargin": true,
           "gridcolor": "#EBF0F8",
           "linecolor": "#EBF0F8",
           "ticks": "",
           "title": {
            "standoff": 15
           },
           "zerolinecolor": "#EBF0F8",
           "zerolinewidth": 2
          }
         }
        },
        "title": {
         "text": "Polar Bar Chart – Nb d'accidents graves (Hiver)"
        },
        "updatemenus": [
         {
          "buttons": [
           {
            "args": [
             {
              "visible": [
               true,
               true,
               true,
               true,
               false,
               false,
               false,
               false,
               false,
               false,
               false,
               false,
               false,
               false,
               false,
               false
              ]
             },
             {
              "polar.radialaxis.range": [
               0,
               359
              ],
              "title": "Polar Bar Chart – Nb d'accidents graves (Hiver)"
             }
            ],
            "label": "Hiver",
            "method": "update"
           },
           {
            "args": [
             {
              "visible": [
               false,
               false,
               false,
               false,
               true,
               true,
               true,
               true,
               false,
               false,
               false,
               false,
               false,
               false,
               false,
               false
              ]
             },
             {
              "polar.radialaxis.range": [
               0,
               1514
              ],
              "title": "Polar Bar Chart – Nb d'accidents graves (Printemps)"
             }
            ],
            "label": "Printemps",
            "method": "update"
           },
           {
            "args": [
             {
              "visible": [
               false,
               false,
               false,
               false,
               false,
               false,
               false,
               false,
               true,
               true,
               true,
               true,
               false,
               false,
               false,
               false
              ]
             },
             {
              "polar.radialaxis.range": [
               0,
               2342
              ],
              "title": "Polar Bar Chart – Nb d'accidents graves (Été)"
             }
            ],
            "label": "Été",
            "method": "update"
           },
           {
            "args": [
             {
              "visible": [
               false,
               false,
               false,
               false,
               false,
               false,
               false,
               false,
               false,
               false,
               false,
               false,
               true,
               true,
               true,
               true
              ]
             },
             {
              "polar.radialaxis.range": [
               0,
               1051
              ],
              "title": "Polar Bar Chart – Nb d'accidents graves (Automne)"
             }
            ],
            "label": "Automne",
            "method": "update"
           }
          ],
          "direction": "right",
          "showactive": true,
          "type": "buttons",
          "x": 0.5,
          "xanchor": "center",
          "y": -0.2,
          "yanchor": "top"
         }
        ],
        "width": 900
       }
      },
      "image/png": "[encoded data removed]",
      "text/html": [
       "<div>                            <div id=\"58c94446-87bb-4fb7-bb88-7f26a70834d8\" class=\"plotly-graph-div\" style=\"height:800px; width:900px;\"></div>            <script type=\"text/javascript\">                require([\"plotly\"], function(Plotly) {                    window.PLOTLYENV=window.PLOTLYENV || {};                                    if (document.getElementById(\"58c94446-87bb-4fb7-bb88-7f26a70834d8\")) {                    Plotly.newPlot(                        \"58c94446-87bb-4fb7-bb88-7f26a70834d8\",                        [{\"hoverinfo\":\"text\",\"hovertext\":[\"Saison : Hiver\\u003cbr\\u003eSurface : Sec\\u003cbr\\u003e\\u00c9clairement : Jour et clart\\u00e9\\u003cbr\\u003eAccidents graves : 222\",\"Saison : Hiver\\u003cbr\\u003eSurface : Mouill\\u00e9\\u003cbr\\u003e\\u00c9clairement : Jour et clart\\u00e9\\u003cbr\\u003eAccidents graves : 104\",\"Saison : Hiver\\u003cbr\\u003eSurface : Aquaplanage\\u003cbr\\u003e\\u00c9clairement : Jour et clart\\u00e9\\u003cbr\\u003eAccidents graves : 3\",\"Saison : Hiver\\u003cbr\\u003eSurface : Sable\\u002fGravier\\u003cbr\\u003e\\u00c9clairement : Jour et clart\\u00e9\\u003cbr\\u003eAccidents graves : 3\",\"Saison : Hiver\\u003cbr\\u003eSurface : Neige fondante\\u003cbr\\u003e\\u00c9clairement : Jour et clart\\u00e9\\u003cbr\\u003eAccidents graves : 37\",\"Saison : Hiver\\u003cbr\\u003eSurface : Neige\\u003cbr\\u003e\\u00c9clairement : Jour et clart\\u00e9\\u003cbr\\u003eAccidents graves : 147\",\"Saison : Hiver\\u003cbr\\u003eSurface : Neige durcie\\u003cbr\\u003e\\u00c9clairement : Jour et clart\\u00e9\\u003cbr\\u003eAccidents graves : 49\",\"Saison : Hiver\\u003cbr\\u003eSurface : Glac\\u00e9\\u003cbr\\u003e\\u00c9clairement : Jour et clart\\u00e9\\u003cbr\\u003eAccidents graves : 95\",\"Saison : Hiver\\u003cbr\\u003eSurface : Boueux\\u003cbr\\u003e\\u00c9clairement : Jour et clart\\u00e9\\u003cbr\\u003eAccidents graves : 3\",\"Saison : Hiver\\u003cbr\\u003eSurface : Autre\\u003cbr\\u003e\\u00c9clairement : Jour et clart\\u00e9\\u003cbr\\u003eAccidents graves : 0\"],\"marker\":{\"color\":\"#FFD700\"},\"name\":\"Hiver \\u2013 Jour et clart\\u00e9\",\"opacity\":0.85,\"r\":[222,104,3,3,37,147,49,95,3,0],\"theta\":[0.0,36.0,72.0,108.0,144.0,180.0,216.0,252.0,288.0,324.0],\"visible\":true,\"type\":\"barpolar\"},{\"hoverinfo\":\"text\",\"hovertext\":[\"Saison : Hiver\\u003cbr\\u003eSurface : Sec\\u003cbr\\u003e\\u00c9clairement : Jour et demi-obscurit\\u00e9\\u003cbr\\u003eAccidents graves : 20\",\"Saison : Hiver\\u003cbr\\u003eSurface : Mouill\\u00e9\\u003cbr\\u003e\\u00c9clairement : Jour et demi-obscurit\\u00e9\\u003cbr\\u003eAccidents graves : 8\",\"Saison : Hiver\\u003cbr\\u003eSurface : Aquaplanage\\u003cbr\\u003e\\u00c9clairement : Jour et demi-obscurit\\u00e9\\u003cbr\\u003eAccidents graves : 0\",\"Saison : Hiver\\u003cbr\\u003eSurface : Sable\\u002fGravier\\u003cbr\\u003e\\u00c9clairement : Jour et demi-obscurit\\u00e9\\u003cbr\\u003eAccidents graves : 0\",\"Saison : Hiver\\u003cbr\\u003eSurface : Neige fondante\\u003cbr\\u003e\\u00c9clairement : Jour et demi-obscurit\\u00e9\\u003cbr\\u003eAccidents graves : 5\",\"Saison : Hiver\\u003cbr\\u003eSurface : Neige\\u003cbr\\u003e\\u00c9clairement : Jour et demi-obscurit\\u00e9\\u003cbr\\u003eAccidents graves : 9\",\"Saison : Hiver\\u003cbr\\u003eSurface : Neige durcie\\u003cbr\\u003e\\u00c9clairement : Jour et demi-obscurit\\u00e9\\u003cbr\\u003eAccidents graves : 3\",\"Saison : Hiver\\u003cbr\\u003eSurface : Glac\\u00e9\\u003cbr\\u003e\\u00c9clairement : Jour et demi-obscurit\\u00e9\\u003cbr\\u003eAccidents graves : 13\",\"Saison : Hiver\\u003cbr\\u003eSurface : Boueux\\u003cbr\\u003e\\u00c9clairement : Jour et demi-obscurit\\u00e9\\u003cbr\\u003eAccidents graves : 0\",\"Saison : Hiver\\u003cbr\\u003eSurface : Autre\\u003cbr\\u003e\\u00c9clairement : Jour et demi-obscurit\\u00e9\\u003cbr\\u003eAccidents graves : 0\"],\"marker\":{\"color\":\"#FFA500\"},\"name\":\"Hiver \\u2013 Jour et demi-obscurit\\u00e9\",\"opacity\":0.85,\"r\":[20,8,0,0,5,9,3,13,0,0],\"theta\":[0.0,36.0,72.0,108.0,144.0,180.0,216.0,252.0,288.0,324.0],\"visible\":true,\"type\":\"barpolar\"},{\"hoverinfo\":\"text\",\"hovertext\":[\"Saison : Hiver\\u003cbr\\u003eSurface : Sec\\u003cbr\\u003e\\u00c9clairement : Nuit et chemin \\u00e9clair\\u00e9\\u003cbr\\u003eAccidents graves : 66\",\"Saison : Hiver\\u003cbr\\u003eSurface : Mouill\\u00e9\\u003cbr\\u003e\\u00c9clairement : Nuit et chemin \\u00e9clair\\u00e9\\u003cbr\\u003eAccidents graves : 68\",\"Saison : Hiver\\u003cbr\\u003eSurface : Aquaplanage\\u003cbr\\u003e\\u00c9clairement : Nuit et chemin \\u00e9clair\\u00e9\\u003cbr\\u003eAccidents graves : 0\",\"Saison : Hiver\\u003cbr\\u003eSurface : Sable\\u002fGravier\\u003cbr\\u003e\\u00c9clairement : Nuit et chemin \\u00e9clair\\u00e9\\u003cbr\\u003eAccidents graves : 0\",\"Saison : Hiver\\u003cbr\\u003eSurface : Neige fondante\\u003cbr\\u003e\\u00c9clairement : Nuit et chemin \\u00e9clair\\u00e9\\u003cbr\\u003eAccidents graves : 15\",\"Saison : Hiver\\u003cbr\\u003eSurface : Neige\\u003cbr\\u003e\\u00c9clairement : Nuit et chemin \\u00e9clair\\u00e9\\u003cbr\\u003eAccidents graves : 36\",\"Saison : Hiver\\u003cbr\\u003eSurface : Neige durcie\\u003cbr\\u003e\\u00c9clairement : Nuit et chemin \\u00e9clair\\u00e9\\u003cbr\\u003eAccidents graves : 10\",\"Saison : Hiver\\u003cbr\\u003eSurface : Glac\\u00e9\\u003cbr\\u003e\\u00c9clairement : Nuit et chemin \\u00e9clair\\u00e9\\u003cbr\\u003eAccidents graves : 20\",\"Saison : Hiver\\u003cbr\\u003eSurface : Boueux\\u003cbr\\u003e\\u00c9clairement : Nuit et chemin \\u00e9clair\\u00e9\\u003cbr\\u003eAccidents graves : 0\",\"Saison : Hiver\\u003cbr\\u003eSurface : Autre\\u003cbr\\u003e\\u00c9clairement : Nuit et chemin \\u00e9clair\\u00e9\\u003cbr\\u003eAccidents graves : 1\"],\"marker\":{\"color\":\"#1E90FF\"},\"name\":\"Hiver \\u2013 Nuit et chemin \\u00e9clair\\u00e9\",\"opacity\":0.85,\"r\":[66,68,0,0,15,36,10,20,0,1],\"theta\":[0.0,36.0,72.0,108.0,144.0,180.0,216.0,252.0,288.0,324.0],\"visible\":true,\"type\":\"barpolar\"},{\"hoverinfo\":\"text\",\"hovertext\":[\"Saison : Hiver\\u003cbr\\u003eSurface : Sec\\u003cbr\\u003e\\u00c9clairement : Nuit et chemin non \\u00e9clair\\u00e9\\u003cbr\\u003eAccidents graves : 33\",\"Saison : Hiver\\u003cbr\\u003eSurface : Mouill\\u00e9\\u003cbr\\u003e\\u00c9clairement : Nuit et chemin non \\u00e9clair\\u00e9\\u003cbr\\u003eAccidents graves : 21\",\"Saison : Hiver\\u003cbr\\u003eSurface : Aquaplanage\\u003cbr\\u003e\\u00c9clairement : Nuit et chemin non \\u00e9clair\\u00e9\\u003cbr\\u003eAccidents graves : 0\",\"Saison : Hiver\\u003cbr\\u003eSurface : Sable\\u002fGravier\\u003cbr\\u003e\\u00c9clairement : Nuit et chemin non \\u00e9clair\\u00e9\\u003cbr\\u003eAccidents graves : 2\",\"Saison : Hiver\\u003cbr\\u003eSurface : Neige fondante\\u003cbr\\u003e\\u00c9clairement : Nuit et chemin non \\u00e9clair\\u00e9\\u003cbr\\u003eAccidents graves : 11\",\"Saison : Hiver\\u003cbr\\u003eSurface : Neige\\u003cbr\\u003e\\u00c9clairement : Nuit et chemin non \\u00e9clair\\u00e9\\u003cbr\\u003eAccidents graves : 26\",\"Saison : Hiver\\u003cbr\\u003eSurface : Neige durcie\\u003cbr\\u003e\\u00c9clairement : Nuit et chemin non \\u00e9clair\\u00e9\\u003cbr\\u003eAccidents graves : 9\",\"Saison : Hiver\\u003cbr\\u003eSurface : Glac\\u00e9\\u003cbr\\u003e\\u00c9clairement : Nuit et chemin non \\u00e9clair\\u00e9\\u003cbr\\u003eAccidents graves : 27\",\"Saison : Hiver\\u003cbr\\u003eSurface : Boueux\\u003cbr\\u003e\\u00c9clairement : Nuit et chemin non \\u00e9clair\\u00e9\\u003cbr\\u003eAccidents graves : 0\",\"Saison : Hiver\\u003cbr\\u003eSurface : Autre\\u003cbr\\u003e\\u00c9clairement : Nuit et chemin non \\u00e9clair\\u00e9\\u003cbr\\u003eAccidents graves : 0\"],\"marker\":{\"color\":\"#2F4F4F\"},\"name\":\"Hiver \\u2013 Nuit et chemin non \\u00e9clair\\u00e9\",\"opacity\":0.85,\"r\":[33,21,0,2,11,26,9,27,0,0],\"theta\":[0.0,36.0,72.0,108.0,144.0,180.0,216.0,252.0,288.0,324.0],\"visible\":true,\"type\":\"barpolar\"},{\"hoverinfo\":\"text\",\"hovertext\":[\"Saison : Printemps\\u003cbr\\u003eSurface : Sec\\u003cbr\\u003e\\u00c9clairement : Jour et clart\\u00e9\\u003cbr\\u003eAccidents graves : 1091\",\"Saison : Printemps\\u003cbr\\u003eSurface : Mouill\\u00e9\\u003cbr\\u003e\\u00c9clairement : Jour et clart\\u00e9\\u003cbr\\u003eAccidents graves : 88\",\"Saison : Printemps\\u003cbr\\u003eSurface : Aquaplanage\\u003cbr\\u003e\\u00c9clairement : Jour et clart\\u00e9\\u003cbr\\u003eAccidents graves : 3\",\"Saison : Printemps\\u003cbr\\u003eSurface : Sable\\u002fGravier\\u003cbr\\u003e\\u00c9clairement : Jour et clart\\u00e9\\u003cbr\\u003eAccidents graves : 30\",\"Saison : Printemps\\u003cbr\\u003eSurface : Neige fondante\\u003cbr\\u003e\\u00c9clairement : Jour et clart\\u00e9\\u003cbr\\u003eAccidents graves : 10\",\"Saison : Printemps\\u003cbr\\u003eSurface : Neige\\u003cbr\\u003e\\u00c9clairement : Jour et clart\\u00e9\\u003cbr\\u003eAccidents graves : 11\",\"Saison : Printemps\\u003cbr\\u003eSurface : Neige durcie\\u003cbr\\u003e\\u00c9clairement : Jour et clart\\u00e9\\u003cbr\\u003eAccidents graves : 0\",\"Saison : Printemps\\u003cbr\\u003eSurface : Glac\\u00e9\\u003cbr\\u003e\\u00c9clairement : Jour et clart\\u00e9\\u003cbr\\u003eAccidents graves : 13\",\"Saison : Printemps\\u003cbr\\u003eSurface : Boueux\\u003cbr\\u003e\\u00c9clairement : Jour et clart\\u00e9\\u003cbr\\u003eAccidents graves : 5\",\"Saison : Printemps\\u003cbr\\u003eSurface : Autre\\u003cbr\\u003e\\u00c9clairement : Jour et clart\\u00e9\\u003cbr\\u003eAccidents graves : 6\"],\"marker\":{\"color\":\"#FFD700\"},\"name\":\"Printemps \\u2013 Jour et clart\\u00e9\",\"opacity\":0.85,\"r\":[1091,88,3,30,10,11,0,13,5,6],\"theta\":[0.0,36.0,72.0,108.0,144.0,180.0,216.0,252.0,288.0,324.0],\"visible\":false,\"type\":\"barpolar\"},{\"hoverinfo\":\"text\",\"hovertext\":[\"Saison : Printemps\\u003cbr\\u003eSurface : Sec\\u003cbr\\u003e\\u00c9clairement : Jour et demi-obscurit\\u00e9\\u003cbr\\u003eAccidents graves : 56\",\"Saison : Printemps\\u003cbr\\u003eSurface : Mouill\\u00e9\\u003cbr\\u003e\\u00c9clairement : Jour et demi-obscurit\\u00e9\\u003cbr\\u003eAccidents graves : 13\",\"Saison : Printemps\\u003cbr\\u003eSurface : Aquaplanage\\u003cbr\\u003e\\u00c9clairement : Jour et demi-obscurit\\u00e9\\u003cbr\\u003eAccidents graves : 0\",\"Saison : Printemps\\u003cbr\\u003eSurface : Sable\\u002fGravier\\u003cbr\\u003e\\u00c9clairement : Jour et demi-obscurit\\u00e9\\u003cbr\\u003eAccidents graves : 2\",\"Saison : Printemps\\u003cbr\\u003eSurface : Neige fondante\\u003cbr\\u003e\\u00c9clairement : Jour et demi-obscurit\\u00e9\\u003cbr\\u003eAccidents graves : 0\",\"Saison : Printemps\\u003cbr\\u003eSurface : Neige\\u003cbr\\u003e\\u00c9clairement : Jour et demi-obscurit\\u00e9\\u003cbr\\u003eAccidents graves : 1\",\"Saison : Printemps\\u003cbr\\u003eSurface : Neige durcie\\u003cbr\\u003e\\u00c9clairement : Jour et demi-obscurit\\u00e9\\u003cbr\\u003eAccidents graves : 0\",\"Saison : Printemps\\u003cbr\\u003eSurface : Glac\\u00e9\\u003cbr\\u003e\\u00c9clairement : Jour et demi-obscurit\\u00e9\\u003cbr\\u003eAccidents graves : 0\",\"Saison : Printemps\\u003cbr\\u003eSurface : Boueux\\u003cbr\\u003e\\u00c9clairement : Jour et demi-obscurit\\u00e9\\u003cbr\\u003eAccidents graves : 1\",\"Saison : Printemps\\u003cbr\\u003eSurface : Autre\\u003cbr\\u003e\\u00c9clairement : Jour et demi-obscurit\\u00e9\\u003cbr\\u003eAccidents graves : 0\"],\"marker\":{\"color\":\"#FFA500\"},\"name\":\"Printemps \\u2013 Jour et demi-obscurit\\u00e9\",\"opacity\":0.85,\"r\":[56,13,0,2,0,1,0,0,1,0],\"theta\":[0.0,36.0,72.0,108.0,144.0,180.0,216.0,252.0,288.0,324.0],\"visible\":false,\"type\":\"barpolar\"},{\"hoverinfo\":\"text\",\"hovertext\":[\"Saison : Printemps\\u003cbr\\u003eSurface : Sec\\u003cbr\\u003e\\u00c9clairement : Nuit et chemin \\u00e9clair\\u00e9\\u003cbr\\u003eAccidents graves : 173\",\"Saison : Printemps\\u003cbr\\u003eSurface : Mouill\\u00e9\\u003cbr\\u003e\\u00c9clairement : Nuit et chemin \\u00e9clair\\u00e9\\u003cbr\\u003eAccidents graves : 38\",\"Saison : Printemps\\u003cbr\\u003eSurface : Aquaplanage\\u003cbr\\u003e\\u00c9clairement : Nuit et chemin \\u00e9clair\\u00e9\\u003cbr\\u003eAccidents graves : 2\",\"Saison : Printemps\\u003cbr\\u003eSurface : Sable\\u002fGravier\\u003cbr\\u003e\\u00c9clairement : Nuit et chemin \\u00e9clair\\u00e9\\u003cbr\\u003eAccidents graves : 1\",\"Saison : Printemps\\u003cbr\\u003eSurface : Neige fondante\\u003cbr\\u003e\\u00c9clairement : Nuit et chemin \\u00e9clair\\u00e9\\u003cbr\\u003eAccidents graves : 1\",\"Saison : Printemps\\u003cbr\\u003eSurface : Neige\\u003cbr\\u003e\\u00c9clairement : Nuit et chemin \\u00e9clair\\u00e9\\u003cbr\\u003eAccidents graves : 1\",\"Saison : Printemps\\u003cbr\\u003eSurface : Neige durcie\\u003cbr\\u003e\\u00c9clairement : Nuit et chemin \\u00e9clair\\u00e9\\u003cbr\\u003eAccidents graves : 0\",\"Saison : Printemps\\u003cbr\\u003eSurface : Glac\\u00e9\\u003cbr\\u003e\\u00c9clairement : Nuit et chemin \\u00e9clair\\u00e9\\u003cbr\\u003eAccidents graves : 0\",\"Saison : Printemps\\u003cbr\\u003eSurface : Boueux\\u003cbr\\u003e\\u00c9clairement : Nuit et chemin \\u00e9clair\\u00e9\\u003cbr\\u003eAccidents graves : 0\",\"Saison : Printemps\\u003cbr\\u003eSurface : Autre\\u003cbr\\u003e\\u00c9clairement : Nuit et chemin \\u00e9clair\\u00e9\\u003cbr\\u003eAccidents graves : 0\"],\"marker\":{\"color\":\"#1E90FF\"},\"name\":\"Printemps \\u2013 Nuit et chemin \\u00e9clair\\u00e9\",\"opacity\":0.85,\"r\":[173,38,2,1,1,1,0,0,0,0],\"theta\":[0.0,36.0,72.0,108.0,144.0,180.0,216.0,252.0,288.0,324.0],\"visible\":false,\"type\":\"barpolar\"},{\"hoverinfo\":\"text\",\"hovertext\":[\"Saison : Printemps\\u003cbr\\u003eSurface : Sec\\u003cbr\\u003e\\u00c9clairement : Nuit et chemin non \\u00e9clair\\u00e9\\u003cbr\\u003eAccidents graves : 116\",\"Saison : Printemps\\u003cbr\\u003eSurface : Mouill\\u00e9\\u003cbr\\u003e\\u00c9clairement : Nuit et chemin non \\u00e9clair\\u00e9\\u003cbr\\u003eAccidents graves : 27\",\"Saison : Printemps\\u003cbr\\u003eSurface : Aquaplanage\\u003cbr\\u003e\\u00c9clairement : Nuit et chemin non \\u00e9clair\\u00e9\\u003cbr\\u003eAccidents graves : 1\",\"Saison : Printemps\\u003cbr\\u003eSurface : Sable\\u002fGravier\\u003cbr\\u003e\\u00c9clairement : Nuit et chemin non \\u00e9clair\\u00e9\\u003cbr\\u003eAccidents graves : 3\",\"Saison : Printemps\\u003cbr\\u003eSurface : Neige fondante\\u003cbr\\u003e\\u00c9clairement : Nuit et chemin non \\u00e9clair\\u00e9\\u003cbr\\u003eAccidents graves : 2\",\"Saison : Printemps\\u003cbr\\u003eSurface : Neige\\u003cbr\\u003e\\u00c9clairement : Nuit et chemin non \\u00e9clair\\u00e9\\u003cbr\\u003eAccidents graves : 0\",\"Saison : Printemps\\u003cbr\\u003eSurface : Neige durcie\\u003cbr\\u003e\\u00c9clairement : Nuit et chemin non \\u00e9clair\\u00e9\\u003cbr\\u003eAccidents graves : 1\",\"Saison : Printemps\\u003cbr\\u003eSurface : Glac\\u00e9\\u003cbr\\u003e\\u00c9clairement : Nuit et chemin non \\u00e9clair\\u00e9\\u003cbr\\u003eAccidents graves : 1\",\"Saison : Printemps\\u003cbr\\u003eSurface : Boueux\\u003cbr\\u003e\\u00c9clairement : Nuit et chemin non \\u00e9clair\\u00e9\\u003cbr\\u003eAccidents graves : 0\",\"Saison : Printemps\\u003cbr\\u003eSurface : Autre\\u003cbr\\u003e\\u00c9clairement : Nuit et chemin non \\u00e9clair\\u00e9\\u003cbr\\u003eAccidents graves : 0\"],\"marker\":{\"color\":\"#2F4F4F\"},\"name\":\"Printemps \\u2013 Nuit et chemin non \\u00e9clair\\u00e9\",\"opacity\":0.85,\"r\":[116,27,1,3,2,0,1,1,0,0],\"theta\":[0.0,36.0,72.0,108.0,144.0,180.0,216.0,252.0,288.0,324.0],\"visible\":false,\"type\":\"barpolar\"},{\"hoverinfo\":\"text\",\"hovertext\":[\"Saison : \\u00c9t\\u00e9\\u003cbr\\u003eSurface : Sec\\u003cbr\\u003e\\u00c9clairement : Jour et clart\\u00e9\\u003cbr\\u003eAccidents graves : 1578\",\"Saison : \\u00c9t\\u00e9\\u003cbr\\u003eSurface : Mouill\\u00e9\\u003cbr\\u003e\\u00c9clairement : Jour et clart\\u00e9\\u003cbr\\u003eAccidents graves : 92\",\"Saison : \\u00c9t\\u00e9\\u003cbr\\u003eSurface : Aquaplanage\\u003cbr\\u003e\\u00c9clairement : Jour et clart\\u00e9\\u003cbr\\u003eAccidents graves : 4\",\"Saison : \\u00c9t\\u00e9\\u003cbr\\u003eSurface : Sable\\u002fGravier\\u003cbr\\u003e\\u00c9clairement : Jour et clart\\u00e9\\u003cbr\\u003eAccidents graves : 44\",\"Saison : \\u00c9t\\u00e9\\u003cbr\\u003eSurface : Neige fondante\\u003cbr\\u003e\\u00c9clairement : Jour et clart\\u00e9\\u003cbr\\u003eAccidents graves : 0\",\"Saison : \\u00c9t\\u00e9\\u003cbr\\u003eSurface : Neige\\u003cbr\\u003e\\u00c9clairement : Jour et clart\\u00e9\\u003cbr\\u003eAccidents graves : 0\",\"Saison : \\u00c9t\\u00e9\\u003cbr\\u003eSurface : Neige durcie\\u003cbr\\u003e\\u00c9clairement : Jour et clart\\u00e9\\u003cbr\\u003eAccidents graves : 0\",\"Saison : \\u00c9t\\u00e9\\u003cbr\\u003eSurface : Glac\\u00e9\\u003cbr\\u003e\\u00c9clairement : Jour et clart\\u00e9\\u003cbr\\u003eAccidents graves : 0\",\"Saison : \\u00c9t\\u00e9\\u003cbr\\u003eSurface : Boueux\\u003cbr\\u003e\\u00c9clairement : Jour et clart\\u00e9\\u003cbr\\u003eAccidents graves : 1\",\"Saison : \\u00c9t\\u00e9\\u003cbr\\u003eSurface : Autre\\u003cbr\\u003e\\u00c9clairement : Jour et clart\\u00e9\\u003cbr\\u003eAccidents graves : 10\"],\"marker\":{\"color\":\"#FFD700\"},\"name\":\"\\u00c9t\\u00e9 \\u2013 Jour et clart\\u00e9\",\"opacity\":0.85,\"r\":[1578,92,4,44,0,0,0,0,1,10],\"theta\":[0.0,36.0,72.0,108.0,144.0,180.0,216.0,252.0,288.0,324.0],\"visible\":false,\"type\":\"barpolar\"},{\"hoverinfo\":\"text\",\"hovertext\":[\"Saison : \\u00c9t\\u00e9\\u003cbr\\u003eSurface : Sec\\u003cbr\\u003e\\u00c9clairement : Jour et demi-obscurit\\u00e9\\u003cbr\\u003eAccidents graves : 77\",\"Saison : \\u00c9t\\u00e9\\u003cbr\\u003eSurface : Mouill\\u00e9\\u003cbr\\u003e\\u00c9clairement : Jour et demi-obscurit\\u00e9\\u003cbr\\u003eAccidents graves : 10\",\"Saison : \\u00c9t\\u00e9\\u003cbr\\u003eSurface : Aquaplanage\\u003cbr\\u003e\\u00c9clairement : Jour et demi-obscurit\\u00e9\\u003cbr\\u003eAccidents graves : 1\",\"Saison : \\u00c9t\\u00e9\\u003cbr\\u003eSurface : Sable\\u002fGravier\\u003cbr\\u003e\\u00c9clairement : Jour et demi-obscurit\\u00e9\\u003cbr\\u003eAccidents graves : 3\",\"Saison : \\u00c9t\\u00e9\\u003cbr\\u003eSurface : Neige fondante\\u003cbr\\u003e\\u00c9clairement : Jour et demi-obscurit\\u00e9\\u003cbr\\u003eAccidents graves : 0\",\"Saison : \\u00c9t\\u00e9\\u003cbr\\u003eSurface : Neige\\u003cbr\\u003e\\u00c9clairement : Jour et demi-obscurit\\u00e9\\u003cbr\\u003eAccidents graves : 0\",\"Saison : \\u00c9t\\u00e9\\u003cbr\\u003eSurface : Neige durcie\\u003cbr\\u003e\\u00c9clairement : Jour et demi-obscurit\\u00e9\\u003cbr\\u003eAccidents graves : 0\",\"Saison : \\u00c9t\\u00e9\\u003cbr\\u003eSurface : Glac\\u00e9\\u003cbr\\u003e\\u00c9clairement : Jour et demi-obscurit\\u00e9\\u003cbr\\u003eAccidents graves : 0\",\"Saison : \\u00c9t\\u00e9\\u003cbr\\u003eSurface : Boueux\\u003cbr\\u003e\\u00c9clairement : Jour et demi-obscurit\\u00e9\\u003cbr\\u003eAccidents graves : 0\",\"Saison : \\u00c9t\\u00e9\\u003cbr\\u003eSurface : Autre\\u003cbr\\u003e\\u00c9clairement : Jour et demi-obscurit\\u00e9\\u003cbr\\u003eAccidents graves : 0\"],\"marker\":{\"color\":\"#FFA500\"},\"name\":\"\\u00c9t\\u00e9 \\u2013 Jour et demi-obscurit\\u00e9\",\"opacity\":0.85,\"r\":[77,10,1,3,0,0,0,0,0,0],\"theta\":[0.0,36.0,72.0,108.0,144.0,180.0,216.0,252.0,288.0,324.0],\"visible\":false,\"type\":\"barpolar\"},{\"hoverinfo\":\"text\",\"hovertext\":[\"Saison : \\u00c9t\\u00e9\\u003cbr\\u003eSurface : Sec\\u003cbr\\u003e\\u00c9clairement : Nuit et chemin \\u00e9clair\\u00e9\\u003cbr\\u003eAccidents graves : 318\",\"Saison : \\u00c9t\\u00e9\\u003cbr\\u003eSurface : Mouill\\u00e9\\u003cbr\\u003e\\u00c9clairement : Nuit et chemin \\u00e9clair\\u00e9\\u003cbr\\u003eAccidents graves : 40\",\"Saison : \\u00c9t\\u00e9\\u003cbr\\u003eSurface : Aquaplanage\\u003cbr\\u003e\\u00c9clairement : Nuit et chemin \\u00e9clair\\u00e9\\u003cbr\\u003eAccidents graves : 2\",\"Saison : \\u00c9t\\u00e9\\u003cbr\\u003eSurface : Sable\\u002fGravier\\u003cbr\\u003e\\u00c9clairement : Nuit et chemin \\u00e9clair\\u00e9\\u003cbr\\u003eAccidents graves : 3\",\"Saison : \\u00c9t\\u00e9\\u003cbr\\u003eSurface : Neige fondante\\u003cbr\\u003e\\u00c9clairement : Nuit et chemin \\u00e9clair\\u00e9\\u003cbr\\u003eAccidents graves : 0\",\"Saison : \\u00c9t\\u00e9\\u003cbr\\u003eSurface : Neige\\u003cbr\\u003e\\u00c9clairement : Nuit et chemin \\u00e9clair\\u00e9\\u003cbr\\u003eAccidents graves : 0\",\"Saison : \\u00c9t\\u00e9\\u003cbr\\u003eSurface : Neige durcie\\u003cbr\\u003e\\u00c9clairement : Nuit et chemin \\u00e9clair\\u00e9\\u003cbr\\u003eAccidents graves : 0\",\"Saison : \\u00c9t\\u00e9\\u003cbr\\u003eSurface : Glac\\u00e9\\u003cbr\\u003e\\u00c9clairement : Nuit et chemin \\u00e9clair\\u00e9\\u003cbr\\u003eAccidents graves : 0\",\"Saison : \\u00c9t\\u00e9\\u003cbr\\u003eSurface : Boueux\\u003cbr\\u003e\\u00c9clairement : Nuit et chemin \\u00e9clair\\u00e9\\u003cbr\\u003eAccidents graves : 0\",\"Saison : \\u00c9t\\u00e9\\u003cbr\\u003eSurface : Autre\\u003cbr\\u003e\\u00c9clairement : Nuit et chemin \\u00e9clair\\u00e9\\u003cbr\\u003eAccidents graves : 0\"],\"marker\":{\"color\":\"#1E90FF\"},\"name\":\"\\u00c9t\\u00e9 \\u2013 Nuit et chemin \\u00e9clair\\u00e9\",\"opacity\":0.85,\"r\":[318,40,2,3,0,0,0,0,0,0],\"theta\":[0.0,36.0,72.0,108.0,144.0,180.0,216.0,252.0,288.0,324.0],\"visible\":false,\"type\":\"barpolar\"},{\"hoverinfo\":\"text\",\"hovertext\":[\"Saison : \\u00c9t\\u00e9\\u003cbr\\u003eSurface : Sec\\u003cbr\\u003e\\u00c9clairement : Nuit et chemin non \\u00e9clair\\u00e9\\u003cbr\\u003eAccidents graves : 252\",\"Saison : \\u00c9t\\u00e9\\u003cbr\\u003eSurface : Mouill\\u00e9\\u003cbr\\u003e\\u00c9clairement : Nuit et chemin non \\u00e9clair\\u00e9\\u003cbr\\u003eAccidents graves : 26\",\"Saison : \\u00c9t\\u00e9\\u003cbr\\u003eSurface : Aquaplanage\\u003cbr\\u003e\\u00c9clairement : Nuit et chemin non \\u00e9clair\\u00e9\\u003cbr\\u003eAccidents graves : 2\",\"Saison : \\u00c9t\\u00e9\\u003cbr\\u003eSurface : Sable\\u002fGravier\\u003cbr\\u003e\\u00c9clairement : Nuit et chemin non \\u00e9clair\\u00e9\\u003cbr\\u003eAccidents graves : 2\",\"Saison : \\u00c9t\\u00e9\\u003cbr\\u003eSurface : Neige fondante\\u003cbr\\u003e\\u00c9clairement : Nuit et chemin non \\u00e9clair\\u00e9\\u003cbr\\u003eAccidents graves : 0\",\"Saison : \\u00c9t\\u00e9\\u003cbr\\u003eSurface : Neige\\u003cbr\\u003e\\u00c9clairement : Nuit et chemin non \\u00e9clair\\u00e9\\u003cbr\\u003eAccidents graves : 0\",\"Saison : \\u00c9t\\u00e9\\u003cbr\\u003eSurface : Neige durcie\\u003cbr\\u003e\\u00c9clairement : Nuit et chemin non \\u00e9clair\\u00e9\\u003cbr\\u003eAccidents graves : 0\",\"Saison : \\u00c9t\\u00e9\\u003cbr\\u003eSurface : Glac\\u00e9\\u003cbr\\u003e\\u00c9clairement : Nuit et chemin non \\u00e9clair\\u00e9\\u003cbr\\u003eAccidents graves : 0\",\"Saison : \\u00c9t\\u00e9\\u003cbr\\u003eSurface : Boueux\\u003cbr\\u003e\\u00c9clairement : Nuit et chemin non \\u00e9clair\\u00e9\\u003cbr\\u003eAccidents graves : 0\",\"Saison : \\u00c9t\\u00e9\\u003cbr\\u003eSurface : Autre\\u003cbr\\u003e\\u00c9clairement : Nuit et chemin non \\u00e9clair\\u00e9\\u003cbr\\u003eAccidents graves : 0\"],\"marker\":{\"color\":\"#2F4F4F\"},\"name\":\"\\u00c9t\\u00e9 \\u2013 Nuit et chemin non \\u00e9clair\\u00e9\",\"opacity\":0.85,\"r\":[252,26,2,2,0,0,0,0,0,0],\"theta\":[0.0,36.0,72.0,108.0,144.0,180.0,216.0,252.0,288.0,324.0],\"visible\":false,\"type\":\"barpolar\"},{\"hoverinfo\":\"text\",\"hovertext\":[\"Saison : Automne\\u003cbr\\u003eSurface : Sec\\u003cbr\\u003e\\u00c9clairement : Jour et clart\\u00e9\\u003cbr\\u003eAccidents graves : 551\",\"Saison : Automne\\u003cbr\\u003eSurface : Mouill\\u00e9\\u003cbr\\u003e\\u00c9clairement : Jour et clart\\u00e9\\u003cbr\\u003eAccidents graves : 133\",\"Saison : Automne\\u003cbr\\u003eSurface : Aquaplanage\\u003cbr\\u003e\\u00c9clairement : Jour et clart\\u00e9\\u003cbr\\u003eAccidents graves : 3\",\"Saison : Automne\\u003cbr\\u003eSurface : Sable\\u002fGravier\\u003cbr\\u003e\\u00c9clairement : Jour et clart\\u00e9\\u003cbr\\u003eAccidents graves : 6\",\"Saison : Automne\\u003cbr\\u003eSurface : Neige fondante\\u003cbr\\u003e\\u00c9clairement : Jour et clart\\u00e9\\u003cbr\\u003eAccidents graves : 29\",\"Saison : Automne\\u003cbr\\u003eSurface : Neige\\u003cbr\\u003e\\u00c9clairement : Jour et clart\\u00e9\\u003cbr\\u003eAccidents graves : 39\",\"Saison : Automne\\u003cbr\\u003eSurface : Neige durcie\\u003cbr\\u003e\\u00c9clairement : Jour et clart\\u00e9\\u003cbr\\u003eAccidents graves : 10\",\"Saison : Automne\\u003cbr\\u003eSurface : Glac\\u00e9\\u003cbr\\u003e\\u00c9clairement : Jour et clart\\u00e9\\u003cbr\\u003eAccidents graves : 48\",\"Saison : Automne\\u003cbr\\u003eSurface : Boueux\\u003cbr\\u003e\\u00c9clairement : Jour et clart\\u00e9\\u003cbr\\u003eAccidents graves : 4\",\"Saison : Automne\\u003cbr\\u003eSurface : Autre\\u003cbr\\u003e\\u00c9clairement : Jour et clart\\u00e9\\u003cbr\\u003eAccidents graves : 3\"],\"marker\":{\"color\":\"#FFD700\"},\"name\":\"Automne \\u2013 Jour et clart\\u00e9\",\"opacity\":0.85,\"r\":[551,133,3,6,29,39,10,48,4,3],\"theta\":[0.0,36.0,72.0,108.0,144.0,180.0,216.0,252.0,288.0,324.0],\"visible\":false,\"type\":\"barpolar\"},{\"hoverinfo\":\"text\",\"hovertext\":[\"Saison : Automne\\u003cbr\\u003eSurface : Sec\\u003cbr\\u003e\\u00c9clairement : Jour et demi-obscurit\\u00e9\\u003cbr\\u003eAccidents graves : 34\",\"Saison : Automne\\u003cbr\\u003eSurface : Mouill\\u00e9\\u003cbr\\u003e\\u00c9clairement : Jour et demi-obscurit\\u00e9\\u003cbr\\u003eAccidents graves : 31\",\"Saison : Automne\\u003cbr\\u003eSurface : Aquaplanage\\u003cbr\\u003e\\u00c9clairement : Jour et demi-obscurit\\u00e9\\u003cbr\\u003eAccidents graves : 0\",\"Saison : Automne\\u003cbr\\u003eSurface : Sable\\u002fGravier\\u003cbr\\u003e\\u00c9clairement : Jour et demi-obscurit\\u00e9\\u003cbr\\u003eAccidents graves : 1\",\"Saison : Automne\\u003cbr\\u003eSurface : Neige fondante\\u003cbr\\u003e\\u00c9clairement : Jour et demi-obscurit\\u00e9\\u003cbr\\u003eAccidents graves : 6\",\"Saison : Automne\\u003cbr\\u003eSurface : Neige\\u003cbr\\u003e\\u00c9clairement : Jour et demi-obscurit\\u00e9\\u003cbr\\u003eAccidents graves : 8\",\"Saison : Automne\\u003cbr\\u003eSurface : Neige durcie\\u003cbr\\u003e\\u00c9clairement : Jour et demi-obscurit\\u00e9\\u003cbr\\u003eAccidents graves : 1\",\"Saison : Automne\\u003cbr\\u003eSurface : Glac\\u00e9\\u003cbr\\u003e\\u00c9clairement : Jour et demi-obscurit\\u00e9\\u003cbr\\u003eAccidents graves : 5\",\"Saison : Automne\\u003cbr\\u003eSurface : Boueux\\u003cbr\\u003e\\u00c9clairement : Jour et demi-obscurit\\u00e9\\u003cbr\\u003eAccidents graves : 0\",\"Saison : Automne\\u003cbr\\u003eSurface : Autre\\u003cbr\\u003e\\u00c9clairement : Jour et demi-obscurit\\u00e9\\u003cbr\\u003eAccidents graves : 0\"],\"marker\":{\"color\":\"#FFA500\"},\"name\":\"Automne \\u2013 Jour et demi-obscurit\\u00e9\",\"opacity\":0.85,\"r\":[34,31,0,1,6,8,1,5,0,0],\"theta\":[0.0,36.0,72.0,108.0,144.0,180.0,216.0,252.0,288.0,324.0],\"visible\":false,\"type\":\"barpolar\"},{\"hoverinfo\":\"text\",\"hovertext\":[\"Saison : Automne\\u003cbr\\u003eSurface : Sec\\u003cbr\\u003e\\u00c9clairement : Nuit et chemin \\u00e9clair\\u00e9\\u003cbr\\u003eAccidents graves : 230\",\"Saison : Automne\\u003cbr\\u003eSurface : Mouill\\u00e9\\u003cbr\\u003e\\u00c9clairement : Nuit et chemin \\u00e9clair\\u00e9\\u003cbr\\u003eAccidents graves : 132\",\"Saison : Automne\\u003cbr\\u003eSurface : Aquaplanage\\u003cbr\\u003e\\u00c9clairement : Nuit et chemin \\u00e9clair\\u00e9\\u003cbr\\u003eAccidents graves : 2\",\"Saison : Automne\\u003cbr\\u003eSurface : Sable\\u002fGravier\\u003cbr\\u003e\\u00c9clairement : Nuit et chemin \\u00e9clair\\u00e9\\u003cbr\\u003eAccidents graves : 3\",\"Saison : Automne\\u003cbr\\u003eSurface : Neige fondante\\u003cbr\\u003e\\u00c9clairement : Nuit et chemin \\u00e9clair\\u00e9\\u003cbr\\u003eAccidents graves : 9\",\"Saison : Automne\\u003cbr\\u003eSurface : Neige\\u003cbr\\u003e\\u00c9clairement : Nuit et chemin \\u00e9clair\\u00e9\\u003cbr\\u003eAccidents graves : 13\",\"Saison : Automne\\u003cbr\\u003eSurface : Neige durcie\\u003cbr\\u003e\\u00c9clairement : Nuit et chemin \\u00e9clair\\u00e9\\u003cbr\\u003eAccidents graves : 2\",\"Saison : Automne\\u003cbr\\u003eSurface : Glac\\u00e9\\u003cbr\\u003e\\u00c9clairement : Nuit et chemin \\u00e9clair\\u00e9\\u003cbr\\u003eAccidents graves : 23\",\"Saison : Automne\\u003cbr\\u003eSurface : Boueux\\u003cbr\\u003e\\u00c9clairement : Nuit et chemin \\u00e9clair\\u00e9\\u003cbr\\u003eAccidents graves : 0\",\"Saison : Automne\\u003cbr\\u003eSurface : Autre\\u003cbr\\u003e\\u00c9clairement : Nuit et chemin \\u00e9clair\\u00e9\\u003cbr\\u003eAccidents graves : 0\"],\"marker\":{\"color\":\"#1E90FF\"},\"name\":\"Automne \\u2013 Nuit et chemin \\u00e9clair\\u00e9\",\"opacity\":0.85,\"r\":[230,132,2,3,9,13,2,23,0,0],\"theta\":[0.0,36.0,72.0,108.0,144.0,180.0,216.0,252.0,288.0,324.0],\"visible\":false,\"type\":\"barpolar\"},{\"hoverinfo\":\"text\",\"hovertext\":[\"Saison : Automne\\u003cbr\\u003eSurface : Sec\\u003cbr\\u003e\\u00c9clairement : Nuit et chemin non \\u00e9clair\\u00e9\\u003cbr\\u003eAccidents graves : 182\",\"Saison : Automne\\u003cbr\\u003eSurface : Mouill\\u00e9\\u003cbr\\u003e\\u00c9clairement : Nuit et chemin non \\u00e9clair\\u00e9\\u003cbr\\u003eAccidents graves : 60\",\"Saison : Automne\\u003cbr\\u003eSurface : Aquaplanage\\u003cbr\\u003e\\u00c9clairement : Nuit et chemin non \\u00e9clair\\u00e9\\u003cbr\\u003eAccidents graves : 2\",\"Saison : Automne\\u003cbr\\u003eSurface : Sable\\u002fGravier\\u003cbr\\u003e\\u00c9clairement : Nuit et chemin non \\u00e9clair\\u00e9\\u003cbr\\u003eAccidents graves : 6\",\"Saison : Automne\\u003cbr\\u003eSurface : Neige fondante\\u003cbr\\u003e\\u00c9clairement : Nuit et chemin non \\u00e9clair\\u00e9\\u003cbr\\u003eAccidents graves : 15\",\"Saison : Automne\\u003cbr\\u003eSurface : Neige\\u003cbr\\u003e\\u00c9clairement : Nuit et chemin non \\u00e9clair\\u00e9\\u003cbr\\u003eAccidents graves : 30\",\"Saison : Automne\\u003cbr\\u003eSurface : Neige durcie\\u003cbr\\u003e\\u00c9clairement : Nuit et chemin non \\u00e9clair\\u00e9\\u003cbr\\u003eAccidents graves : 8\",\"Saison : Automne\\u003cbr\\u003eSurface : Glac\\u00e9\\u003cbr\\u003e\\u00c9clairement : Nuit et chemin non \\u00e9clair\\u00e9\\u003cbr\\u003eAccidents graves : 39\",\"Saison : Automne\\u003cbr\\u003eSurface : Boueux\\u003cbr\\u003e\\u00c9clairement : Nuit et chemin non \\u00e9clair\\u00e9\\u003cbr\\u003eAccidents graves : 3\",\"Saison : Automne\\u003cbr\\u003eSurface : Autre\\u003cbr\\u003e\\u00c9clairement : Nuit et chemin non \\u00e9clair\\u00e9\\u003cbr\\u003eAccidents graves : 1\"],\"marker\":{\"color\":\"#2F4F4F\"},\"name\":\"Automne \\u2013 Nuit et chemin non \\u00e9clair\\u00e9\",\"opacity\":0.85,\"r\":[182,60,2,6,15,30,8,39,3,1],\"theta\":[0.0,36.0,72.0,108.0,144.0,180.0,216.0,252.0,288.0,324.0],\"visible\":false,\"type\":\"barpolar\"}],                        {\"template\":{\"data\":{\"barpolar\":[{\"marker\":{\"line\":{\"color\":\"white\",\"width\":0.5},\"pattern\":{\"fillmode\":\"overlay\",\"size\":10,\"solidity\":0.2}},\"type\":\"barpolar\"}],\"bar\":[{\"error_x\":{\"color\":\"#2a3f5f\"},\"error_y\":{\"color\":\"#2a3f5f\"},\"marker\":{\"line\":{\"color\":\"white\",\"width\":0.5},\"pattern\":{\"fillmode\":\"overlay\",\"size\":10,\"solidity\":0.2}},\"type\":\"bar\"}],\"carpet\":[{\"aaxis\":{\"endlinecolor\":\"#2a3f5f\",\"gridcolor\":\"#C8D4E3\",\"linecolor\":\"#C8D4E3\",\"minorgridcolor\":\"#C8D4E3\",\"startlinecolor\":\"#2a3f5f\"},\"baxis\":{\"endlinecolor\":\"#2a3f5f\",\"gridcolor\":\"#C8D4E3\",\"linecolor\":\"#C8D4E3\",\"minorgridcolor\":\"#C8D4E3\",\"startlinecolor\":\"#2a3f5f\"},\"type\":\"carpet\"}],\"choropleth\":[{\"colorbar\":{\"outlinewidth\":0,\"ticks\":\"\"},\"type\":\"choropleth\"}],\"contourcarpet\":[{\"colorbar\":{\"outlinewidth\":0,\"ticks\":\"\"},\"type\":\"contourcarpet\"}],\"contour\":[{\"colorbar\":{\"outlinewidth\":0,\"ticks\":\"\"},\"colorscale\":[[0.0,\"#0d0887\"],[0.1111111111111111,\"#46039f\"],[0.2222222222222222,\"#7201a8\"],[0.3333333333333333,\"#9c179e\"],[0.4444444444444444,\"#bd3786\"],[0.5555555555555556,\"#d8576b\"],[0.6666666666666666,\"#ed7953\"],[0.7777777777777778,\"#fb9f3a\"],[0.8888888888888888,\"#fdca26\"],[1.0,\"#f0f921\"]],\"type\":\"contour\"}],\"heatmapgl\":[{\"colorbar\":{\"outlinewidth\":0,\"ticks\":\"\"},\"colorscale\":[[0.0,\"#0d0887\"],[0.1111111111111111,\"#46039f\"],[0.2222222222222222,\"#7201a8\"],[0.3333333333333333,\"#9c179e\"],[0.4444444444444444,\"#bd3786\"],[0.5555555555555556,\"#d8576b\"],[0.6666666666666666,\"#ed7953\"],[0.7777777777777778,\"#fb9f3a\"],[0.8888888888888888,\"#fdca26\"],[1.0,\"#f0f921\"]],\"type\":\"heatmapgl\"}],\"heatmap\":[{\"colorbar\":{\"outlinewidth\":0,\"ticks\":\"\"},\"colorscale\":[[0.0,\"#0d0887\"],[0.1111111111111111,\"#46039f\"],[0.2222222222222222,\"#7201a8\"],[0.3333333333333333,\"#9c179e\"],[0.4444444444444444,\"#bd3786\"],[0.5555555555555556,\"#d8576b\"],[0.6666666666666666,\"#ed7953\"],[0.7777777777777778,\"#fb9f3a\"],[0.8888888888888888,\"#fdca26\"],[1.0,\"#f0f921\"]],\"type\":\"heatmap\"}],\"histogram2dcontour\":[{\"colorbar\":{\"outlinewidth\":0,\"ticks\":\"\"},\"colorscale\":[[0.0,\"#0d0887\"],[0.1111111111111111,\"#46039f\"],[0.2222222222222222,\"#7201a8\"],[0.3333333333333333,\"#9c179e\"],[0.4444444444444444,\"#bd3786\"],[0.5555555555555556,\"#d8576b\"],[0.6666666666666666,\"#ed7953\"],[0.7777777777777778,\"#fb9f3a\"],[0.8888888888888888,\"#fdca26\"],[1.0,\"#f0f921\"]],\"type\":\"histogram2dcontour\"}],\"histogram2d\":[{\"colorbar\":{\"outlinewidth\":0,\"ticks\":\"\"},\"colorscale\":[[0.0,\"#0d0887\"],[0.1111111111111111,\"#46039f\"],[0.2222222222222222,\"#7201a8\"],[0.3333333333333333,\"#9c179e\"],[0.4444444444444444,\"#bd3786\"],[0.5555555555555556,\"#d8576b\"],[0.6666666666666666,\"#ed7953\"],[0.7777777777777778,\"#fb9f3a\"],[0.8888888888888888,\"#fdca26\"],[1.0,\"#f0f921\"]],\"type\":\"histogram2d\"}],\"histogram\":[{\"marker\":{\"pattern\":{\"fillmode\":\"overlay\",\"size\":10,\"solidity\":0.2}},\"type\":\"histogram\"}],\"mesh3d\":[{\"colorbar\":{\"outlinewidth\":0,\"ticks\":\"\"},\"type\":\"mesh3d\"}],\"parcoords\":[{\"line\":{\"colorbar\":{\"outlinewidth\":0,\"ticks\":\"\"}},\"type\":\"parcoords\"}],\"pie\":[{\"automargin\":true,\"type\":\"pie\"}],\"scatter3d\":[{\"line\":{\"colorbar\":{\"outlinewidth\":0,\"ticks\":\"\"}},\"marker\":{\"colorbar\":{\"outlinewidth\":0,\"ticks\":\"\"}},\"type\":\"scatter3d\"}],\"scattercarpet\":[{\"marker\":{\"colorbar\":{\"outlinewidth\":0,\"ticks\":\"\"}},\"type\":\"scattercarpet\"}],\"scattergeo\":[{\"marker\":{\"colorbar\":{\"outlinewidth\":0,\"ticks\":\"\"}},\"type\":\"scattergeo\"}],\"scattergl\":[{\"marker\":{\"colorbar\":{\"outlinewidth\":0,\"ticks\":\"\"}},\"type\":\"scattergl\"}],\"scattermapbox\":[{\"marker\":{\"colorbar\":{\"outlinewidth\":0,\"ticks\":\"\"}},\"type\":\"scattermapbox\"}],\"scatterpolargl\":[{\"marker\":{\"colorbar\":{\"outlinewidth\":0,\"ticks\":\"\"}},\"type\":\"scatterpolargl\"}],\"scatterpolar\":[{\"marker\":{\"colorbar\":{\"outlinewidth\":0,\"ticks\":\"\"}},\"type\":\"scatterpolar\"}],\"scatter\":[{\"fillpattern\":{\"fillmode\":\"overlay\",\"size\":10,\"solidity\":0.2},\"type\":\"scatter\"}],\"scatterternary\":[{\"marker\":{\"colorbar\":{\"outlinewidth\":0,\"ticks\":\"\"}},\"type\":\"scatterternary\"}],\"surface\":[{\"colorbar\":{\"outlinewidth\":0,\"ticks\":\"\"},\"colorscale\":[[0.0,\"#0d0887\"],[0.1111111111111111,\"#46039f\"],[0.2222222222222222,\"#7201a8\"],[0.3333333333333333,\"#9c179e\"],[0.4444444444444444,\"#bd3786\"],[0.5555555555555556,\"#d8576b\"],[0.6666666666666666,\"#ed7953\"],[0.7777777777777778,\"#fb9f3a\"],[0.8888888888888888,\"#fdca26\"],[1.0,\"#f0f921\"]],\"type\":\"surface\"}],\"table\":[{\"cells\":{\"fill\":{\"color\":\"#EBF0F8\"},\"line\":{\"color\":\"white\"}},\"header\":{\"fill\":{\"color\":\"#C8D4E3\"},\"line\":{\"color\":\"white\"}},\"type\":\"table\"}]},\"layout\":{\"annotationdefaults\":{\"arrowcolor\":\"#2a3f5f\",\"arrowhead\":0,\"arrowwidth\":1},\"autotypenumbers\":\"strict\",\"coloraxis\":{\"colorbar\":{\"outlinewidth\":0,\"ticks\":\"\"}},\"colorscale\":{\"diverging\":[[0,\"#8e0152\"],[0.1,\"#c51b7d\"],[0.2,\"#de77ae\"],[0.3,\"#f1b6da\"],[0.4,\"#fde0ef\"],[0.5,\"#f7f7f7\"],[0.6,\"#e6f5d0\"],[0.7,\"#b8e186\"],[0.8,\"#7fbc41\"],[0.9,\"#4d9221\"],[1,\"#276419\"]],\"sequential\":[[0.0,\"#0d0887\"],[0.1111111111111111,\"#46039f\"],[0.2222222222222222,\"#7201a8\"],[0.3333333333333333,\"#9c179e\"],[0.4444444444444444,\"#bd3786\"],[0.5555555555555556,\"#d8576b\"],[0.6666666666666666,\"#ed7953\"],[0.7777777777777778,\"#fb9f3a\"],[0.8888888888888888,\"#fdca26\"],[1.0,\"#f0f921\"]],\"sequentialminus\":[[0.0,\"#0d0887\"],[0.1111111111111111,\"#46039f\"],[0.2222222222222222,\"#7201a8\"],[0.3333333333333333,\"#9c179e\"],[0.4444444444444444,\"#bd3786\"],[0.5555555555555556,\"#d8576b\"],[0.6666666666666666,\"#ed7953\"],[0.7777777777777778,\"#fb9f3a\"],[0.8888888888888888,\"#fdca26\"],[1.0,\"#f0f921\"]]},\"colorway\":[\"#636efa\",\"#EF553B\",\"#00cc96\",\"#ab63fa\",\"#FFA15A\",\"#19d3f3\",\"#FF6692\",\"#B6E880\",\"#FF97FF\",\"#FECB52\"],\"font\":{\"color\":\"#2a3f5f\"},\"geo\":{\"bgcolor\":\"white\",\"lakecolor\":\"white\",\"landcolor\":\"white\",\"showlakes\":true,\"showland\":true,\"subunitcolor\":\"#C8D4E3\"},\"hoverlabel\":{\"align\":\"left\"},\"hovermode\":\"closest\",\"mapbox\":{\"style\":\"light\"},\"paper_bgcolor\":\"white\",\"plot_bgcolor\":\"white\",\"polar\":{\"angularaxis\":{\"gridcolor\":\"#EBF0F8\",\"linecolor\":\"#EBF0F8\",\"ticks\":\"\"},\"bgcolor\":\"white\",\"radialaxis\":{\"gridcolor\":\"#EBF0F8\",\"linecolor\":\"#EBF0F8\",\"ticks\":\"\"}},\"scene\":{\"xaxis\":{\"backgroundcolor\":\"white\",\"gridcolor\":\"#DFE8F3\",\"gridwidth\":2,\"linecolor\":\"#EBF0F8\",\"showbackground\":true,\"ticks\":\"\",\"zerolinecolor\":\"#EBF0F8\"},\"yaxis\":{\"backgroundcolor\":\"white\",\"gridcolor\":\"#DFE8F3\",\"gridwidth\":2,\"linecolor\":\"#EBF0F8\",\"showbackground\":true,\"ticks\":\"\",\"zerolinecolor\":\"#EBF0F8\"},\"zaxis\":{\"backgroundcolor\":\"white\",\"gridcolor\":\"#DFE8F3\",\"gridwidth\":2,\"linecolor\":\"#EBF0F8\",\"showbackground\":true,\"ticks\":\"\",\"zerolinecolor\":\"#EBF0F8\"}},\"shapedefaults\":{\"line\":{\"color\":\"#2a3f5f\"}},\"ternary\":{\"aaxis\":{\"gridcolor\":\"#DFE8F3\",\"linecolor\":\"#A2B1C6\",\"ticks\":\"\"},\"baxis\":{\"gridcolor\":\"#DFE8F3\",\"linecolor\":\"#A2B1C6\",\"ticks\":\"\"},\"bgcolor\":\"white\",\"caxis\":{\"gridcolor\":\"#DFE8F3\",\"linecolor\":\"#A2B1C6\",\"ticks\":\"\"}},\"title\":{\"x\":0.05},\"xaxis\":{\"automargin\":true,\"gridcolor\":\"#EBF0F8\",\"linecolor\":\"#EBF0F8\",\"ticks\":\"\",\"title\":{\"standoff\":15},\"zerolinecolor\":\"#EBF0F8\",\"zerolinewidth\":2},\"yaxis\":{\"automargin\":true,\"gridcolor\":\"#EBF0F8\",\"linecolor\":\"#EBF0F8\",\"ticks\":\"\",\"title\":{\"standoff\":15},\"zerolinecolor\":\"#EBF0F8\",\"zerolinewidth\":2}}},\"polar\":{\"radialaxis\":{\"visible\":true,\"range\":[0,359]},\"angularaxis\":{\"tickmode\":\"array\",\"tickvals\":[0.0,36.0,72.0,108.0,144.0,180.0,216.0,252.0,288.0,324.0],\"ticktext\":[\"Sec\",\"Mouill\\u00e9\",\"Aquaplanage\",\"Sable\\u002fGravier\",\"Neige fondante\",\"Neige\",\"Neige durcie\",\"Glac\\u00e9\",\"Boueux\",\"Autre\"],\"rotation\":90,\"direction\":\"clockwise\"}},\"margin\":{\"l\":100,\"r\":100,\"t\":100,\"b\":150},\"title\":{\"text\":\"Polar Bar Chart \\u2013 Nb d'accidents graves (Hiver)\"},\"legend\":{\"title\":{\"text\":\"\\u00c9clairement\"}},\"width\":900,\"height\":800,\"updatemenus\":[{\"buttons\":[{\"args\":[{\"visible\":[true,true,true,true,false,false,false,false,false,false,false,false,false,false,false,false]},{\"title\":\"Polar Bar Chart \\u2013 Nb d'accidents graves (Hiver)\",\"polar.radialaxis.range\":[0,359]}],\"label\":\"Hiver\",\"method\":\"update\"},{\"args\":[{\"visible\":[false,false,false,false,true,true,true,true,false,false,false,false,false,false,false,false]},{\"title\":\"Polar Bar Chart \\u2013 Nb d'accidents graves (Printemps)\",\"polar.radialaxis.range\":[0,1514]}],\"label\":\"Printemps\",\"method\":\"update\"},{\"args\":[{\"visible\":[false,false,false,false,false,false,false,false,true,true,true,true,false,false,false,false]},{\"title\":\"Polar Bar Chart \\u2013 Nb d'accidents graves (\\u00c9t\\u00e9)\",\"polar.radialaxis.range\":[0,2342]}],\"label\":\"\\u00c9t\\u00e9\",\"method\":\"update\"},{\"args\":[{\"visible\":[false,false,false,false,false,false,false,false,false,false,false,false,true,true,true,true]},{\"title\":\"Polar Bar Chart \\u2013 Nb d'accidents graves (Automne)\",\"polar.radialaxis.range\":[0,1051]}],\"label\":\"Automne\",\"method\":\"update\"}],\"direction\":\"right\",\"showactive\":true,\"type\":\"buttons\",\"x\":0.5,\"xanchor\":\"center\",\"y\":-0.2,\"yanchor\":\"top\"}]},                        {\"responsive\": true}                    ).then(function(){\n",
       "                            \n",
       "var gd = document.getElementById('58c94446-87bb-4fb7-bb88-7f26a70834d8');\n",
       "var x = new MutationObserver(function (mutations, observer) {{\n",
       "        var display = window.getComputedStyle(gd).display;\n",
       "        if (!display || display === 'none') {{\n",
       "            console.log([gd, 'removed!']);\n",
       "            Plotly.purge(gd);\n",
       "            observer.disconnect();\n",
       "        }}\n",
       "}});\n",
       "\n",
       "// Listen for the removal of the full notebook cells\n",
       "var notebookContainer = gd.closest('#notebook-container');\n",
       "if (notebookContainer) {{\n",
       "    x.observe(notebookContainer, {childList: true});\n",
       "}}\n",
       "\n",
       "// Listen for the clearing of the current output cell\n",
       "var outputEl = gd.closest('.output');\n",
       "if (outputEl) {{\n",
       "    x.observe(outputEl, {childList: true});\n",
       "}}\n",
       "\n",
       "                        })                };                });            </script>        </div>"
      ]
     },
     "metadata": {},
     "output_type": "display_data"
    }
   ],
   "source": [
    "import plotly.graph_objects as go\n",
    "import pandas as pd\n",
    "\n",
    "# Étape 0 : Chargement et préparation des données\n",
    "df = pd.read_csv('data_fusionnee.csv')\n",
    "\n",
    "# Étape 1 : Création des saisons\n",
    "df['MS_ACCDN'] = df['MS_ACCDN'].astype(int)\n",
    "\n",
    "def mois_vers_saison(mois):\n",
    "    if mois in [1, 2, 3]: return 'Hiver'\n",
    "    elif mois in [4, 5, 6]: return 'Printemps'\n",
    "    elif mois in [7, 8, 9]: return 'Été'\n",
    "    elif mois in [10, 11, 12]: return 'Automne'\n",
    "\n",
    "df['SAISON'] = df['MS_ACCDN'].apply(mois_vers_saison)\n",
    "\n",
    "# Étape 2: Différenciation entre les accidents considérés comme Grave\n",
    "df['Gravité'] = df['GRAVITE'].apply(lambda x: 'Grave' if x == 'Mortel ou grave' else 'Autre')\n",
    "\n",
    "# Étape 3: Définition des types de surfaces\n",
    "etat_surface_labels = [\n",
    "    \"Sec\", \"Mouillé\", \"Aquaplanage\", \"Sable/Gravier\", \"Neige fondante\",\n",
    "    \"Neige\", \"Neige durcie\", \"Glacé\", \"Boueux\", \"Autre\"\n",
    "]\n",
    "\n",
    "# Étape 4: Segmentation du disques par rapport au type de surface\n",
    "etat_surface_codes = [11, 12, 13, 14, 15, 16, 17, 18, 19, 99]\n",
    "theta = [i * (360 / len(etat_surface_codes)) for i in range(len(etat_surface_codes))]\n",
    "\n",
    "# Étape 5: Choix des couleurs pour les éclairements\n",
    "couleur_eclairement = {\n",
    "    1: \"#FFD700\",\n",
    "    2: \"#FFA500\",\n",
    "    3: \"#1E90FF\",\n",
    "    4: \"#2F4F4F\"\n",
    "}\n",
    "\n",
    "label_eclairement = {\n",
    "    1: \"Jour et clarté\",\n",
    "    2: \"Jour et demi-obscurité\",\n",
    "    3: \"Nuit et chemin éclairé\",\n",
    "    4: \"Nuit et chemin non éclairé\"\n",
    "}\n",
    "\n",
    "# Étape 6: Nettoyage au niveau de saison\n",
    "saisons = df['SAISON'].dropna().unique().tolist()\n",
    "\n",
    "# Étape 7: Conception de la figure\n",
    "fig = go.Figure()\n",
    "traces = []\n",
    "\n",
    "# Dictionnaire des max par saison\n",
    "max_par_saison = {}\n",
    "\n",
    "for saison in saisons:\n",
    "    saison_df = df[(df['SAISON'] == saison) & (df['Gravité'] == 'Grave')]\n",
    "\n",
    "    # Calcul du total d'accidents graves par surface (tous éclairages confondus)\n",
    "    total_par_surface = saison_df.groupby('CD_ETAT_SURFC').size()\n",
    "    saison_max = total_par_surface.max()\n",
    "    max_par_saison[saison] = saison_max + int(0.05 * saison_max)\n",
    "\n",
    "    for eclairement in [1, 2, 3, 4]:\n",
    "        subset = saison_df[saison_df['CD_ECLRM'] == eclairement]\n",
    "        counts = subset.groupby('CD_ETAT_SURFC').size().reset_index(name='Nb Accidents Graves')\n",
    "\n",
    "        r_vals = []\n",
    "        hover_texts = []\n",
    "\n",
    "        for code, label in zip(etat_surface_codes, etat_surface_labels):\n",
    "            if code in counts['CD_ETAT_SURFC'].values:\n",
    "                n_accidents = counts[counts['CD_ETAT_SURFC'] == code]['Nb Accidents Graves'].values[0]\n",
    "            else:\n",
    "                n_accidents = 0\n",
    "\n",
    "            r_vals.append(n_accidents)\n",
    "            hover_texts.append(\n",
    "                f\"Saison : {saison}<br>\"\n",
    "                f\"Surface : {label}<br>\"\n",
    "                f\"Éclairement : {label_eclairement[eclairement]}<br>\"\n",
    "                f\"Accidents graves : {n_accidents}\"\n",
    "            )\n",
    "\n",
    "        trace_visible = saison == saisons[0]\n",
    "\n",
    "        fig.add_trace(go.Barpolar(\n",
    "            r=r_vals,\n",
    "            theta=theta,\n",
    "            name=f'{saison} – {label_eclairement[eclairement]}',\n",
    "            marker_color=couleur_eclairement[eclairement],\n",
    "            opacity=0.85,\n",
    "            visible=trace_visible,\n",
    "            hovertext=hover_texts,\n",
    "            hoverinfo='text'\n",
    "        ))\n",
    "\n",
    "        traces.append((saison, eclairement))\n",
    "\n",
    "# Boutons avec mise à jour dynamique de l'échelle\n",
    "buttons = []\n",
    "for saison in saisons:\n",
    "    visibility = [s == saison for s, e in traces]\n",
    "    buttons.append(dict(\n",
    "        label=saison,\n",
    "        method=\"update\",\n",
    "        args=[\n",
    "            {\"visible\": visibility},\n",
    "            {\n",
    "                \"title\": f\"Polar Bar Chart – Nb d'accidents graves ({saison})\",\n",
    "                \"polar.radialaxis.range\": [0, max_par_saison[saison]]\n",
    "            }\n",
    "        ]\n",
    "    ))\n",
    "\n",
    "fig.update_layout(\n",
    "    title=f\"Polar Bar Chart – Nb d'accidents graves ({saisons[0]})\",\n",
    "    polar=dict(\n",
    "        radialaxis=dict(\n",
    "            visible=True,\n",
    "            range=[0, max_par_saison[saisons[0]]]\n",
    "        ),\n",
    "        angularaxis=dict(\n",
    "            tickmode='array',\n",
    "            tickvals=theta,\n",
    "            ticktext=etat_surface_labels,\n",
    "            rotation=90,\n",
    "            direction=\"clockwise\"\n",
    "        )\n",
    "    ),\n",
    "    legend_title=\"Éclairement\",\n",
    "    template=\"plotly_white\",\n",
    "    width=900,\n",
    "    height=800,\n",
    "    margin=dict(l=100, r=100, t=100, b=150),\n",
    "    updatemenus=[dict(\n",
    "        type=\"buttons\",\n",
    "        direction=\"right\",\n",
    "        x=0.5,\n",
    "        y=-0.2,\n",
    "        xanchor=\"center\",\n",
    "        yanchor=\"top\",\n",
    "        showactive=True,\n",
    "        buttons=buttons\n",
    "    )]\n",
    ")\n",
    "\n",
    "fig.show()\n"
   ]
  },
  {
   "cell_type": "code",
   "execution_count": null,
   "id": "326d52fd-02a0-48bd-89ef-577dbcc1d7ba",
   "metadata": {},
   "outputs": [],
   "source": []
  }
 ],
 "metadata": {
  "kernelspec": {
   "display_name": "Python 3 (ipykernel)",
   "language": "python",
   "name": "python3"
  },
  "language_info": {
   "codemirror_mode": {
    "name": "ipython",
    "version": 3
   },
   "file_extension": ".py",
   "mimetype": "text/x-python",
   "name": "python",
   "nbconvert_exporter": "python",
   "pygments_lexer": "ipython3",
   "version": "3.12.7"
  }
 },
 "nbformat": 4,
 "nbformat_minor": 5
}
